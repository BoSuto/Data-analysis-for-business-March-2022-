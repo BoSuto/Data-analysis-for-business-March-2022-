{
 "cells": [
  {
   "cell_type": "markdown",
   "id": "e3276a52",
   "metadata": {},
   "source": [
    "DATASETS\n",
    "\n",
    "\n",
    "1. Green growth indicators dataset (csv)\n",
    "2. Economic Outlook dataset (API)\n",
    "3. Historical population dataset (csv)\n"
   ]
  },
  {
   "cell_type": "code",
   "execution_count": 1,
   "id": "7f15313d",
   "metadata": {},
   "outputs": [],
   "source": [
    "import numpy as np\n",
    "import pandas as pd\n",
    "import seaborn as sns\n",
    "import matplotlib.pyplot as plt"
   ]
  },
  {
   "cell_type": "markdown",
   "id": "ffbb266a",
   "metadata": {},
   "source": [
    "PART ONE"
   ]
  },
  {
   "cell_type": "markdown",
   "id": "a1374c58",
   "metadata": {},
   "source": [
    "EXPLORING THE FIRST DATASET"
   ]
  },
  {
   "cell_type": "markdown",
   "id": "4eb79925",
   "metadata": {},
   "source": [
    "GREEN GROWTH:\n",
    "\n",
    "1. Importing and reviewing the dataset\n",
    "2. Selecting 3 variables\n",
    "3. Reviewing data for selected variables \n",
    "4. Reviewing selected variables for one country, Ireland"
   ]
  },
  {
   "cell_type": "code",
   "execution_count": 2,
   "id": "048b49e5",
   "metadata": {
    "scrolled": true
   },
   "outputs": [
    {
     "data": {
      "text/html": [
       "<div>\n",
       "<style scoped>\n",
       "    .dataframe tbody tr th:only-of-type {\n",
       "        vertical-align: middle;\n",
       "    }\n",
       "\n",
       "    .dataframe tbody tr th {\n",
       "        vertical-align: top;\n",
       "    }\n",
       "\n",
       "    .dataframe thead th {\n",
       "        text-align: right;\n",
       "    }\n",
       "</style>\n",
       "<table border=\"1\" class=\"dataframe\">\n",
       "  <thead>\n",
       "    <tr style=\"text-align: right;\">\n",
       "      <th></th>\n",
       "      <th>Country</th>\n",
       "      <th>VAR</th>\n",
       "      <th>Variable</th>\n",
       "      <th>YEA</th>\n",
       "      <th>Year</th>\n",
       "      <th>Unit Code</th>\n",
       "      <th>Unit</th>\n",
       "      <th>PowerCode Code</th>\n",
       "      <th>PowerCode</th>\n",
       "      <th>Reference Period Code</th>\n",
       "      <th>Reference Period</th>\n",
       "      <th>Value</th>\n",
       "      <th>Flag Codes</th>\n",
       "      <th>Flags</th>\n",
       "    </tr>\n",
       "    <tr>\n",
       "      <th>COU</th>\n",
       "      <th></th>\n",
       "      <th></th>\n",
       "      <th></th>\n",
       "      <th></th>\n",
       "      <th></th>\n",
       "      <th></th>\n",
       "      <th></th>\n",
       "      <th></th>\n",
       "      <th></th>\n",
       "      <th></th>\n",
       "      <th></th>\n",
       "      <th></th>\n",
       "      <th></th>\n",
       "      <th></th>\n",
       "    </tr>\n",
       "  </thead>\n",
       "  <tbody>\n",
       "    <tr>\n",
       "      <th>AUS</th>\n",
       "      <td>Australia</td>\n",
       "      <td>CO2_PBPROD</td>\n",
       "      <td>Production-based CO2 productivity, GDP per uni...</td>\n",
       "      <td>1990</td>\n",
       "      <td>1990</td>\n",
       "      <td>USD_KG</td>\n",
       "      <td>US dollars per kilogram</td>\n",
       "      <td>0</td>\n",
       "      <td>Units</td>\n",
       "      <td>2015</td>\n",
       "      <td>2015</td>\n",
       "      <td>1.961928</td>\n",
       "      <td>NaN</td>\n",
       "      <td>NaN</td>\n",
       "    </tr>\n",
       "    <tr>\n",
       "      <th>AUS</th>\n",
       "      <td>Australia</td>\n",
       "      <td>CO2_PBPROD</td>\n",
       "      <td>Production-based CO2 productivity, GDP per uni...</td>\n",
       "      <td>1995</td>\n",
       "      <td>1995</td>\n",
       "      <td>USD_KG</td>\n",
       "      <td>US dollars per kilogram</td>\n",
       "      <td>0</td>\n",
       "      <td>Units</td>\n",
       "      <td>2015</td>\n",
       "      <td>2015</td>\n",
       "      <td>2.091676</td>\n",
       "      <td>NaN</td>\n",
       "      <td>NaN</td>\n",
       "    </tr>\n",
       "    <tr>\n",
       "      <th>AUS</th>\n",
       "      <td>Australia</td>\n",
       "      <td>CO2_PBPROD</td>\n",
       "      <td>Production-based CO2 productivity, GDP per uni...</td>\n",
       "      <td>2000</td>\n",
       "      <td>2000</td>\n",
       "      <td>USD_KG</td>\n",
       "      <td>US dollars per kilogram</td>\n",
       "      <td>0</td>\n",
       "      <td>Units</td>\n",
       "      <td>2015</td>\n",
       "      <td>2015</td>\n",
       "      <td>2.156981</td>\n",
       "      <td>NaN</td>\n",
       "      <td>NaN</td>\n",
       "    </tr>\n",
       "    <tr>\n",
       "      <th>AUS</th>\n",
       "      <td>Australia</td>\n",
       "      <td>CO2_PBPROD</td>\n",
       "      <td>Production-based CO2 productivity, GDP per uni...</td>\n",
       "      <td>2010</td>\n",
       "      <td>2010</td>\n",
       "      <td>USD_KG</td>\n",
       "      <td>US dollars per kilogram</td>\n",
       "      <td>0</td>\n",
       "      <td>Units</td>\n",
       "      <td>2015</td>\n",
       "      <td>2015</td>\n",
       "      <td>2.556194</td>\n",
       "      <td>NaN</td>\n",
       "      <td>NaN</td>\n",
       "    </tr>\n",
       "    <tr>\n",
       "      <th>AUS</th>\n",
       "      <td>Australia</td>\n",
       "      <td>CO2_PBPROD</td>\n",
       "      <td>Production-based CO2 productivity, GDP per uni...</td>\n",
       "      <td>2015</td>\n",
       "      <td>2015</td>\n",
       "      <td>USD_KG</td>\n",
       "      <td>US dollars per kilogram</td>\n",
       "      <td>0</td>\n",
       "      <td>Units</td>\n",
       "      <td>2015</td>\n",
       "      <td>2015</td>\n",
       "      <td>3.020283</td>\n",
       "      <td>NaN</td>\n",
       "      <td>NaN</td>\n",
       "    </tr>\n",
       "  </tbody>\n",
       "</table>\n",
       "</div>"
      ],
      "text/plain": [
       "       Country         VAR                                           Variable  \\\n",
       "COU                                                                             \n",
       "AUS  Australia  CO2_PBPROD  Production-based CO2 productivity, GDP per uni...   \n",
       "AUS  Australia  CO2_PBPROD  Production-based CO2 productivity, GDP per uni...   \n",
       "AUS  Australia  CO2_PBPROD  Production-based CO2 productivity, GDP per uni...   \n",
       "AUS  Australia  CO2_PBPROD  Production-based CO2 productivity, GDP per uni...   \n",
       "AUS  Australia  CO2_PBPROD  Production-based CO2 productivity, GDP per uni...   \n",
       "\n",
       "      YEA  Year Unit Code                     Unit  PowerCode Code PowerCode  \\\n",
       "COU                                                                            \n",
       "AUS  1990  1990    USD_KG  US dollars per kilogram               0     Units   \n",
       "AUS  1995  1995    USD_KG  US dollars per kilogram               0     Units   \n",
       "AUS  2000  2000    USD_KG  US dollars per kilogram               0     Units   \n",
       "AUS  2010  2010    USD_KG  US dollars per kilogram               0     Units   \n",
       "AUS  2015  2015    USD_KG  US dollars per kilogram               0     Units   \n",
       "\n",
       "    Reference Period Code Reference Period     Value Flag Codes Flags  \n",
       "COU                                                                    \n",
       "AUS                  2015             2015  1.961928        NaN   NaN  \n",
       "AUS                  2015             2015  2.091676        NaN   NaN  \n",
       "AUS                  2015             2015  2.156981        NaN   NaN  \n",
       "AUS                  2015             2015  2.556194        NaN   NaN  \n",
       "AUS                  2015             2015  3.020283        NaN   NaN  "
      ]
     },
     "execution_count": 2,
     "metadata": {},
     "output_type": "execute_result"
    }
   ],
   "source": [
    "green_growth = pd.read_csv(\"GreenGrowth_OECD.csv\", index_col = 0)\n",
    "green_growth.head()"
   ]
  },
  {
   "cell_type": "code",
   "execution_count": 3,
   "id": "9f49817f",
   "metadata": {
    "scrolled": true
   },
   "outputs": [
    {
     "data": {
      "text/html": [
       "<div>\n",
       "<style scoped>\n",
       "    .dataframe tbody tr th:only-of-type {\n",
       "        vertical-align: middle;\n",
       "    }\n",
       "\n",
       "    .dataframe tbody tr th {\n",
       "        vertical-align: top;\n",
       "    }\n",
       "\n",
       "    .dataframe thead th {\n",
       "        text-align: right;\n",
       "    }\n",
       "</style>\n",
       "<table border=\"1\" class=\"dataframe\">\n",
       "  <thead>\n",
       "    <tr style=\"text-align: right;\">\n",
       "      <th></th>\n",
       "      <th>YEA</th>\n",
       "      <th>Year</th>\n",
       "      <th>PowerCode Code</th>\n",
       "      <th>Value</th>\n",
       "    </tr>\n",
       "  </thead>\n",
       "  <tbody>\n",
       "    <tr>\n",
       "      <th>count</th>\n",
       "      <td>143260.000000</td>\n",
       "      <td>143260.000000</td>\n",
       "      <td>143260.000000</td>\n",
       "      <td>1.432600e+05</td>\n",
       "    </tr>\n",
       "    <tr>\n",
       "      <th>mean</th>\n",
       "      <td>2010.670739</td>\n",
       "      <td>2010.670739</td>\n",
       "      <td>0.181223</td>\n",
       "      <td>4.011952e+06</td>\n",
       "    </tr>\n",
       "    <tr>\n",
       "      <th>std</th>\n",
       "      <td>9.876944</td>\n",
       "      <td>9.876944</td>\n",
       "      <td>1.026890</td>\n",
       "      <td>1.053445e+09</td>\n",
       "    </tr>\n",
       "    <tr>\n",
       "      <th>min</th>\n",
       "      <td>1990.000000</td>\n",
       "      <td>1990.000000</td>\n",
       "      <td>0.000000</td>\n",
       "      <td>-5.059876e+03</td>\n",
       "    </tr>\n",
       "    <tr>\n",
       "      <th>25%</th>\n",
       "      <td>2000.000000</td>\n",
       "      <td>2000.000000</td>\n",
       "      <td>0.000000</td>\n",
       "      <td>1.276220e+00</td>\n",
       "    </tr>\n",
       "    <tr>\n",
       "      <th>50%</th>\n",
       "      <td>2016.000000</td>\n",
       "      <td>2016.000000</td>\n",
       "      <td>0.000000</td>\n",
       "      <td>1.189200e+01</td>\n",
       "    </tr>\n",
       "    <tr>\n",
       "      <th>75%</th>\n",
       "      <td>2018.000000</td>\n",
       "      <td>2018.000000</td>\n",
       "      <td>0.000000</td>\n",
       "      <td>6.515363e+01</td>\n",
       "    </tr>\n",
       "    <tr>\n",
       "      <th>max</th>\n",
       "      <td>2021.000000</td>\n",
       "      <td>2021.000000</td>\n",
       "      <td>6.000000</td>\n",
       "      <td>3.217270e+11</td>\n",
       "    </tr>\n",
       "  </tbody>\n",
       "</table>\n",
       "</div>"
      ],
      "text/plain": [
       "                 YEA           Year  PowerCode Code         Value\n",
       "count  143260.000000  143260.000000   143260.000000  1.432600e+05\n",
       "mean     2010.670739    2010.670739        0.181223  4.011952e+06\n",
       "std         9.876944       9.876944        1.026890  1.053445e+09\n",
       "min      1990.000000    1990.000000        0.000000 -5.059876e+03\n",
       "25%      2000.000000    2000.000000        0.000000  1.276220e+00\n",
       "50%      2016.000000    2016.000000        0.000000  1.189200e+01\n",
       "75%      2018.000000    2018.000000        0.000000  6.515363e+01\n",
       "max      2021.000000    2021.000000        6.000000  3.217270e+11"
      ]
     },
     "execution_count": 3,
     "metadata": {},
     "output_type": "execute_result"
    }
   ],
   "source": [
    "green_growth.describe()"
   ]
  },
  {
   "cell_type": "code",
   "execution_count": 4,
   "id": "6a6b7fa6",
   "metadata": {},
   "outputs": [
    {
     "data": {
      "text/plain": [
       "Index(['Country', 'VAR', 'Variable', 'YEA', 'Year', 'Unit Code', 'Unit',\n",
       "       'PowerCode Code', 'PowerCode', 'Reference Period Code',\n",
       "       'Reference Period', 'Value', 'Flag Codes', 'Flags'],\n",
       "      dtype='object')"
      ]
     },
     "execution_count": 4,
     "metadata": {},
     "output_type": "execute_result"
    }
   ],
   "source": [
    "green_growth.columns"
   ]
  },
  {
   "cell_type": "code",
   "execution_count": 5,
   "id": "b54beebf",
   "metadata": {},
   "outputs": [
    {
     "name": "stdout",
     "output_type": "stream",
     "text": [
      "<class 'pandas.core.frame.DataFrame'>\n",
      "Index: 143260 entries, AUS to MHL\n",
      "Data columns (total 14 columns):\n",
      " #   Column                 Non-Null Count   Dtype  \n",
      "---  ------                 --------------   -----  \n",
      " 0   Country                143260 non-null  object \n",
      " 1   VAR                    143260 non-null  object \n",
      " 2   Variable               143260 non-null  object \n",
      " 3   YEA                    143260 non-null  int64  \n",
      " 4   Year                   143260 non-null  int64  \n",
      " 5   Unit Code              129641 non-null  object \n",
      " 6   Unit                   129641 non-null  object \n",
      " 7   PowerCode Code         143260 non-null  int64  \n",
      " 8   PowerCode              143260 non-null  object \n",
      " 9   Reference Period Code  21206 non-null   object \n",
      " 10  Reference Period       21206 non-null   object \n",
      " 11  Value                  143260 non-null  float64\n",
      " 12  Flag Codes             26069 non-null   object \n",
      " 13  Flags                  26069 non-null   object \n",
      "dtypes: float64(1), int64(3), object(10)\n",
      "memory usage: 16.4+ MB\n"
     ]
    }
   ],
   "source": [
    "green_growth.info()"
   ]
  },
  {
   "cell_type": "code",
   "execution_count": 6,
   "id": "4c02b423",
   "metadata": {
    "scrolled": true
   },
   "outputs": [
    {
     "data": {
      "text/plain": [
       "COU\n",
       "AUS    Production-based CO2 productivity, GDP per uni...\n",
       "AUS    Production-based CO2 productivity, GDP per uni...\n",
       "AUS    Production-based CO2 productivity, GDP per uni...\n",
       "AUS    Production-based CO2 productivity, GDP per uni...\n",
       "AUS    Production-based CO2 productivity, GDP per uni...\n",
       "                             ...                        \n",
       "MHL                                    Biomass, % of DMC\n",
       "MHL                                    Biomass, % of DMC\n",
       "MHL                                    Biomass, % of DMC\n",
       "MHL                                    Biomass, % of DMC\n",
       "MHL                                    Biomass, % of DMC\n",
       "Name: Variable, Length: 143260, dtype: object"
      ]
     },
     "execution_count": 6,
     "metadata": {},
     "output_type": "execute_result"
    }
   ],
   "source": [
    "green_growth['Variable']"
   ]
  },
  {
   "cell_type": "code",
   "execution_count": 7,
   "id": "1b2b92ef",
   "metadata": {
    "scrolled": true
   },
   "outputs": [
    {
     "data": {
      "text/plain": [
       "Population density, inhabitants per km2                     2437\n",
       "Population                                                  2300\n",
       "Annual surface temperature, change since 1951-1980          2243\n",
       "Nominal exchange rate                                       2236\n",
       "GDP deflator                                                2170\n",
       "                                                            ... \n",
       "Threatened bird species, % total known species                71\n",
       "Threatened vascular plant species, % total known species      69\n",
       "Threatened mammal species, % total known species              67\n",
       "Total renewable freshwater per capita                         42\n",
       "Environmentally related R&D expenditure, % GDP                39\n",
       "Name: Variable, Length: 159, dtype: int64"
      ]
     },
     "execution_count": 7,
     "metadata": {},
     "output_type": "execute_result"
    }
   ],
   "source": [
    "green_growth.Variable.value_counts()"
   ]
  },
  {
   "cell_type": "code",
   "execution_count": 8,
   "id": "fe5cb715",
   "metadata": {},
   "outputs": [
    {
     "data": {
      "text/plain": [
       "Denmark              1182\n",
       "Japan                1180\n",
       "France               1177\n",
       "Netherlands          1171\n",
       "Norway               1165\n",
       "                     ... \n",
       "Saint Martin           57\n",
       "Saint Barthélemy       51\n",
       "Antarctica             42\n",
       "Bonaire                22\n",
       "Clipperton Island      22\n",
       "Name: Country, Length: 237, dtype: int64"
      ]
     },
     "execution_count": 8,
     "metadata": {},
     "output_type": "execute_result"
    }
   ],
   "source": [
    "green_growth.Country.value_counts()"
   ]
  },
  {
   "cell_type": "code",
   "execution_count": 9,
   "id": "2f1f8656",
   "metadata": {
    "scrolled": false
   },
   "outputs": [
    {
     "name": "stdout",
     "output_type": "stream",
     "text": [
      "['Australia' 'Austria' 'Belgium' 'Canada' 'Czech Republic' 'Denmark'\n",
      " 'Finland' 'France' 'Germany' 'Greece' 'Hungary' 'Iceland' 'Ireland'\n",
      " 'Italy' 'Japan' 'Korea' 'Luxembourg' 'Mexico' 'Netherlands' 'New Zealand'\n",
      " 'Norway' 'Poland' 'Portugal' 'Slovak Republic' 'Spain' 'Sweden'\n",
      " 'Switzerland' 'Turkey' 'United Kingdom' 'United States' 'Brazil' 'Chile'\n",
      " \"China (People's Republic of)\" 'Colombia' 'Estonia' 'India' 'Indonesia'\n",
      " 'Israel' 'Latvia' 'Russia' 'Slovenia' 'South Africa' 'World'\n",
      " 'BRIICS economies - Brazil, Russia, India, Indonesia, China and South Africa'\n",
      " 'OECD - Total' 'OECD - Europe' 'OECD America' 'OECD Asia Oceania'\n",
      " 'Saudi Arabia' 'Argentina' 'Costa Rica' 'Lithuania' 'Iran' 'Jordan'\n",
      " 'Brunei Darussalam' 'Turkmenistan' 'Azerbaijan' \"Côte d'Ivoire\" 'Algeria'\n",
      " 'Philippines' 'Viet Nam' 'Egypt' 'Thailand' 'Bolivia'\n",
      " 'Dominican Republic' 'Panama' 'Peru' 'Lebanon' 'Nicaragua' 'Morocco'\n",
      " 'Ukraine' 'Haiti' 'Bulgaria' 'Croatia' 'Guatemala' 'Cambodia' 'Paraguay'\n",
      " 'Iraq' 'Georgia' 'Tunisia' 'Jamaica' 'El Salvador' 'Romania' 'Rwanda'\n",
      " 'Bahrain' 'Cuba' 'Honduras' 'United Arab Emirates' 'Libya'\n",
      " \"Lao People's Democratic Republic\" 'Uzbekistan' 'Oman'\n",
      " 'Syrian Arab Republic' 'Kuwait' 'Malaysia' 'Myanmar' 'Kyrgyzstan'\n",
      " 'Djibouti' 'Moldova' 'Tajikistan' 'Qatar' 'Belarus' 'Puerto Rico'\n",
      " 'Singapore' 'Uruguay' 'Armenia' 'Kazakhstan' 'Malta' 'Ecuador'\n",
      " 'Trinidad and Tobago' 'Venezuela' 'Senegal' 'Cameroon' 'Yemen' 'G20' 'G7'\n",
      " 'Eastern Europe, Caucasus and Central Asia' 'Latin America and Caribbean'\n",
      " 'Middle East and North Africa' 'Belize' 'Uganda' 'Mozambique' 'Tanzania'\n",
      " 'Cabo Verde' 'Togo' 'Nigeria' 'Benin' 'Serbia' 'Zimbabwe' 'Pakistan'\n",
      " 'Niger' 'Cyprus' 'Bahamas' 'Zambia' 'Mauritius' 'Albania' 'Botswana'\n",
      " 'Congo' 'Democratic Republic of the Congo' 'Eritrea' 'Ethiopia' 'Gabon'\n",
      " 'Ghana' 'Kenya' 'North Macedonia' 'Mongolia' 'Namibia'\n",
      " 'European Union (28 countries)' 'Monaco' 'Tuvalu' 'Barbados' 'Bhutan'\n",
      " 'Central African Republic' 'Sierra Leone' 'Tonga' 'Eswatini' 'Gambia'\n",
      " 'Burkina Faso' 'Antigua and Barbuda' 'Kiribati' 'Liechtenstein'\n",
      " 'Bangladesh' 'Burundi' 'Sri Lanka' 'Maldives' 'Sao Tome and Principe'\n",
      " 'Bosnia and Herzegovina' 'Turks and Caicos Islands' 'Palau'\n",
      " 'Equatorial Guinea' 'Somalia' 'Chad' 'Montenegro' 'Montserrat'\n",
      " 'Mauritania' 'Guinea' 'Lesotho' 'Vanuatu' 'Liberia' 'Andorra' 'Suriname'\n",
      " 'Samoa' 'Euro area (19 countries)' 'Micronesia' 'Mali' 'Solomon Islands'\n",
      " 'American Samoa' 'Afghanistan' 'San Marino' 'Madagascar'\n",
      " 'Papua New Guinea' 'Seychelles' 'ASEAN' 'Angola' 'Bermuda' 'Aruba'\n",
      " 'Tokelau' 'Anguilla' 'Antarctica' 'Malawi' 'Nauru' 'Martinique' 'Mayotte'\n",
      " 'Fiji' 'Saint Pierre and Miquelon' 'United States Virgin Islands'\n",
      " 'New Caledonia' 'Cook Islands' 'Dominica' 'Faeroe Islands' 'Jersey'\n",
      " 'Niue' 'South Sudan ' 'Cayman Islands' 'Saint Barthélemy'\n",
      " 'Marshall Islands' 'Wallis and Futuna' 'Norfolk Island'\n",
      " 'Saint Vincent and the Grenadines' 'Guyana' 'Sudan'\n",
      " 'Saint Kitts and Nevis' 'Comoros' 'Clipperton Island' 'Saint Helena'\n",
      " 'Northern Mariana Islands' 'Timor-Leste' 'British Virgin Islands'\n",
      " 'Guinea-Bissau' 'Curacao' 'Saint Lucia' 'Netherlands Antilles' 'Bonaire'\n",
      " 'Christmas Islands' 'Saint Martin' 'Sint Maarten'\n",
      " 'European Union – 27 countries (from 01/02/2020)']\n"
     ]
    }
   ],
   "source": [
    "unique_countries = green_growth[\"Country\"].unique()\n",
    "print(unique_countries)"
   ]
  },
  {
   "cell_type": "code",
   "execution_count": 10,
   "id": "7e949621",
   "metadata": {},
   "outputs": [
    {
     "name": "stdout",
     "output_type": "stream",
     "text": [
      "['Production-based CO2 productivity, GDP per unit of energy-related CO2 emissions'\n",
      " 'Production-based CO2 intensity, energy-related CO2 per capita'\n",
      " 'Energy productivity,  GDP per unit of TPES'\n",
      " 'Energy intensity, TPES per capita'\n",
      " 'Renewable energy supply, % total energy supply'\n",
      " 'Renewable electricity, % total electricity generation'\n",
      " 'Total freshwater abstraction per capita'\n",
      " 'Water stress, total freshwater abstraction as % total available renewable resources'\n",
      " 'Water stress, total freshwater abstraction as % total internal renewable resources'\n",
      " 'Threatened mammal species, % total known species'\n",
      " 'Threatened bird species, % total known species'\n",
      " 'Threatened vascular plant species, % total known species'\n",
      " 'Population connected to public sewerage, % total population'\n",
      " 'Environmentally related government R&D budget, % total government R&D'\n",
      " 'Environmentally related R&D expenditure, % GDP'\n",
      " 'Renewable energy public RD&D budget, % total energy public RD&D'\n",
      " 'Energy public RD&D budget, % GDP'\n",
      " 'Development of environment-related technologies, % all technologies'\n",
      " 'Development of environment-related technologies, % inventions worldwide'\n",
      " 'Development of environment-related technologies, inventions per capita'\n",
      " 'Environmentally related ODA, % total ODA'\n",
      " 'ODA - renewable energy sector, % total allocable ODA'\n",
      " 'ODA - water supply and sanitation sector, % total allocable ODA'\n",
      " 'ODA - all sectors - biodiversity, % total ODA'\n",
      " 'ODA - all sectors - climate change mitigation, % total ODA'\n",
      " 'ODA - all sectors - climate change adaptation, % total ODA'\n",
      " 'ODA - all sectors - desertification, % total ODA'\n",
      " 'Net ODA provided, % GNI' 'Environmentally related taxes, % GDP'\n",
      " 'Environmentally related taxes, % total tax revenue'\n",
      " 'Energy related tax revenue, % total environmental tax revenue'\n",
      " 'Road transport-related tax revenue, % total environmental tax revenue'\n",
      " 'Real GDP per capita' 'Population density, inhabitants per km2'\n",
      " 'Labour tax revenue, % GDP'\n",
      " 'Population connected to sewerage with primary treatment, % total population'\n",
      " 'Population connected to sewerage with secondary treatment, % total population'\n",
      " 'Population connected to sewerage with tertiary treatment, % total population'\n",
      " 'Demand-based CO2 productivity, GDP per unit of energy-related CO2 emissions'\n",
      " 'Demand-based CO2 productivity, disposable income per unit of energy-related CO2 emissions'\n",
      " 'Relative advantage in environment-related technology'\n",
      " 'Total primary energy supply' 'Petrol tax, USD per litre'\n",
      " 'Value added in industry, % of total value added'\n",
      " 'Value added in services, % of total value added'\n",
      " 'Production-based CO2 emissions'\n",
      " 'Municipal waste recycled or composted, % treated waste '\n",
      " 'ODA - environment sector, % total allocable ODA'\n",
      " 'Demand-based CO2 emissions' 'Diesel tax, USD per litre'\n",
      " 'Value added in agriculture, % of total value added'\n",
      " 'Municipal waste incinerated, % treated waste'\n",
      " 'Demand-based CO2 intensity, energy-related CO2 per capita'\n",
      " 'Fossil fuel consumer support, % energy related tax revenue'\n",
      " 'Biomass, % of DMC' 'Real GDP, Index 2000=100'\n",
      " 'Demand-based CO2 emissions, index 2000=100'\n",
      " 'Municipal waste generated, kg per capita'\n",
      " 'Total primary energy supply, index 2000=100'\n",
      " 'Fossil fuel consumer support, % total tax revenue'\n",
      " 'Production-based CO2 emissions, index 2000=100'\n",
      " 'Non-energy material productivity, GDP per unit of DMC'\n",
      " 'Municipal waste disposed to landfills, % treated waste'\n",
      " 'Adjustment for pollution abatement'\n",
      " 'Percentage of population exposed to more than 35 micrograms/m3'\n",
      " 'Percentage of population exposed to more than 10 micrograms/m3'\n",
      " 'Mean population exposure to PM2.5' 'Contribution of natural capital'\n",
      " 'Environmentally adjusted multifactor productivity growth'\n",
      " 'Petroleum support, % total fossil fuel support' 'Metals, % of DMC'\n",
      " 'Energy consumption in transport, % total energy consumption'\n",
      " 'Population with access to improved sanitation, % total population'\n",
      " 'Fossil fuel consumer support, % total fossil fuel support'\n",
      " 'Energy consumption in other sectors, % total energy consumption'\n",
      " 'Energy consumption in services, % total energy consumption'\n",
      " 'Intensity of use of forest resources'\n",
      " 'Total fossil fuel support, % of total tax revenue'\n",
      " 'Mortality from exposure to ambient PM2.5'\n",
      " 'Total renewable freshwater per capita'\n",
      " 'Fossil fuel producer support, % total fossil fuel support'\n",
      " 'Phosphorus balance per hectare'\n",
      " 'Coal support, % total fossil fuel support'\n",
      " 'Energy consumption in industry, % total energy consumption'\n",
      " 'Energy consumption in agriculture, % total energy consumption'\n",
      " 'Gas support, % total fossil fuel support' 'Nitrogen balance per hectare'\n",
      " 'Labour tax revenue, % total tax revenue'\n",
      " 'Non-metallic minerals, % of DMC'\n",
      " 'Population with access to improved drinking water sources, % total population '\n",
      " 'Forest resource stocks'\n",
      " 'Fossil fuel general services support, % total fossil fuel support'\n",
      " 'Fossil fuel public RD&D budget (excluding CCS), % total energy public RD&D'\n",
      " 'Loss of natural and semi-natural vegetated land, % since 1992'\n",
      " 'Conversion of permanent water to not-water surface, % permanent water, since 1984'\n",
      " 'Gain of natural and semi-natural vegetated land, % since 2004'\n",
      " 'Built up area per capita'\n",
      " 'Loss of natural and semi-natural vegetated land, % since 2004'\n",
      " 'Conversion from cropland to artificial surfaces, % since 1992'\n",
      " 'Conversion from natural and semi-natural land to cropland, % since 1992'\n",
      " 'Water, % total' 'Bare land, % total' 'Artificial surfaces, % total '\n",
      " 'Conversion from natural and semi-natural land to artificial surfaces, % since 1992'\n",
      " 'Permanent surface water, % total surface'\n",
      " 'Seasonal surface water, % total surface '\n",
      " 'Natural and semi-natural vegetated land, % total'\n",
      " 'Built up area, % total land'\n",
      " 'Conversion of permanent to seasonal water surface, % permanent water, since 1984'\n",
      " 'Cropland, % total'\n",
      " 'Gain of natural and semi-natural vegetated land, % since 1992'\n",
      " 'Conversion of not-water to permanent water surface, % permanent water, since 1984'\n",
      " 'Welfare costs of premature mortalities from exposure to ambient PM2.5, GDP equivalent'\n",
      " 'Conversion of seasonal to permanent water surface, % permanent water, since 1984'\n",
      " 'New built up area, % since 1990' 'Mortality from exposure to lead'\n",
      " 'Welfare costs of premature deaths from exposure to ambient ozone, GDP equivalent'\n",
      " 'Diesel end-user price, USD per litre'\n",
      " 'Welfare costs of premature deaths from exposure to lead, GDP equivalent'\n",
      " 'Mortality from exposure to ambient ozone'\n",
      " 'Mean feed-in tariff for solar PV electricity generation'\n",
      " 'Petrol end-user price, USD per litre'\n",
      " 'Mean feed-in tariff for wind electricity generation'\n",
      " 'Welfare costs of premature mortalities from exposure to residential radon, GDP equivalent'\n",
      " 'Mortality from exposure to residential radon'\n",
      " 'Industry electricity price, USD per kWh'\n",
      " 'Residential electricity price, USD per kWh'\n",
      " 'Total fertility rate, children per woman' 'Life expectancy at birth'\n",
      " 'Population, ages 15-64, % total'\n",
      " 'CO2 emissions from air transport per unit of GDP' 'Population'\n",
      " 'Annual surface temperature, change since 1951-1980'\n",
      " 'National expenditure on environmental protection, % GDP'\n",
      " 'Population, ages 65 and above, % total'\n",
      " 'Irrigated land, % agricultural land'\n",
      " 'Sales of pesticides per unit of agricultural land'\n",
      " 'Intact forest landscape, km2' 'Women, % total population'\n",
      " 'Population, ages 0-14, % total'\n",
      " 'Emissions priced above EUR 60 per tonne of CO2, % total emissions'\n",
      " 'CO2 emissions from air transport per capita' 'Net migration'\n",
      " 'Terrestrial protected area, % land area'\n",
      " 'Emissions priced above EUR 30 per tonne of CO2, % total emissions'\n",
      " 'Farmland Birds Index, 2000=100'\n",
      " 'Marine protected area, % total exclusive economic zone'\n",
      " 'Intact forest landscape loss, % since 2000'\n",
      " 'Forest Birds Index, 2000=100'\n",
      " 'Electricity support, % total fossil fuel support'\n",
      " 'CO2 intensity of GDP, CO2 emissions per unit of GDP'\n",
      " 'Renewable energy supply (excluding solid biofuels), % total energy supply'\n",
      " 'Naturally regenerating forests, % total forest area'\n",
      " 'Forests with long-term management plans, % total forest area'\n",
      " 'GDP deflator' 'Nominal exchange rate' 'Purchasing power parity'\n",
      " 'Real GDP'\n",
      " 'Emissions priced above EUR 120 per tonne of CO2, % total emissions']\n"
     ]
    }
   ],
   "source": [
    "unique_variables = green_growth[\"Variable\"].unique()\n",
    "print(unique_variables)"
   ]
  },
  {
   "cell_type": "code",
   "execution_count": 11,
   "id": "a8a8fc1b",
   "metadata": {},
   "outputs": [
    {
     "name": "stdout",
     "output_type": "stream",
     "text": [
      "Country     Variable                                                                        \n",
      "Bhutan      Real GDP, Index 2000=100                                                            11\n",
      "Spain       Terrestrial protected area, % land area                                             11\n",
      "Costa Rica  Marine protected area, % total exclusive economic zone                              11\n",
      "Tanzania    Annual surface temperature, change since 1951-1980                                  11\n",
      "Belgium     Marine protected area, % total exclusive economic zone                              11\n",
      "                                                                                                ..\n",
      "Cyprus      Petrol tax, USD per litre                                                            1\n",
      "            Seasonal surface water, % total surface                                              1\n",
      "Mali        Conversion of seasonal to permanent water surface, % permanent water, since 1984     1\n",
      "Turkey      Conversion of seasonal to permanent water surface, % permanent water, since 1984     1\n",
      "Portugal    New built up area, % since 1990                                                      1\n",
      "Name: Value, Length: 20870, dtype: int64\n"
     ]
    }
   ],
   "source": [
    "grouped_variables=green_growth.groupby(['Country','Variable']).count()['Value'].sort_values(ascending=False)\n",
    "print(grouped_variables)"
   ]
  },
  {
   "cell_type": "code",
   "execution_count": 12,
   "id": "e2a205b6",
   "metadata": {},
   "outputs": [],
   "source": [
    "green_growth_significant=green_growth.groupby(['Country','Variable']).filter(lambda v: (v.Value.size >= 11))"
   ]
  },
  {
   "cell_type": "code",
   "execution_count": 13,
   "id": "84c387ba",
   "metadata": {},
   "outputs": [
    {
     "data": {
      "text/html": [
       "<div>\n",
       "<style scoped>\n",
       "    .dataframe tbody tr th:only-of-type {\n",
       "        vertical-align: middle;\n",
       "    }\n",
       "\n",
       "    .dataframe tbody tr th {\n",
       "        vertical-align: top;\n",
       "    }\n",
       "\n",
       "    .dataframe thead th {\n",
       "        text-align: right;\n",
       "    }\n",
       "</style>\n",
       "<table border=\"1\" class=\"dataframe\">\n",
       "  <thead>\n",
       "    <tr style=\"text-align: right;\">\n",
       "      <th></th>\n",
       "      <th>Country</th>\n",
       "      <th>VAR</th>\n",
       "      <th>Variable</th>\n",
       "      <th>YEA</th>\n",
       "      <th>Year</th>\n",
       "      <th>Unit Code</th>\n",
       "      <th>Unit</th>\n",
       "      <th>PowerCode Code</th>\n",
       "      <th>PowerCode</th>\n",
       "      <th>Reference Period Code</th>\n",
       "      <th>Reference Period</th>\n",
       "      <th>Value</th>\n",
       "      <th>Flag Codes</th>\n",
       "      <th>Flags</th>\n",
       "    </tr>\n",
       "    <tr>\n",
       "      <th>COU</th>\n",
       "      <th></th>\n",
       "      <th></th>\n",
       "      <th></th>\n",
       "      <th></th>\n",
       "      <th></th>\n",
       "      <th></th>\n",
       "      <th></th>\n",
       "      <th></th>\n",
       "      <th></th>\n",
       "      <th></th>\n",
       "      <th></th>\n",
       "      <th></th>\n",
       "      <th></th>\n",
       "      <th></th>\n",
       "    </tr>\n",
       "  </thead>\n",
       "  <tbody>\n",
       "    <tr>\n",
       "      <th>AUS</th>\n",
       "      <td>Australia</td>\n",
       "      <td>ENVRD_GBAORD</td>\n",
       "      <td>Environmentally related government R&amp;D budget,...</td>\n",
       "      <td>1990</td>\n",
       "      <td>1990</td>\n",
       "      <td>PC</td>\n",
       "      <td>Percentage</td>\n",
       "      <td>0</td>\n",
       "      <td>Units</td>\n",
       "      <td>NaN</td>\n",
       "      <td>NaN</td>\n",
       "      <td>3.115022</td>\n",
       "      <td>B</td>\n",
       "      <td>Break</td>\n",
       "    </tr>\n",
       "    <tr>\n",
       "      <th>AUS</th>\n",
       "      <td>Australia</td>\n",
       "      <td>ENVRD_GBAORD</td>\n",
       "      <td>Environmentally related government R&amp;D budget,...</td>\n",
       "      <td>1995</td>\n",
       "      <td>1995</td>\n",
       "      <td>PC</td>\n",
       "      <td>Percentage</td>\n",
       "      <td>0</td>\n",
       "      <td>Units</td>\n",
       "      <td>NaN</td>\n",
       "      <td>NaN</td>\n",
       "      <td>1.194272</td>\n",
       "      <td>B</td>\n",
       "      <td>Break</td>\n",
       "    </tr>\n",
       "    <tr>\n",
       "      <th>AUS</th>\n",
       "      <td>Australia</td>\n",
       "      <td>ENVRD_GBAORD</td>\n",
       "      <td>Environmentally related government R&amp;D budget,...</td>\n",
       "      <td>2000</td>\n",
       "      <td>2000</td>\n",
       "      <td>PC</td>\n",
       "      <td>Percentage</td>\n",
       "      <td>0</td>\n",
       "      <td>Units</td>\n",
       "      <td>NaN</td>\n",
       "      <td>NaN</td>\n",
       "      <td>2.950042</td>\n",
       "      <td>B</td>\n",
       "      <td>Break</td>\n",
       "    </tr>\n",
       "    <tr>\n",
       "      <th>AUS</th>\n",
       "      <td>Australia</td>\n",
       "      <td>ENVRD_GBAORD</td>\n",
       "      <td>Environmentally related government R&amp;D budget,...</td>\n",
       "      <td>2010</td>\n",
       "      <td>2010</td>\n",
       "      <td>PC</td>\n",
       "      <td>Percentage</td>\n",
       "      <td>0</td>\n",
       "      <td>Units</td>\n",
       "      <td>NaN</td>\n",
       "      <td>NaN</td>\n",
       "      <td>3.953611</td>\n",
       "      <td>B</td>\n",
       "      <td>Break</td>\n",
       "    </tr>\n",
       "    <tr>\n",
       "      <th>AUS</th>\n",
       "      <td>Australia</td>\n",
       "      <td>ENVRD_GBAORD</td>\n",
       "      <td>Environmentally related government R&amp;D budget,...</td>\n",
       "      <td>2015</td>\n",
       "      <td>2015</td>\n",
       "      <td>PC</td>\n",
       "      <td>Percentage</td>\n",
       "      <td>0</td>\n",
       "      <td>Units</td>\n",
       "      <td>NaN</td>\n",
       "      <td>NaN</td>\n",
       "      <td>3.828087</td>\n",
       "      <td>B</td>\n",
       "      <td>Break</td>\n",
       "    </tr>\n",
       "  </tbody>\n",
       "</table>\n",
       "</div>"
      ],
      "text/plain": [
       "       Country           VAR  \\\n",
       "COU                            \n",
       "AUS  Australia  ENVRD_GBAORD   \n",
       "AUS  Australia  ENVRD_GBAORD   \n",
       "AUS  Australia  ENVRD_GBAORD   \n",
       "AUS  Australia  ENVRD_GBAORD   \n",
       "AUS  Australia  ENVRD_GBAORD   \n",
       "\n",
       "                                              Variable   YEA  Year Unit Code  \\\n",
       "COU                                                                            \n",
       "AUS  Environmentally related government R&D budget,...  1990  1990        PC   \n",
       "AUS  Environmentally related government R&D budget,...  1995  1995        PC   \n",
       "AUS  Environmentally related government R&D budget,...  2000  2000        PC   \n",
       "AUS  Environmentally related government R&D budget,...  2010  2010        PC   \n",
       "AUS  Environmentally related government R&D budget,...  2015  2015        PC   \n",
       "\n",
       "           Unit  PowerCode Code PowerCode Reference Period Code  \\\n",
       "COU                                                               \n",
       "AUS  Percentage               0     Units                   NaN   \n",
       "AUS  Percentage               0     Units                   NaN   \n",
       "AUS  Percentage               0     Units                   NaN   \n",
       "AUS  Percentage               0     Units                   NaN   \n",
       "AUS  Percentage               0     Units                   NaN   \n",
       "\n",
       "    Reference Period     Value Flag Codes  Flags  \n",
       "COU                                               \n",
       "AUS              NaN  3.115022          B  Break  \n",
       "AUS              NaN  1.194272          B  Break  \n",
       "AUS              NaN  2.950042          B  Break  \n",
       "AUS              NaN  3.953611          B  Break  \n",
       "AUS              NaN  3.828087          B  Break  "
      ]
     },
     "execution_count": 13,
     "metadata": {},
     "output_type": "execute_result"
    }
   ],
   "source": [
    "green_growth_significant.head()"
   ]
  },
  {
   "cell_type": "code",
   "execution_count": 14,
   "id": "3e353b0a",
   "metadata": {
    "scrolled": true
   },
   "outputs": [
    {
     "name": "stdout",
     "output_type": "stream",
     "text": [
      "['Environmentally related government R&D budget, % total government R&D'\n",
      " 'Real GDP per capita' 'Population density, inhabitants per km2'\n",
      " 'Renewable energy public RD&D budget, % total energy public RD&D'\n",
      " 'Energy public RD&D budget, % GDP'\n",
      " 'Value added in services, % of total value added'\n",
      " 'Real GDP, Index 2000=100' 'Diesel tax, USD per litre'\n",
      " 'Petrol tax, USD per litre'\n",
      " 'Value added in industry, % of total value added'\n",
      " 'Value added in agriculture, % of total value added'\n",
      " 'Fossil fuel public RD&D budget (excluding CCS), % total energy public RD&D'\n",
      " 'Diesel end-user price, USD per litre'\n",
      " 'Petrol end-user price, USD per litre'\n",
      " 'Industry electricity price, USD per kWh'\n",
      " 'Residential electricity price, USD per kWh'\n",
      " 'Annual surface temperature, change since 1951-1980'\n",
      " 'Terrestrial protected area, % land area'\n",
      " 'Marine protected area, % total exclusive economic zone'\n",
      " 'Farmland Birds Index, 2000=100' 'Irrigated land, % agricultural land'\n",
      " 'GDP deflator' 'Nominal exchange rate' 'Purchasing power parity'\n",
      " 'Real GDP']\n"
     ]
    }
   ],
   "source": [
    "unique_variables_significant = green_growth_significant[\"Variable\"].unique()\n",
    "print(unique_variables_significant)"
   ]
  },
  {
   "cell_type": "code",
   "execution_count": 15,
   "id": "a60372f7",
   "metadata": {},
   "outputs": [
    {
     "name": "stdout",
     "output_type": "stream",
     "text": [
      "Variable\n",
      "Population density, inhabitants per km2                                       2013\n",
      "GDP deflator                                                                  1936\n",
      "Nominal exchange rate                                                         1914\n",
      "Purchasing power parity                                                       1837\n",
      "Annual surface temperature, change since 1951-1980                            1815\n",
      "Terrestrial protected area, % land area                                       1221\n",
      "Marine protected area, % total exclusive economic zone                        1045\n",
      "Real GDP, Index 2000=100                                                       990\n",
      "Real GDP per capita                                                            990\n",
      "Real GDP                                                                       990\n",
      "Value added in industry, % of total value added                                264\n",
      "Value added in agriculture, % of total value added                             264\n",
      "Value added in services, % of total value added                                264\n",
      "Diesel tax, USD per litre                                                      209\n",
      "Petrol tax, USD per litre                                                      198\n",
      "Environmentally related government R&D budget, % total government R&D           99\n",
      "Diesel end-user price, USD per litre                                            66\n",
      "Petrol end-user price, USD per litre                                            66\n",
      "Energy public RD&D budget, % GDP                                                44\n",
      "Fossil fuel public RD&D budget (excluding CCS), % total energy public RD&D      33\n",
      "Renewable energy public RD&D budget, % total energy public RD&D                 33\n",
      "Irrigated land, % agricultural land                                             22\n",
      "Industry electricity price, USD per kWh                                         11\n",
      "Farmland Birds Index, 2000=100                                                  11\n",
      "Residential electricity price, USD per kWh                                      11\n",
      "Name: Value, dtype: int64\n"
     ]
    }
   ],
   "source": [
    "main_variables=green_growth_significant.groupby(['Variable']).count()['Value'].sort_values(ascending=False)\n",
    "print(main_variables)"
   ]
  },
  {
   "cell_type": "markdown",
   "id": "d51f085e",
   "metadata": {},
   "source": [
    "1. Picking 2 variables on area:\n",
    "- Terrestrial protected area, % land area                                      \n",
    "- Marine protected area, % total exclusive economic zone                                                                 \n",
    "\n",
    "2. Also 1 variable on population density:\n",
    "- Population density, inhabitants per km2                                       "
   ]
  },
  {
   "cell_type": "code",
   "execution_count": 16,
   "id": "a4282eef",
   "metadata": {
    "scrolled": true
   },
   "outputs": [
    {
     "name": "stdout",
     "output_type": "stream",
     "text": [
      "                                                      Country           VAR  \\\n",
      "Variable                                                                      \n",
      "Environmentally related government R&D budget, ...  Australia  ENVRD_GBAORD   \n",
      "Environmentally related government R&D budget, ...  Australia  ENVRD_GBAORD   \n",
      "Environmentally related government R&D budget, ...  Australia  ENVRD_GBAORD   \n",
      "Environmentally related government R&D budget, ...  Australia  ENVRD_GBAORD   \n",
      "Environmentally related government R&D budget, ...  Australia  ENVRD_GBAORD   \n",
      "\n",
      "                                                     YEA  Year Unit Code  \\\n",
      "Variable                                                                   \n",
      "Environmentally related government R&D budget, ...  1990  1990        PC   \n",
      "Environmentally related government R&D budget, ...  1995  1995        PC   \n",
      "Environmentally related government R&D budget, ...  2000  2000        PC   \n",
      "Environmentally related government R&D budget, ...  2010  2010        PC   \n",
      "Environmentally related government R&D budget, ...  2015  2015        PC   \n",
      "\n",
      "                                                          Unit  \\\n",
      "Variable                                                         \n",
      "Environmentally related government R&D budget, ...  Percentage   \n",
      "Environmentally related government R&D budget, ...  Percentage   \n",
      "Environmentally related government R&D budget, ...  Percentage   \n",
      "Environmentally related government R&D budget, ...  Percentage   \n",
      "Environmentally related government R&D budget, ...  Percentage   \n",
      "\n",
      "                                                    PowerCode Code PowerCode  \\\n",
      "Variable                                                                       \n",
      "Environmentally related government R&D budget, ...               0     Units   \n",
      "Environmentally related government R&D budget, ...               0     Units   \n",
      "Environmentally related government R&D budget, ...               0     Units   \n",
      "Environmentally related government R&D budget, ...               0     Units   \n",
      "Environmentally related government R&D budget, ...               0     Units   \n",
      "\n",
      "                                                   Reference Period Code  \\\n",
      "Variable                                                                   \n",
      "Environmentally related government R&D budget, ...                   NaN   \n",
      "Environmentally related government R&D budget, ...                   NaN   \n",
      "Environmentally related government R&D budget, ...                   NaN   \n",
      "Environmentally related government R&D budget, ...                   NaN   \n",
      "Environmentally related government R&D budget, ...                   NaN   \n",
      "\n",
      "                                                   Reference Period     Value  \\\n",
      "Variable                                                                        \n",
      "Environmentally related government R&D budget, ...              NaN  3.115022   \n",
      "Environmentally related government R&D budget, ...              NaN  1.194272   \n",
      "Environmentally related government R&D budget, ...              NaN  2.950042   \n",
      "Environmentally related government R&D budget, ...              NaN  3.953611   \n",
      "Environmentally related government R&D budget, ...              NaN  3.828087   \n",
      "\n",
      "                                                   Flag Codes  Flags  \n",
      "Variable                                                              \n",
      "Environmentally related government R&D budget, ...          B  Break  \n",
      "Environmentally related government R&D budget, ...          B  Break  \n",
      "Environmentally related government R&D budget, ...          B  Break  \n",
      "Environmentally related government R&D budget, ...          B  Break  \n",
      "Environmentally related government R&D budget, ...          B  Break  \n"
     ]
    }
   ],
   "source": [
    "green_growth_significant_ind = green_growth_significant.set_index(\"Variable\")\n",
    "print(green_growth_significant_ind.head())"
   ]
  },
  {
   "cell_type": "code",
   "execution_count": 17,
   "id": "d79d5cc6",
   "metadata": {
    "scrolled": true
   },
   "outputs": [
    {
     "data": {
      "text/html": [
       "<div>\n",
       "<style scoped>\n",
       "    .dataframe tbody tr th:only-of-type {\n",
       "        vertical-align: middle;\n",
       "    }\n",
       "\n",
       "    .dataframe tbody tr th {\n",
       "        vertical-align: top;\n",
       "    }\n",
       "\n",
       "    .dataframe thead th {\n",
       "        text-align: right;\n",
       "    }\n",
       "</style>\n",
       "<table border=\"1\" class=\"dataframe\">\n",
       "  <thead>\n",
       "    <tr style=\"text-align: right;\">\n",
       "      <th></th>\n",
       "      <th>Country</th>\n",
       "      <th>VAR</th>\n",
       "      <th>YEA</th>\n",
       "      <th>Year</th>\n",
       "      <th>Unit Code</th>\n",
       "      <th>Unit</th>\n",
       "      <th>PowerCode Code</th>\n",
       "      <th>PowerCode</th>\n",
       "      <th>Reference Period Code</th>\n",
       "      <th>Reference Period</th>\n",
       "      <th>Value</th>\n",
       "      <th>Flag Codes</th>\n",
       "      <th>Flags</th>\n",
       "    </tr>\n",
       "    <tr>\n",
       "      <th>Variable</th>\n",
       "      <th></th>\n",
       "      <th></th>\n",
       "      <th></th>\n",
       "      <th></th>\n",
       "      <th></th>\n",
       "      <th></th>\n",
       "      <th></th>\n",
       "      <th></th>\n",
       "      <th></th>\n",
       "      <th></th>\n",
       "      <th></th>\n",
       "      <th></th>\n",
       "      <th></th>\n",
       "    </tr>\n",
       "  </thead>\n",
       "  <tbody>\n",
       "    <tr>\n",
       "      <th>Marine protected area, % total exclusive economic zone</th>\n",
       "      <td>Russia</td>\n",
       "      <td>PA_MARINE</td>\n",
       "      <td>2016</td>\n",
       "      <td>2016</td>\n",
       "      <td>PC</td>\n",
       "      <td>Percentage</td>\n",
       "      <td>0</td>\n",
       "      <td>Units</td>\n",
       "      <td>NaN</td>\n",
       "      <td>NaN</td>\n",
       "      <td>1.377622</td>\n",
       "      <td>NaN</td>\n",
       "      <td>NaN</td>\n",
       "    </tr>\n",
       "    <tr>\n",
       "      <th>Marine protected area, % total exclusive economic zone</th>\n",
       "      <td>Italy</td>\n",
       "      <td>PA_MARINE</td>\n",
       "      <td>2015</td>\n",
       "      <td>2015</td>\n",
       "      <td>PC</td>\n",
       "      <td>Percentage</td>\n",
       "      <td>0</td>\n",
       "      <td>Units</td>\n",
       "      <td>NaN</td>\n",
       "      <td>NaN</td>\n",
       "      <td>5.495167</td>\n",
       "      <td>NaN</td>\n",
       "      <td>NaN</td>\n",
       "    </tr>\n",
       "    <tr>\n",
       "      <th>Marine protected area, % total exclusive economic zone</th>\n",
       "      <td>Italy</td>\n",
       "      <td>PA_MARINE</td>\n",
       "      <td>2010</td>\n",
       "      <td>2010</td>\n",
       "      <td>PC</td>\n",
       "      <td>Percentage</td>\n",
       "      <td>0</td>\n",
       "      <td>Units</td>\n",
       "      <td>NaN</td>\n",
       "      <td>NaN</td>\n",
       "      <td>5.481958</td>\n",
       "      <td>NaN</td>\n",
       "      <td>NaN</td>\n",
       "    </tr>\n",
       "    <tr>\n",
       "      <th>Marine protected area, % total exclusive economic zone</th>\n",
       "      <td>Italy</td>\n",
       "      <td>PA_MARINE</td>\n",
       "      <td>2000</td>\n",
       "      <td>2000</td>\n",
       "      <td>PC</td>\n",
       "      <td>Percentage</td>\n",
       "      <td>0</td>\n",
       "      <td>Units</td>\n",
       "      <td>NaN</td>\n",
       "      <td>NaN</td>\n",
       "      <td>4.437385</td>\n",
       "      <td>NaN</td>\n",
       "      <td>NaN</td>\n",
       "    </tr>\n",
       "    <tr>\n",
       "      <th>Marine protected area, % total exclusive economic zone</th>\n",
       "      <td>Italy</td>\n",
       "      <td>PA_MARINE</td>\n",
       "      <td>1995</td>\n",
       "      <td>1995</td>\n",
       "      <td>PC</td>\n",
       "      <td>Percentage</td>\n",
       "      <td>0</td>\n",
       "      <td>Units</td>\n",
       "      <td>NaN</td>\n",
       "      <td>NaN</td>\n",
       "      <td>0.555124</td>\n",
       "      <td>NaN</td>\n",
       "      <td>NaN</td>\n",
       "    </tr>\n",
       "    <tr>\n",
       "      <th>...</th>\n",
       "      <td>...</td>\n",
       "      <td>...</td>\n",
       "      <td>...</td>\n",
       "      <td>...</td>\n",
       "      <td>...</td>\n",
       "      <td>...</td>\n",
       "      <td>...</td>\n",
       "      <td>...</td>\n",
       "      <td>...</td>\n",
       "      <td>...</td>\n",
       "      <td>...</td>\n",
       "      <td>...</td>\n",
       "      <td>...</td>\n",
       "    </tr>\n",
       "    <tr>\n",
       "      <th>Terrestrial protected area, % land area</th>\n",
       "      <td>Tajikistan</td>\n",
       "      <td>PA_TERRESTRIAL</td>\n",
       "      <td>2010</td>\n",
       "      <td>2010</td>\n",
       "      <td>PC</td>\n",
       "      <td>Percentage</td>\n",
       "      <td>0</td>\n",
       "      <td>Units</td>\n",
       "      <td>NaN</td>\n",
       "      <td>NaN</td>\n",
       "      <td>19.138541</td>\n",
       "      <td>NaN</td>\n",
       "      <td>NaN</td>\n",
       "    </tr>\n",
       "    <tr>\n",
       "      <th>Terrestrial protected area, % land area</th>\n",
       "      <td>Tajikistan</td>\n",
       "      <td>PA_TERRESTRIAL</td>\n",
       "      <td>2015</td>\n",
       "      <td>2015</td>\n",
       "      <td>PC</td>\n",
       "      <td>Percentage</td>\n",
       "      <td>0</td>\n",
       "      <td>Units</td>\n",
       "      <td>NaN</td>\n",
       "      <td>NaN</td>\n",
       "      <td>22.139757</td>\n",
       "      <td>NaN</td>\n",
       "      <td>NaN</td>\n",
       "    </tr>\n",
       "    <tr>\n",
       "      <th>Terrestrial protected area, % land area</th>\n",
       "      <td>Tajikistan</td>\n",
       "      <td>PA_TERRESTRIAL</td>\n",
       "      <td>2016</td>\n",
       "      <td>2016</td>\n",
       "      <td>PC</td>\n",
       "      <td>Percentage</td>\n",
       "      <td>0</td>\n",
       "      <td>Units</td>\n",
       "      <td>NaN</td>\n",
       "      <td>NaN</td>\n",
       "      <td>22.143870</td>\n",
       "      <td>NaN</td>\n",
       "      <td>NaN</td>\n",
       "    </tr>\n",
       "    <tr>\n",
       "      <th>Terrestrial protected area, % land area</th>\n",
       "      <td>Sint Maarten</td>\n",
       "      <td>PA_TERRESTRIAL</td>\n",
       "      <td>2020</td>\n",
       "      <td>2020</td>\n",
       "      <td>PC</td>\n",
       "      <td>Percentage</td>\n",
       "      <td>0</td>\n",
       "      <td>Units</td>\n",
       "      <td>NaN</td>\n",
       "      <td>NaN</td>\n",
       "      <td>0.446429</td>\n",
       "      <td>NaN</td>\n",
       "      <td>NaN</td>\n",
       "    </tr>\n",
       "    <tr>\n",
       "      <th>Terrestrial protected area, % land area</th>\n",
       "      <td>Bulgaria</td>\n",
       "      <td>PA_TERRESTRIAL</td>\n",
       "      <td>1990</td>\n",
       "      <td>1990</td>\n",
       "      <td>PC</td>\n",
       "      <td>Percentage</td>\n",
       "      <td>0</td>\n",
       "      <td>Units</td>\n",
       "      <td>NaN</td>\n",
       "      <td>NaN</td>\n",
       "      <td>2.343140</td>\n",
       "      <td>NaN</td>\n",
       "      <td>NaN</td>\n",
       "    </tr>\n",
       "  </tbody>\n",
       "</table>\n",
       "<p>4279 rows × 13 columns</p>\n",
       "</div>"
      ],
      "text/plain": [
       "                                                         Country  \\\n",
       "Variable                                                           \n",
       "Marine protected area, % total exclusive econom...        Russia   \n",
       "Marine protected area, % total exclusive econom...         Italy   \n",
       "Marine protected area, % total exclusive econom...         Italy   \n",
       "Marine protected area, % total exclusive econom...         Italy   \n",
       "Marine protected area, % total exclusive econom...         Italy   \n",
       "...                                                          ...   \n",
       "Terrestrial protected area, % land area               Tajikistan   \n",
       "Terrestrial protected area, % land area               Tajikistan   \n",
       "Terrestrial protected area, % land area               Tajikistan   \n",
       "Terrestrial protected area, % land area             Sint Maarten   \n",
       "Terrestrial protected area, % land area                 Bulgaria   \n",
       "\n",
       "                                                               VAR   YEA  \\\n",
       "Variable                                                                   \n",
       "Marine protected area, % total exclusive econom...       PA_MARINE  2016   \n",
       "Marine protected area, % total exclusive econom...       PA_MARINE  2015   \n",
       "Marine protected area, % total exclusive econom...       PA_MARINE  2010   \n",
       "Marine protected area, % total exclusive econom...       PA_MARINE  2000   \n",
       "Marine protected area, % total exclusive econom...       PA_MARINE  1995   \n",
       "...                                                            ...   ...   \n",
       "Terrestrial protected area, % land area             PA_TERRESTRIAL  2010   \n",
       "Terrestrial protected area, % land area             PA_TERRESTRIAL  2015   \n",
       "Terrestrial protected area, % land area             PA_TERRESTRIAL  2016   \n",
       "Terrestrial protected area, % land area             PA_TERRESTRIAL  2020   \n",
       "Terrestrial protected area, % land area             PA_TERRESTRIAL  1990   \n",
       "\n",
       "                                                    Year Unit Code  \\\n",
       "Variable                                                             \n",
       "Marine protected area, % total exclusive econom...  2016        PC   \n",
       "Marine protected area, % total exclusive econom...  2015        PC   \n",
       "Marine protected area, % total exclusive econom...  2010        PC   \n",
       "Marine protected area, % total exclusive econom...  2000        PC   \n",
       "Marine protected area, % total exclusive econom...  1995        PC   \n",
       "...                                                  ...       ...   \n",
       "Terrestrial protected area, % land area             2010        PC   \n",
       "Terrestrial protected area, % land area             2015        PC   \n",
       "Terrestrial protected area, % land area             2016        PC   \n",
       "Terrestrial protected area, % land area             2020        PC   \n",
       "Terrestrial protected area, % land area             1990        PC   \n",
       "\n",
       "                                                          Unit  \\\n",
       "Variable                                                         \n",
       "Marine protected area, % total exclusive econom...  Percentage   \n",
       "Marine protected area, % total exclusive econom...  Percentage   \n",
       "Marine protected area, % total exclusive econom...  Percentage   \n",
       "Marine protected area, % total exclusive econom...  Percentage   \n",
       "Marine protected area, % total exclusive econom...  Percentage   \n",
       "...                                                        ...   \n",
       "Terrestrial protected area, % land area             Percentage   \n",
       "Terrestrial protected area, % land area             Percentage   \n",
       "Terrestrial protected area, % land area             Percentage   \n",
       "Terrestrial protected area, % land area             Percentage   \n",
       "Terrestrial protected area, % land area             Percentage   \n",
       "\n",
       "                                                    PowerCode Code PowerCode  \\\n",
       "Variable                                                                       \n",
       "Marine protected area, % total exclusive econom...               0     Units   \n",
       "Marine protected area, % total exclusive econom...               0     Units   \n",
       "Marine protected area, % total exclusive econom...               0     Units   \n",
       "Marine protected area, % total exclusive econom...               0     Units   \n",
       "Marine protected area, % total exclusive econom...               0     Units   \n",
       "...                                                            ...       ...   \n",
       "Terrestrial protected area, % land area                          0     Units   \n",
       "Terrestrial protected area, % land area                          0     Units   \n",
       "Terrestrial protected area, % land area                          0     Units   \n",
       "Terrestrial protected area, % land area                          0     Units   \n",
       "Terrestrial protected area, % land area                          0     Units   \n",
       "\n",
       "                                                   Reference Period Code  \\\n",
       "Variable                                                                   \n",
       "Marine protected area, % total exclusive econom...                   NaN   \n",
       "Marine protected area, % total exclusive econom...                   NaN   \n",
       "Marine protected area, % total exclusive econom...                   NaN   \n",
       "Marine protected area, % total exclusive econom...                   NaN   \n",
       "Marine protected area, % total exclusive econom...                   NaN   \n",
       "...                                                                  ...   \n",
       "Terrestrial protected area, % land area                              NaN   \n",
       "Terrestrial protected area, % land area                              NaN   \n",
       "Terrestrial protected area, % land area                              NaN   \n",
       "Terrestrial protected area, % land area                              NaN   \n",
       "Terrestrial protected area, % land area                              NaN   \n",
       "\n",
       "                                                   Reference Period  \\\n",
       "Variable                                                              \n",
       "Marine protected area, % total exclusive econom...              NaN   \n",
       "Marine protected area, % total exclusive econom...              NaN   \n",
       "Marine protected area, % total exclusive econom...              NaN   \n",
       "Marine protected area, % total exclusive econom...              NaN   \n",
       "Marine protected area, % total exclusive econom...              NaN   \n",
       "...                                                             ...   \n",
       "Terrestrial protected area, % land area                         NaN   \n",
       "Terrestrial protected area, % land area                         NaN   \n",
       "Terrestrial protected area, % land area                         NaN   \n",
       "Terrestrial protected area, % land area                         NaN   \n",
       "Terrestrial protected area, % land area                         NaN   \n",
       "\n",
       "                                                        Value Flag Codes Flags  \n",
       "Variable                                                                        \n",
       "Marine protected area, % total exclusive econom...   1.377622        NaN   NaN  \n",
       "Marine protected area, % total exclusive econom...   5.495167        NaN   NaN  \n",
       "Marine protected area, % total exclusive econom...   5.481958        NaN   NaN  \n",
       "Marine protected area, % total exclusive econom...   4.437385        NaN   NaN  \n",
       "Marine protected area, % total exclusive econom...   0.555124        NaN   NaN  \n",
       "...                                                       ...        ...   ...  \n",
       "Terrestrial protected area, % land area             19.138541        NaN   NaN  \n",
       "Terrestrial protected area, % land area             22.139757        NaN   NaN  \n",
       "Terrestrial protected area, % land area             22.143870        NaN   NaN  \n",
       "Terrestrial protected area, % land area              0.446429        NaN   NaN  \n",
       "Terrestrial protected area, % land area              2.343140        NaN   NaN  \n",
       "\n",
       "[4279 rows x 13 columns]"
      ]
     },
     "execution_count": 17,
     "metadata": {},
     "output_type": "execute_result"
    }
   ],
   "source": [
    "green_growth_significant_ind.loc[[\"Terrestrial protected area, % land area\",\"Marine protected area, % total exclusive economic zone\",\"Population density, inhabitants per km2\"]].sort_index()\n"
   ]
  },
  {
   "cell_type": "code",
   "execution_count": 18,
   "id": "c319cca6",
   "metadata": {
    "scrolled": true
   },
   "outputs": [
    {
     "name": "stdout",
     "output_type": "stream",
     "text": [
      "                                          Country             VAR   YEA  Year  \\\n",
      "Variable                                                                        \n",
      "Terrestrial protected area, % land area  Bulgaria  PA_TERRESTRIAL  1990  1990   \n",
      "Terrestrial protected area, % land area  Bulgaria  PA_TERRESTRIAL  1995  1995   \n",
      "Terrestrial protected area, % land area  Bulgaria  PA_TERRESTRIAL  2000  2000   \n",
      "Terrestrial protected area, % land area  Bulgaria  PA_TERRESTRIAL  2010  2010   \n",
      "Terrestrial protected area, % land area  Bulgaria  PA_TERRESTRIAL  2015  2015   \n",
      "...                                           ...             ...   ...   ...   \n",
      "Population density, inhabitants per km2    Monaco          POPDEN  2017  2017   \n",
      "Population density, inhabitants per km2    Monaco          POPDEN  2018  2018   \n",
      "Population density, inhabitants per km2    Monaco          POPDEN  2019  2019   \n",
      "Population density, inhabitants per km2    Monaco          POPDEN  2020  2020   \n",
      "Population density, inhabitants per km2    Monaco          POPDEN  2021  2021   \n",
      "\n",
      "                                        Unit Code         Unit  \\\n",
      "Variable                                                         \n",
      "Terrestrial protected area, % land area        PC   Percentage   \n",
      "Terrestrial protected area, % land area        PC   Percentage   \n",
      "Terrestrial protected area, % land area        PC   Percentage   \n",
      "Terrestrial protected area, % land area        PC   Percentage   \n",
      "Terrestrial protected area, % land area        PC   Percentage   \n",
      "...                                           ...          ...   \n",
      "Population density, inhabitants per km2       HAB  Inhabitants   \n",
      "Population density, inhabitants per km2       HAB  Inhabitants   \n",
      "Population density, inhabitants per km2       HAB  Inhabitants   \n",
      "Population density, inhabitants per km2       HAB  Inhabitants   \n",
      "Population density, inhabitants per km2       HAB  Inhabitants   \n",
      "\n",
      "                                         PowerCode Code PowerCode  \\\n",
      "Variable                                                            \n",
      "Terrestrial protected area, % land area               0     Units   \n",
      "Terrestrial protected area, % land area               0     Units   \n",
      "Terrestrial protected area, % land area               0     Units   \n",
      "Terrestrial protected area, % land area               0     Units   \n",
      "Terrestrial protected area, % land area               0     Units   \n",
      "...                                                 ...       ...   \n",
      "Population density, inhabitants per km2               0     Units   \n",
      "Population density, inhabitants per km2               0     Units   \n",
      "Population density, inhabitants per km2               0     Units   \n",
      "Population density, inhabitants per km2               0     Units   \n",
      "Population density, inhabitants per km2               0     Units   \n",
      "\n",
      "                                        Reference Period Code  \\\n",
      "Variable                                                        \n",
      "Terrestrial protected area, % land area                   NaN   \n",
      "Terrestrial protected area, % land area                   NaN   \n",
      "Terrestrial protected area, % land area                   NaN   \n",
      "Terrestrial protected area, % land area                   NaN   \n",
      "Terrestrial protected area, % land area                   NaN   \n",
      "...                                                       ...   \n",
      "Population density, inhabitants per km2                   NaN   \n",
      "Population density, inhabitants per km2                   NaN   \n",
      "Population density, inhabitants per km2                   NaN   \n",
      "Population density, inhabitants per km2                   NaN   \n",
      "Population density, inhabitants per km2                   NaN   \n",
      "\n",
      "                                        Reference Period       Value  \\\n",
      "Variable                                                               \n",
      "Terrestrial protected area, % land area              NaN    2.343140   \n",
      "Terrestrial protected area, % land area              NaN    4.654114   \n",
      "Terrestrial protected area, % land area              NaN    4.866177   \n",
      "Terrestrial protected area, % land area              NaN   40.671747   \n",
      "Terrestrial protected area, % land area              NaN   40.870565   \n",
      "...                                                  ...         ...   \n",
      "Population density, inhabitants per km2              NaN  512.439900   \n",
      "Population density, inhabitants per km2              NaN  516.310700   \n",
      "Population density, inhabitants per km2              NaN  520.114700   \n",
      "Population density, inhabitants per km2              NaN  523.812100   \n",
      "Population density, inhabitants per km2              NaN  527.496000   \n",
      "\n",
      "                                        Flag Codes            Flags  \n",
      "Variable                                                             \n",
      "Terrestrial protected area, % land area        NaN              NaN  \n",
      "Terrestrial protected area, % land area        NaN              NaN  \n",
      "Terrestrial protected area, % land area        NaN              NaN  \n",
      "Terrestrial protected area, % land area        NaN              NaN  \n",
      "Terrestrial protected area, % land area        NaN              NaN  \n",
      "...                                            ...              ...  \n",
      "Population density, inhabitants per km2          E  Estimated value  \n",
      "Population density, inhabitants per km2          E  Estimated value  \n",
      "Population density, inhabitants per km2          E  Estimated value  \n",
      "Population density, inhabitants per km2          E  Estimated value  \n",
      "Population density, inhabitants per km2          E  Estimated value  \n",
      "\n",
      "[4279 rows x 13 columns]\n"
     ]
    }
   ],
   "source": [
    "green = green_growth_significant_ind.loc[[\"Terrestrial protected area, % land area\",\"Marine protected area, % total exclusive economic zone\",\"Population density, inhabitants per km2\"]]\n",
    "print(green)"
   ]
  },
  {
   "cell_type": "code",
   "execution_count": 19,
   "id": "07caf867",
   "metadata": {},
   "outputs": [],
   "source": [
    "non_individual_countries = ['World','BRIICS economies - Brazil, Russia, India, Indonesia, China and South Africa','OECD - Total','OECD - Europe','OECD America','OECD Asia Oceania','G20','G7','Eastern Europe, Caucasus and Central Asia','Latin America and Caribbean','Middle East and North Africa','European Union (28 countries)','Euro area (19 countries)','ASEAN','European Union – 27 countries (from 01/02/2020)']"
   ]
  },
  {
   "cell_type": "code",
   "execution_count": 20,
   "id": "21d0e079",
   "metadata": {
    "scrolled": true
   },
   "outputs": [
    {
     "name": "stdout",
     "output_type": "stream",
     "text": [
      "['Bulgaria' 'Saudi Arabia' 'Australia' 'Martinique' 'Clipperton Island'\n",
      " 'Azerbaijan' 'Japan' 'Uzbekistan' 'Kyrgyzstan' 'Lithuania' 'Spain'\n",
      " 'Northern Mariana Islands' 'Montserrat' 'Jersey' 'France' 'Turkmenistan'\n",
      " 'Switzerland' 'Israel' 'Anguilla' 'South Africa' 'Greece' 'Bonaire'\n",
      " 'Moldova' 'Kazakhstan' 'Puerto Rico' 'Indonesia' 'Wallis and Futuna'\n",
      " 'Saint Pierre and Miquelon' 'Luxembourg' 'Croatia' 'Latvia' 'Cyprus'\n",
      " 'Peru' 'New Caledonia' \"China (People's Republic of)\" 'Christmas Islands'\n",
      " 'Bermuda' 'Slovak Republic' 'American Samoa' 'Finland' 'Saint Helena'\n",
      " 'Sweden' 'Armenia' 'Ireland' 'Belarus' 'Malta' 'Faeroe Islands' 'Denmark'\n",
      " 'New Zealand' 'Poland' 'Brazil' 'United Kingdom' 'Russia' 'Belgium'\n",
      " 'Costa Rica' 'Czech Republic' 'Argentina' 'Iceland' 'Netherlands' 'Aruba'\n",
      " 'Slovenia' 'Austria' 'Korea' 'Curacao' 'Sint Maarten' 'Tajikistan'\n",
      " 'Saint Martin' 'Mexico' 'Saint Barthélemy' 'Turks and Caicos Islands'\n",
      " 'Chile' 'Germany' 'Colombia' 'India' 'Cayman Islands' 'Ukraine'\n",
      " 'United States Virgin Islands' 'Norfolk Island' 'Georgia' 'Italy'\n",
      " 'Norway' 'Portugal' 'British Virgin Islands' 'Niue' 'United States'\n",
      " 'Cook Islands' 'Canada' 'Romania' 'Mayotte' 'Hungary' 'Estonia' 'Ecuador'\n",
      " 'Dominican Republic' 'Uruguay' 'Paraguay' 'Tokelau' 'Turkey' 'Pakistan'\n",
      " 'Antigua and Barbuda' 'Equatorial Guinea' 'Somalia' 'Sri Lanka' 'Jamaica'\n",
      " 'Rwanda' 'Bhutan' 'Andorra' 'Libya' \"Côte d'Ivoire\" 'Afghanistan'\n",
      " 'Kuwait' 'Maldives' 'Zimbabwe' 'San Marino' 'Algeria' 'Singapore'\n",
      " 'El Salvador' 'Madagascar' 'Oman' 'Tuvalu' 'Malaysia' 'Suriname'\n",
      " 'Solomon Islands' 'Eswatini' 'Mozambique' 'Belize' 'Namibia' 'Guinea'\n",
      " 'Ghana' 'Nigeria' 'Togo' 'Tonga' 'Jordan' 'Mongolia' 'Bolivia' 'Tunisia'\n",
      " 'Morocco' 'Malawi' 'Angola' 'Botswana' 'Egypt' 'Brunei Darussalam'\n",
      " 'Papua New Guinea' 'Qatar' 'Iran' 'Kenya'\n",
      " 'Democratic Republic of the Congo' 'Lesotho' 'Chad' 'Yemen' 'Niger'\n",
      " 'Mauritania' 'Vanuatu' 'Viet Nam' \"Lao People's Democratic Republic\"\n",
      " 'Bangladesh' 'Seychelles' 'Lebanon' 'Cuba' 'Haiti' 'Thailand' 'Burundi'\n",
      " 'Nicaragua' 'Bahrain' 'Cameroon' 'Philippines' 'Mauritius' 'Honduras'\n",
      " 'Venezuela' 'Benin' 'Guatemala' 'Syrian Arab Republic' 'Panama' 'Uganda'\n",
      " 'Cabo Verde' 'Nauru' 'United Arab Emirates' 'Central African Republic'\n",
      " 'Congo' 'Trinidad and Tobago' 'Barbados' 'Burkina Faso' 'Tanzania'\n",
      " 'Cambodia' 'Senegal' 'Bahamas' 'Iraq' 'Kiribati' 'Djibouti' 'Zambia'\n",
      " 'Liberia' 'Sierra Leone' 'Liechtenstein' 'Albania' 'Mali' 'Samoa'\n",
      " 'Sao Tome and Principe' 'Gambia' 'Myanmar' 'Fiji' 'Gabon'\n",
      " 'Saint Vincent and the Grenadines' 'Dominica' 'Saint Kitts and Nevis'\n",
      " 'Guinea-Bissau' 'Comoros' 'Saint Lucia' 'Guyana' 'Timor-Leste' 'Monaco']\n"
     ]
    }
   ],
   "source": [
    "green = green[green.Country.isin(non_individual_countries) == False]\n",
    "print(green[\"Country\"].unique())"
   ]
  },
  {
   "cell_type": "code",
   "execution_count": 21,
   "id": "3c1d6335",
   "metadata": {
    "scrolled": true
   },
   "outputs": [
    {
     "data": {
      "text/html": [
       "<div>\n",
       "<style scoped>\n",
       "    .dataframe tbody tr th:only-of-type {\n",
       "        vertical-align: middle;\n",
       "    }\n",
       "\n",
       "    .dataframe tbody tr th {\n",
       "        vertical-align: top;\n",
       "    }\n",
       "\n",
       "    .dataframe thead th {\n",
       "        text-align: right;\n",
       "    }\n",
       "</style>\n",
       "<table border=\"1\" class=\"dataframe\">\n",
       "  <thead>\n",
       "    <tr style=\"text-align: right;\">\n",
       "      <th></th>\n",
       "      <th>Country</th>\n",
       "      <th>VAR</th>\n",
       "      <th>YEA</th>\n",
       "      <th>Year</th>\n",
       "      <th>Unit Code</th>\n",
       "      <th>Unit</th>\n",
       "      <th>PowerCode Code</th>\n",
       "      <th>PowerCode</th>\n",
       "      <th>Reference Period Code</th>\n",
       "      <th>Reference Period</th>\n",
       "      <th>Value</th>\n",
       "      <th>Flag Codes</th>\n",
       "      <th>Flags</th>\n",
       "    </tr>\n",
       "    <tr>\n",
       "      <th>Variable</th>\n",
       "      <th></th>\n",
       "      <th></th>\n",
       "      <th></th>\n",
       "      <th></th>\n",
       "      <th></th>\n",
       "      <th></th>\n",
       "      <th></th>\n",
       "      <th></th>\n",
       "      <th></th>\n",
       "      <th></th>\n",
       "      <th></th>\n",
       "      <th></th>\n",
       "      <th></th>\n",
       "    </tr>\n",
       "  </thead>\n",
       "  <tbody>\n",
       "    <tr>\n",
       "      <th>Population density, inhabitants per km2</th>\n",
       "      <td>Zimbabwe</td>\n",
       "      <td>POPDEN</td>\n",
       "      <td>2021</td>\n",
       "      <td>2021</td>\n",
       "      <td>HAB</td>\n",
       "      <td>Inhabitants</td>\n",
       "      <td>0</td>\n",
       "      <td>Units</td>\n",
       "      <td>NaN</td>\n",
       "      <td>NaN</td>\n",
       "      <td>38.62261</td>\n",
       "      <td>E</td>\n",
       "      <td>Estimated value</td>\n",
       "    </tr>\n",
       "    <tr>\n",
       "      <th>Population density, inhabitants per km2</th>\n",
       "      <td>Zimbabwe</td>\n",
       "      <td>POPDEN</td>\n",
       "      <td>2020</td>\n",
       "      <td>2020</td>\n",
       "      <td>HAB</td>\n",
       "      <td>Inhabitants</td>\n",
       "      <td>0</td>\n",
       "      <td>Units</td>\n",
       "      <td>NaN</td>\n",
       "      <td>NaN</td>\n",
       "      <td>38.03595</td>\n",
       "      <td>E</td>\n",
       "      <td>Estimated value</td>\n",
       "    </tr>\n",
       "    <tr>\n",
       "      <th>Population density, inhabitants per km2</th>\n",
       "      <td>Zimbabwe</td>\n",
       "      <td>POPDEN</td>\n",
       "      <td>2019</td>\n",
       "      <td>2019</td>\n",
       "      <td>HAB</td>\n",
       "      <td>Inhabitants</td>\n",
       "      <td>0</td>\n",
       "      <td>Units</td>\n",
       "      <td>NaN</td>\n",
       "      <td>NaN</td>\n",
       "      <td>37.47946</td>\n",
       "      <td>E</td>\n",
       "      <td>Estimated value</td>\n",
       "    </tr>\n",
       "    <tr>\n",
       "      <th>Population density, inhabitants per km2</th>\n",
       "      <td>Zimbabwe</td>\n",
       "      <td>POPDEN</td>\n",
       "      <td>2018</td>\n",
       "      <td>2018</td>\n",
       "      <td>HAB</td>\n",
       "      <td>Inhabitants</td>\n",
       "      <td>0</td>\n",
       "      <td>Units</td>\n",
       "      <td>NaN</td>\n",
       "      <td>NaN</td>\n",
       "      <td>36.95059</td>\n",
       "      <td>E</td>\n",
       "      <td>Estimated value</td>\n",
       "    </tr>\n",
       "    <tr>\n",
       "      <th>Population density, inhabitants per km2</th>\n",
       "      <td>Zimbabwe</td>\n",
       "      <td>POPDEN</td>\n",
       "      <td>2017</td>\n",
       "      <td>2017</td>\n",
       "      <td>HAB</td>\n",
       "      <td>Inhabitants</td>\n",
       "      <td>0</td>\n",
       "      <td>Units</td>\n",
       "      <td>NaN</td>\n",
       "      <td>NaN</td>\n",
       "      <td>36.43310</td>\n",
       "      <td>E</td>\n",
       "      <td>Estimated value</td>\n",
       "    </tr>\n",
       "    <tr>\n",
       "      <th>...</th>\n",
       "      <td>...</td>\n",
       "      <td>...</td>\n",
       "      <td>...</td>\n",
       "      <td>...</td>\n",
       "      <td>...</td>\n",
       "      <td>...</td>\n",
       "      <td>...</td>\n",
       "      <td>...</td>\n",
       "      <td>...</td>\n",
       "      <td>...</td>\n",
       "      <td>...</td>\n",
       "      <td>...</td>\n",
       "      <td>...</td>\n",
       "    </tr>\n",
       "    <tr>\n",
       "      <th>Population density, inhabitants per km2</th>\n",
       "      <td>Afghanistan</td>\n",
       "      <td>POPDEN</td>\n",
       "      <td>2015</td>\n",
       "      <td>2015</td>\n",
       "      <td>HAB</td>\n",
       "      <td>Inhabitants</td>\n",
       "      <td>0</td>\n",
       "      <td>Units</td>\n",
       "      <td>NaN</td>\n",
       "      <td>NaN</td>\n",
       "      <td>52.71207</td>\n",
       "      <td>E</td>\n",
       "      <td>Estimated value</td>\n",
       "    </tr>\n",
       "    <tr>\n",
       "      <th>Population density, inhabitants per km2</th>\n",
       "      <td>Afghanistan</td>\n",
       "      <td>POPDEN</td>\n",
       "      <td>2010</td>\n",
       "      <td>2010</td>\n",
       "      <td>HAB</td>\n",
       "      <td>Inhabitants</td>\n",
       "      <td>0</td>\n",
       "      <td>Units</td>\n",
       "      <td>NaN</td>\n",
       "      <td>NaN</td>\n",
       "      <td>44.70409</td>\n",
       "      <td>E</td>\n",
       "      <td>Estimated value</td>\n",
       "    </tr>\n",
       "    <tr>\n",
       "      <th>Population density, inhabitants per km2</th>\n",
       "      <td>Afghanistan</td>\n",
       "      <td>POPDEN</td>\n",
       "      <td>2000</td>\n",
       "      <td>2000</td>\n",
       "      <td>HAB</td>\n",
       "      <td>Inhabitants</td>\n",
       "      <td>0</td>\n",
       "      <td>Units</td>\n",
       "      <td>NaN</td>\n",
       "      <td>NaN</td>\n",
       "      <td>31.82912</td>\n",
       "      <td>E</td>\n",
       "      <td>Estimated value</td>\n",
       "    </tr>\n",
       "    <tr>\n",
       "      <th>Population density, inhabitants per km2</th>\n",
       "      <td>Afghanistan</td>\n",
       "      <td>POPDEN</td>\n",
       "      <td>1995</td>\n",
       "      <td>1995</td>\n",
       "      <td>HAB</td>\n",
       "      <td>Inhabitants</td>\n",
       "      <td>0</td>\n",
       "      <td>Units</td>\n",
       "      <td>NaN</td>\n",
       "      <td>NaN</td>\n",
       "      <td>27.74050</td>\n",
       "      <td>E</td>\n",
       "      <td>Estimated value</td>\n",
       "    </tr>\n",
       "    <tr>\n",
       "      <th>Population density, inhabitants per km2</th>\n",
       "      <td>Afghanistan</td>\n",
       "      <td>POPDEN</td>\n",
       "      <td>1990</td>\n",
       "      <td>1990</td>\n",
       "      <td>HAB</td>\n",
       "      <td>Inhabitants</td>\n",
       "      <td>0</td>\n",
       "      <td>Units</td>\n",
       "      <td>NaN</td>\n",
       "      <td>NaN</td>\n",
       "      <td>19.01221</td>\n",
       "      <td>E</td>\n",
       "      <td>Estimated value</td>\n",
       "    </tr>\n",
       "  </tbody>\n",
       "</table>\n",
       "<p>3872 rows × 13 columns</p>\n",
       "</div>"
      ],
      "text/plain": [
       "                                             Country     VAR   YEA  Year  \\\n",
       "Variable                                                                   \n",
       "Population density, inhabitants per km2     Zimbabwe  POPDEN  2021  2021   \n",
       "Population density, inhabitants per km2     Zimbabwe  POPDEN  2020  2020   \n",
       "Population density, inhabitants per km2     Zimbabwe  POPDEN  2019  2019   \n",
       "Population density, inhabitants per km2     Zimbabwe  POPDEN  2018  2018   \n",
       "Population density, inhabitants per km2     Zimbabwe  POPDEN  2017  2017   \n",
       "...                                              ...     ...   ...   ...   \n",
       "Population density, inhabitants per km2  Afghanistan  POPDEN  2015  2015   \n",
       "Population density, inhabitants per km2  Afghanistan  POPDEN  2010  2010   \n",
       "Population density, inhabitants per km2  Afghanistan  POPDEN  2000  2000   \n",
       "Population density, inhabitants per km2  Afghanistan  POPDEN  1995  1995   \n",
       "Population density, inhabitants per km2  Afghanistan  POPDEN  1990  1990   \n",
       "\n",
       "                                        Unit Code         Unit  \\\n",
       "Variable                                                         \n",
       "Population density, inhabitants per km2       HAB  Inhabitants   \n",
       "Population density, inhabitants per km2       HAB  Inhabitants   \n",
       "Population density, inhabitants per km2       HAB  Inhabitants   \n",
       "Population density, inhabitants per km2       HAB  Inhabitants   \n",
       "Population density, inhabitants per km2       HAB  Inhabitants   \n",
       "...                                           ...          ...   \n",
       "Population density, inhabitants per km2       HAB  Inhabitants   \n",
       "Population density, inhabitants per km2       HAB  Inhabitants   \n",
       "Population density, inhabitants per km2       HAB  Inhabitants   \n",
       "Population density, inhabitants per km2       HAB  Inhabitants   \n",
       "Population density, inhabitants per km2       HAB  Inhabitants   \n",
       "\n",
       "                                         PowerCode Code PowerCode  \\\n",
       "Variable                                                            \n",
       "Population density, inhabitants per km2               0     Units   \n",
       "Population density, inhabitants per km2               0     Units   \n",
       "Population density, inhabitants per km2               0     Units   \n",
       "Population density, inhabitants per km2               0     Units   \n",
       "Population density, inhabitants per km2               0     Units   \n",
       "...                                                 ...       ...   \n",
       "Population density, inhabitants per km2               0     Units   \n",
       "Population density, inhabitants per km2               0     Units   \n",
       "Population density, inhabitants per km2               0     Units   \n",
       "Population density, inhabitants per km2               0     Units   \n",
       "Population density, inhabitants per km2               0     Units   \n",
       "\n",
       "                                        Reference Period Code  \\\n",
       "Variable                                                        \n",
       "Population density, inhabitants per km2                   NaN   \n",
       "Population density, inhabitants per km2                   NaN   \n",
       "Population density, inhabitants per km2                   NaN   \n",
       "Population density, inhabitants per km2                   NaN   \n",
       "Population density, inhabitants per km2                   NaN   \n",
       "...                                                       ...   \n",
       "Population density, inhabitants per km2                   NaN   \n",
       "Population density, inhabitants per km2                   NaN   \n",
       "Population density, inhabitants per km2                   NaN   \n",
       "Population density, inhabitants per km2                   NaN   \n",
       "Population density, inhabitants per km2                   NaN   \n",
       "\n",
       "                                        Reference Period     Value Flag Codes  \\\n",
       "Variable                                                                        \n",
       "Population density, inhabitants per km2              NaN  38.62261          E   \n",
       "Population density, inhabitants per km2              NaN  38.03595          E   \n",
       "Population density, inhabitants per km2              NaN  37.47946          E   \n",
       "Population density, inhabitants per km2              NaN  36.95059          E   \n",
       "Population density, inhabitants per km2              NaN  36.43310          E   \n",
       "...                                                  ...       ...        ...   \n",
       "Population density, inhabitants per km2              NaN  52.71207          E   \n",
       "Population density, inhabitants per km2              NaN  44.70409          E   \n",
       "Population density, inhabitants per km2              NaN  31.82912          E   \n",
       "Population density, inhabitants per km2              NaN  27.74050          E   \n",
       "Population density, inhabitants per km2              NaN  19.01221          E   \n",
       "\n",
       "                                                   Flags  \n",
       "Variable                                                  \n",
       "Population density, inhabitants per km2  Estimated value  \n",
       "Population density, inhabitants per km2  Estimated value  \n",
       "Population density, inhabitants per km2  Estimated value  \n",
       "Population density, inhabitants per km2  Estimated value  \n",
       "Population density, inhabitants per km2  Estimated value  \n",
       "...                                                  ...  \n",
       "Population density, inhabitants per km2  Estimated value  \n",
       "Population density, inhabitants per km2  Estimated value  \n",
       "Population density, inhabitants per km2  Estimated value  \n",
       "Population density, inhabitants per km2  Estimated value  \n",
       "Population density, inhabitants per km2  Estimated value  \n",
       "\n",
       "[3872 rows x 13 columns]"
      ]
     },
     "execution_count": 21,
     "metadata": {},
     "output_type": "execute_result"
    }
   ],
   "source": [
    "green.sort_values([ \"Country\", \"Value\"], ascending =[False, False ])"
   ]
  },
  {
   "cell_type": "code",
   "execution_count": 22,
   "id": "6160a4f1",
   "metadata": {
    "scrolled": true
   },
   "outputs": [
    {
     "name": "stdout",
     "output_type": "stream",
     "text": [
      "                     VAR   YEA  Year Unit Code        Unit  PowerCode Code  \\\n",
      "Country                                                                      \n",
      "Bulgaria  PA_TERRESTRIAL  1990  1990        PC  Percentage               0   \n",
      "Bulgaria  PA_TERRESTRIAL  1995  1995        PC  Percentage               0   \n",
      "Bulgaria  PA_TERRESTRIAL  2000  2000        PC  Percentage               0   \n",
      "Bulgaria  PA_TERRESTRIAL  2010  2010        PC  Percentage               0   \n",
      "Bulgaria  PA_TERRESTRIAL  2015  2015        PC  Percentage               0   \n",
      "\n",
      "         PowerCode Reference Period Code Reference Period      Value  \\\n",
      "Country                                                                \n",
      "Bulgaria     Units                   NaN              NaN   2.343140   \n",
      "Bulgaria     Units                   NaN              NaN   4.654114   \n",
      "Bulgaria     Units                   NaN              NaN   4.866177   \n",
      "Bulgaria     Units                   NaN              NaN  40.671747   \n",
      "Bulgaria     Units                   NaN              NaN  40.870565   \n",
      "\n",
      "         Flag Codes Flags  \n",
      "Country                    \n",
      "Bulgaria        NaN   NaN  \n",
      "Bulgaria        NaN   NaN  \n",
      "Bulgaria        NaN   NaN  \n",
      "Bulgaria        NaN   NaN  \n",
      "Bulgaria        NaN   NaN  \n"
     ]
    }
   ],
   "source": [
    "green_country = green.set_index(\"Country\")\n",
    "print(green_country.head())"
   ]
  },
  {
   "cell_type": "code",
   "execution_count": 23,
   "id": "28c673f7",
   "metadata": {
    "scrolled": false
   },
   "outputs": [
    {
     "name": "stdout",
     "output_type": "stream",
     "text": [
      "                    VAR   YEA  Year Unit Code        Unit  PowerCode Code  \\\n",
      "Country                                                                     \n",
      "Ireland  PA_TERRESTRIAL  1990  1990        PC  Percentage               0   \n",
      "Ireland  PA_TERRESTRIAL  1995  1995        PC  Percentage               0   \n",
      "Ireland  PA_TERRESTRIAL  2000  2000        PC  Percentage               0   \n",
      "Ireland  PA_TERRESTRIAL  2010  2010        PC  Percentage               0   \n",
      "Ireland  PA_TERRESTRIAL  2015  2015        PC  Percentage               0   \n",
      "\n",
      "        PowerCode Reference Period Code Reference Period      Value  \\\n",
      "Country                                                               \n",
      "Ireland     Units                   NaN              NaN   9.830447   \n",
      "Ireland     Units                   NaN              NaN  10.327606   \n",
      "Ireland     Units                   NaN              NaN  10.534716   \n",
      "Ireland     Units                   NaN              NaN  13.660140   \n",
      "Ireland     Units                   NaN              NaN  13.677706   \n",
      "\n",
      "        Flag Codes Flags  \n",
      "Country                   \n",
      "Ireland        NaN   NaN  \n",
      "Ireland        NaN   NaN  \n",
      "Ireland        NaN   NaN  \n",
      "Ireland        NaN   NaN  \n",
      "Ireland        NaN   NaN  \n"
     ]
    }
   ],
   "source": [
    "green_country_ireland = green_country.loc[[\"Ireland\"]]\n",
    "print(green_country_ireland.head())"
   ]
  },
  {
   "cell_type": "code",
   "execution_count": 24,
   "id": "089ebc3d",
   "metadata": {
    "scrolled": false
   },
   "outputs": [
    {
     "data": {
      "text/plain": [
       "Text(0.5, 1.0, 'Green Growth in Ireland')"
      ]
     },
     "execution_count": 24,
     "metadata": {},
     "output_type": "execute_result"
    },
    {
     "data": {
      "image/png": "[encoded data removed]",
      "text/plain": [
       "<Figure size 720x504 with 1 Axes>"
      ]
     },
     "metadata": {
      "needs_background": "light"
     },
     "output_type": "display_data"
    }
   ],
   "source": [
    "fig, ax = plt.subplots(figsize=(10,7))\n",
    "sns.barplot(data=green_country_ireland, y='Value', x='Year', hue='VAR')\n",
    "plt.title('Green Growth in Ireland')"
   ]
  },
  {
   "cell_type": "code",
   "execution_count": 25,
   "id": "719d08a9",
   "metadata": {
    "scrolled": false
   },
   "outputs": [
    {
     "data": {
      "text/plain": [
       "Text(0.5, 1.0, 'Global Green Growth')"
      ]
     },
     "execution_count": 25,
     "metadata": {},
     "output_type": "execute_result"
    },
    {
     "data": {
      "image/png": "[encoded data removed]",
      "text/plain": [
       "<Figure size 720x504 with 1 Axes>"
      ]
     },
     "metadata": {
      "needs_background": "light"
     },
     "output_type": "display_data"
    }
   ],
   "source": [
    "fig, ax = plt.subplots(figsize=(10,7))\n",
    "sns.barplot(data=green, y='Value', x='Year', hue='VAR')\n",
    "plt.title('Global Green Growth')"
   ]
  },
  {
   "cell_type": "markdown",
   "id": "bb42208a",
   "metadata": {},
   "source": [
    "EXPLORING THE SECOND DATASET"
   ]
  },
  {
   "cell_type": "markdown",
   "id": "9536bc4f",
   "metadata": {},
   "source": [
    "ECONOMIC OUTLOOK\n",
    "\n",
    "1. Getting the dataset via API\n",
    "2. Converting it to a DataFrame\n",
    "3. Reviewing the data"
   ]
  },
  {
   "cell_type": "code",
   "execution_count": 26,
   "id": "033e025e",
   "metadata": {
    "scrolled": true
   },
   "outputs": [
    {
     "name": "stdout",
     "output_type": "stream",
     "text": [
      "  LOCATION    Country     VARIABLE                                Variable  \\\n",
      "0      AUS  Australia  GDPV_ANNPCT  Gross domestic product, volume, growth   \n",
      "1      AUS  Australia  GDPV_ANNPCT  Gross domestic product, volume, growth   \n",
      "2      AUS  Australia  GDPV_ANNPCT  Gross domestic product, volume, growth   \n",
      "3      AUS  Australia  GDPV_ANNPCT  Gross domestic product, volume, growth   \n",
      "4      AUS  Australia  GDPV_ANNPCT  Gross domestic product, volume, growth   \n",
      "\n",
      "  FREQUENCY Frequency  TIME  Time Unit Code        Unit  PowerCode Code  \\\n",
      "0         A    Annual  2003  2003        PC  Percentage               0   \n",
      "1         A    Annual  2004  2004        PC  Percentage               0   \n",
      "2         A    Annual  2005  2005        PC  Percentage               0   \n",
      "3         A    Annual  2006  2006        PC  Percentage               0   \n",
      "4         A    Annual  2007  2007        PC  Percentage               0   \n",
      "\n",
      "  PowerCode Reference Period Code Reference Period     Value  Flag Codes  \\\n",
      "0     Units               2018_19          2018-19  2.921406         NaN   \n",
      "1     Units               2018_19          2018-19  3.970002         NaN   \n",
      "2     Units               2018_19          2018-19  3.060089         NaN   \n",
      "3     Units               2018_19          2018-19  2.756867         NaN   \n",
      "4     Units               2018_19          2018-19  4.429282         NaN   \n",
      "\n",
      "   Flags  \n",
      "0    NaN  \n",
      "1    NaN  \n",
      "2    NaN  \n",
      "3    NaN  \n",
      "4    NaN  \n"
     ]
    }
   ],
   "source": [
    "def get_from_oecd(sdmx_query):\n",
    "    return pd.read_csv(\n",
    "        f\"https://stats.oecd.org/SDMX-JSON/data/{sdmx_query}?contentType=csv&startTime=2003&endTime=2023&pid=9b237e1c-7f76-41b7-b7bc-5fa6fbe125df\"\n",
    "    )\n",
    "\n",
    "economic_outlook =get_from_oecd('EO110_INTERNET/AUS+AUT+BEL+CAN+CHL+COL+CRI+CZE+DNK+EST+FIN+FRA+DEU+GRC+HUN+ISL+IRL+ISR+ITA+JPN+KOR+LVA+LTU+LUX+MEX+NLD+NZL+NOR+POL+PRT+SVK+SVN+ESP+SWE+CHE+TUR+GBR+USA+EA17+NAT+OTO+WLD+NMEC+ARG+BRA+BGR+CHN+IND+IDN+ROU+RUS+ZAF+GRPS+OPEC+PAC+EUR+SOV+DAE+ROW+RWD+OOP+OIL.GDPV_ANNPCT.A/all')\n",
    "\n",
    "print(economic_outlook.head())"
   ]
  },
  {
   "cell_type": "code",
   "execution_count": 27,
   "id": "86c008ba",
   "metadata": {
    "scrolled": true
   },
   "outputs": [
    {
     "data": {
      "text/plain": [
       "Index(['LOCATION', 'Country', 'VARIABLE', 'Variable', 'FREQUENCY', 'Frequency',\n",
       "       'TIME', 'Time', 'Unit Code', 'Unit', 'PowerCode Code', 'PowerCode',\n",
       "       'Reference Period Code', 'Reference Period', 'Value', 'Flag Codes',\n",
       "       'Flags'],\n",
       "      dtype='object')"
      ]
     },
     "execution_count": 27,
     "metadata": {},
     "output_type": "execute_result"
    }
   ],
   "source": [
    "economic_outlook.columns"
   ]
  },
  {
   "cell_type": "code",
   "execution_count": 28,
   "id": "52b90db2",
   "metadata": {},
   "outputs": [
    {
     "data": {
      "text/html": [
       "<div>\n",
       "<style scoped>\n",
       "    .dataframe tbody tr th:only-of-type {\n",
       "        vertical-align: middle;\n",
       "    }\n",
       "\n",
       "    .dataframe tbody tr th {\n",
       "        vertical-align: top;\n",
       "    }\n",
       "\n",
       "    .dataframe thead th {\n",
       "        text-align: right;\n",
       "    }\n",
       "</style>\n",
       "<table border=\"1\" class=\"dataframe\">\n",
       "  <thead>\n",
       "    <tr style=\"text-align: right;\">\n",
       "      <th></th>\n",
       "      <th>TIME</th>\n",
       "      <th>Time</th>\n",
       "      <th>PowerCode Code</th>\n",
       "      <th>Value</th>\n",
       "      <th>Flag Codes</th>\n",
       "      <th>Flags</th>\n",
       "    </tr>\n",
       "  </thead>\n",
       "  <tbody>\n",
       "    <tr>\n",
       "      <th>count</th>\n",
       "      <td>1134.000000</td>\n",
       "      <td>1134.000000</td>\n",
       "      <td>1134.0</td>\n",
       "      <td>1134.000000</td>\n",
       "      <td>0.0</td>\n",
       "      <td>0.0</td>\n",
       "    </tr>\n",
       "    <tr>\n",
       "      <th>mean</th>\n",
       "      <td>2013.000000</td>\n",
       "      <td>2013.000000</td>\n",
       "      <td>0.0</td>\n",
       "      <td>2.782269</td>\n",
       "      <td>NaN</td>\n",
       "      <td>NaN</td>\n",
       "    </tr>\n",
       "    <tr>\n",
       "      <th>std</th>\n",
       "      <td>6.057972</td>\n",
       "      <td>6.057972</td>\n",
       "      <td>0.0</td>\n",
       "      <td>3.525247</td>\n",
       "      <td>NaN</td>\n",
       "      <td>NaN</td>\n",
       "    </tr>\n",
       "    <tr>\n",
       "      <th>min</th>\n",
       "      <td>2003.000000</td>\n",
       "      <td>2003.000000</td>\n",
       "      <td>0.0</td>\n",
       "      <td>-14.838611</td>\n",
       "      <td>NaN</td>\n",
       "      <td>NaN</td>\n",
       "    </tr>\n",
       "    <tr>\n",
       "      <th>25%</th>\n",
       "      <td>2008.000000</td>\n",
       "      <td>2008.000000</td>\n",
       "      <td>0.0</td>\n",
       "      <td>1.460152</td>\n",
       "      <td>NaN</td>\n",
       "      <td>NaN</td>\n",
       "    </tr>\n",
       "    <tr>\n",
       "      <th>50%</th>\n",
       "      <td>2013.000000</td>\n",
       "      <td>2013.000000</td>\n",
       "      <td>0.0</td>\n",
       "      <td>2.903394</td>\n",
       "      <td>NaN</td>\n",
       "      <td>NaN</td>\n",
       "    </tr>\n",
       "    <tr>\n",
       "      <th>75%</th>\n",
       "      <td>2018.000000</td>\n",
       "      <td>2018.000000</td>\n",
       "      <td>0.0</td>\n",
       "      <td>4.668135</td>\n",
       "      <td>NaN</td>\n",
       "      <td>NaN</td>\n",
       "    </tr>\n",
       "    <tr>\n",
       "      <th>max</th>\n",
       "      <td>2023.000000</td>\n",
       "      <td>2023.000000</td>\n",
       "      <td>0.0</td>\n",
       "      <td>25.358044</td>\n",
       "      <td>NaN</td>\n",
       "      <td>NaN</td>\n",
       "    </tr>\n",
       "  </tbody>\n",
       "</table>\n",
       "</div>"
      ],
      "text/plain": [
       "              TIME         Time  PowerCode Code        Value  Flag Codes  \\\n",
       "count  1134.000000  1134.000000          1134.0  1134.000000         0.0   \n",
       "mean   2013.000000  2013.000000             0.0     2.782269         NaN   \n",
       "std       6.057972     6.057972             0.0     3.525247         NaN   \n",
       "min    2003.000000  2003.000000             0.0   -14.838611         NaN   \n",
       "25%    2008.000000  2008.000000             0.0     1.460152         NaN   \n",
       "50%    2013.000000  2013.000000             0.0     2.903394         NaN   \n",
       "75%    2018.000000  2018.000000             0.0     4.668135         NaN   \n",
       "max    2023.000000  2023.000000             0.0    25.358044         NaN   \n",
       "\n",
       "       Flags  \n",
       "count    0.0  \n",
       "mean     NaN  \n",
       "std      NaN  \n",
       "min      NaN  \n",
       "25%      NaN  \n",
       "50%      NaN  \n",
       "75%      NaN  \n",
       "max      NaN  "
      ]
     },
     "execution_count": 28,
     "metadata": {},
     "output_type": "execute_result"
    }
   ],
   "source": [
    "economic_outlook.describe()"
   ]
  },
  {
   "cell_type": "code",
   "execution_count": 29,
   "id": "85e0909e",
   "metadata": {
    "scrolled": true
   },
   "outputs": [
    {
     "name": "stdout",
     "output_type": "stream",
     "text": [
      "<class 'pandas.core.frame.DataFrame'>\n",
      "RangeIndex: 1134 entries, 0 to 1133\n",
      "Data columns (total 17 columns):\n",
      " #   Column                 Non-Null Count  Dtype  \n",
      "---  ------                 --------------  -----  \n",
      " 0   LOCATION               1134 non-null   object \n",
      " 1   Country                1134 non-null   object \n",
      " 2   VARIABLE               1134 non-null   object \n",
      " 3   Variable               1134 non-null   object \n",
      " 4   FREQUENCY              1134 non-null   object \n",
      " 5   Frequency              1134 non-null   object \n",
      " 6   TIME                   1134 non-null   int64  \n",
      " 7   Time                   1134 non-null   int64  \n",
      " 8   Unit Code              1134 non-null   object \n",
      " 9   Unit                   1134 non-null   object \n",
      " 10  PowerCode Code         1134 non-null   int64  \n",
      " 11  PowerCode              1134 non-null   object \n",
      " 12  Reference Period Code  1134 non-null   object \n",
      " 13  Reference Period       1134 non-null   object \n",
      " 14  Value                  1134 non-null   float64\n",
      " 15  Flag Codes             0 non-null      float64\n",
      " 16  Flags                  0 non-null      float64\n",
      "dtypes: float64(3), int64(3), object(11)\n",
      "memory usage: 150.7+ KB\n"
     ]
    }
   ],
   "source": [
    "economic_outlook.info()"
   ]
  },
  {
   "cell_type": "code",
   "execution_count": 30,
   "id": "90c3e067",
   "metadata": {},
   "outputs": [
    {
     "name": "stdout",
     "output_type": "stream",
     "text": [
      "['Gross domestic product, volume, growth']\n"
     ]
    }
   ],
   "source": [
    "economic_outlook_variable = economic_outlook[\"Variable\"].unique()\n",
    "print(economic_outlook_variable)"
   ]
  },
  {
   "cell_type": "code",
   "execution_count": 31,
   "id": "1129ac01",
   "metadata": {},
   "outputs": [
    {
     "name": "stdout",
     "output_type": "stream",
     "text": [
      "['Australia' 'Austria' 'Belgium' 'Canada' 'Czech Republic' 'Denmark'\n",
      " 'Finland' 'France' 'Germany' 'Greece' 'Hungary' 'Iceland' 'Ireland'\n",
      " 'Italy' 'Japan' 'Korea' 'Luxembourg' 'Mexico' 'Netherlands' 'New Zealand'\n",
      " 'Poland' 'Portugal' 'Slovak Republic' 'Spain' 'Sweden' 'Switzerland'\n",
      " 'Turkey' 'United Kingdom' 'United States' 'OECD - Total' 'Brazil' 'Chile'\n",
      " \"China (People's Republic of)\" 'Colombia' 'Costa Rica' 'Estonia' 'India'\n",
      " 'Indonesia' 'Israel' 'Latvia' 'Russia' 'South Africa' 'World'\n",
      " 'Dynamic Asian Economies' 'Other oil producers' 'Slovenia' 'Norway'\n",
      " 'Argentina' 'Non-OECD Economies' 'Euro area (17 countries)' 'Bulgaria'\n",
      " 'Rest of the World' 'Romania' 'Lithuania']\n"
     ]
    }
   ],
   "source": [
    "economic_outlook_variable_1 = economic_outlook[\"Country\"].unique()\n",
    "print(economic_outlook_variable_1)"
   ]
  },
  {
   "cell_type": "code",
   "execution_count": 32,
   "id": "fc2fd636",
   "metadata": {},
   "outputs": [],
   "source": [
    "non_individual_countries_economics=['Non-OECD Economies','OECD - Total','Other oil producers','Rest of the World','Dynamic Asian Economies','Euro area (17 countries)','World']"
   ]
  },
  {
   "cell_type": "code",
   "execution_count": 33,
   "id": "109d1ddd",
   "metadata": {
    "scrolled": true
   },
   "outputs": [
    {
     "name": "stdout",
     "output_type": "stream",
     "text": [
      "Country\n",
      "Argentina                       21\n",
      "Portugal                        21\n",
      "Latvia                          21\n",
      "Lithuania                       21\n",
      "Luxembourg                      21\n",
      "Mexico                          21\n",
      "Netherlands                     21\n",
      "New Zealand                     21\n",
      "Non-OECD Economies              21\n",
      "Norway                          21\n",
      "OECD - Total                    21\n",
      "Other oil producers             21\n",
      "Poland                          21\n",
      "Rest of the World               21\n",
      "Australia                       21\n",
      "Romania                         21\n",
      "Russia                          21\n",
      "Slovak Republic                 21\n",
      "Slovenia                        21\n",
      "South Africa                    21\n",
      "Spain                           21\n",
      "Sweden                          21\n",
      "Switzerland                     21\n",
      "Turkey                          21\n",
      "United Kingdom                  21\n",
      "United States                   21\n",
      "Korea                           21\n",
      "Japan                           21\n",
      "Italy                           21\n",
      "Israel                          21\n",
      "Austria                         21\n",
      "Belgium                         21\n",
      "Brazil                          21\n",
      "Bulgaria                        21\n",
      "Canada                          21\n",
      "Chile                           21\n",
      "China (People's Republic of)    21\n",
      "Colombia                        21\n",
      "Costa Rica                      21\n",
      "Czech Republic                  21\n",
      "Denmark                         21\n",
      "Dynamic Asian Economies         21\n",
      "Estonia                         21\n",
      "Euro area (17 countries)        21\n",
      "Finland                         21\n",
      "France                          21\n",
      "Germany                         21\n",
      "Greece                          21\n",
      "Hungary                         21\n",
      "Iceland                         21\n",
      "India                           21\n",
      "Indonesia                       21\n",
      "Ireland                         21\n",
      "World                           21\n",
      "Name: Variable, dtype: int64\n"
     ]
    }
   ],
   "source": [
    "e_variables= economic_outlook.groupby(['Country']).count()['Variable'].sort_values(ascending=False)\n",
    "print(e_variables)"
   ]
  },
  {
   "cell_type": "code",
   "execution_count": 34,
   "id": "4750966f",
   "metadata": {
    "scrolled": false
   },
   "outputs": [
    {
     "name": "stdout",
     "output_type": "stream",
     "text": [
      "['Australia' 'Austria' 'Belgium' 'Canada' 'Czech Republic' 'Denmark'\n",
      " 'Finland' 'France' 'Germany' 'Greece' 'Hungary' 'Iceland' 'Ireland'\n",
      " 'Italy' 'Japan' 'Korea' 'Luxembourg' 'Mexico' 'Netherlands' 'New Zealand'\n",
      " 'Poland' 'Portugal' 'Slovak Republic' 'Spain' 'Sweden' 'Switzerland'\n",
      " 'Turkey' 'United Kingdom' 'United States' 'Brazil' 'Chile'\n",
      " \"China (People's Republic of)\" 'Colombia' 'Costa Rica' 'Estonia' 'India'\n",
      " 'Indonesia' 'Israel' 'Latvia' 'Russia' 'South Africa' 'Slovenia' 'Norway'\n",
      " 'Argentina' 'Bulgaria' 'Romania' 'Lithuania']\n",
      "          LOCATION     VARIABLE                                Variable  \\\n",
      "Country                                                                   \n",
      "Australia      AUS  GDPV_ANNPCT  Gross domestic product, volume, growth   \n",
      "Australia      AUS  GDPV_ANNPCT  Gross domestic product, volume, growth   \n",
      "Australia      AUS  GDPV_ANNPCT  Gross domestic product, volume, growth   \n",
      "Australia      AUS  GDPV_ANNPCT  Gross domestic product, volume, growth   \n",
      "Australia      AUS  GDPV_ANNPCT  Gross domestic product, volume, growth   \n",
      "\n",
      "          FREQUENCY Frequency  TIME  Time Unit Code        Unit  \\\n",
      "Country                                                           \n",
      "Australia         A    Annual  2003  2003        PC  Percentage   \n",
      "Australia         A    Annual  2004  2004        PC  Percentage   \n",
      "Australia         A    Annual  2005  2005        PC  Percentage   \n",
      "Australia         A    Annual  2006  2006        PC  Percentage   \n",
      "Australia         A    Annual  2007  2007        PC  Percentage   \n",
      "\n",
      "           PowerCode Code PowerCode Reference Period Code Reference Period  \\\n",
      "Country                                                                      \n",
      "Australia               0     Units               2018_19          2018-19   \n",
      "Australia               0     Units               2018_19          2018-19   \n",
      "Australia               0     Units               2018_19          2018-19   \n",
      "Australia               0     Units               2018_19          2018-19   \n",
      "Australia               0     Units               2018_19          2018-19   \n",
      "\n",
      "              Value  Flag Codes  Flags  \n",
      "Country                                 \n",
      "Australia  2.921406         NaN    NaN  \n",
      "Australia  3.970002         NaN    NaN  \n",
      "Australia  3.060089         NaN    NaN  \n",
      "Australia  2.756867         NaN    NaN  \n",
      "Australia  4.429282         NaN    NaN  \n"
     ]
    }
   ],
   "source": [
    "economic_outlook = economic_outlook[economic_outlook.Country.isin(non_individual_countries_economics) == False]\n",
    "print(economic_outlook[\"Country\"].unique())\n",
    "economic_countries = economic_outlook.set_index(\"Country\")\n",
    "print(economic_countries.head())"
   ]
  },
  {
   "cell_type": "code",
   "execution_count": 35,
   "id": "1be86eaa",
   "metadata": {
    "scrolled": true
   },
   "outputs": [
    {
     "name": "stdout",
     "output_type": "stream",
     "text": [
      "['Percentage']\n"
     ]
    }
   ],
   "source": [
    "economic_countries_variable= economic_countries[\"Unit\"].unique()\n",
    "print(economic_countries_variable)"
   ]
  },
  {
   "cell_type": "code",
   "execution_count": 36,
   "id": "038e7801",
   "metadata": {
    "scrolled": true
   },
   "outputs": [
    {
     "name": "stdout",
     "output_type": "stream",
     "text": [
      "        LOCATION     VARIABLE                                Variable  \\\n",
      "Country                                                                 \n",
      "Ireland      IRL  GDPV_ANNPCT  Gross domestic product, volume, growth   \n",
      "Ireland      IRL  GDPV_ANNPCT  Gross domestic product, volume, growth   \n",
      "Ireland      IRL  GDPV_ANNPCT  Gross domestic product, volume, growth   \n",
      "Ireland      IRL  GDPV_ANNPCT  Gross domestic product, volume, growth   \n",
      "Ireland      IRL  GDPV_ANNPCT  Gross domestic product, volume, growth   \n",
      "\n",
      "        FREQUENCY Frequency  TIME  Time Unit Code        Unit  PowerCode Code  \\\n",
      "Country                                                                         \n",
      "Ireland         A    Annual  2003  2003        PC  Percentage               0   \n",
      "Ireland         A    Annual  2004  2004        PC  Percentage               0   \n",
      "Ireland         A    Annual  2005  2005        PC  Percentage               0   \n",
      "Ireland         A    Annual  2006  2006        PC  Percentage               0   \n",
      "Ireland         A    Annual  2007  2007        PC  Percentage               0   \n",
      "\n",
      "        PowerCode Reference Period Code Reference Period     Value  \\\n",
      "Country                                                              \n",
      "Ireland     Units                  2019             2019  3.555808   \n",
      "Ireland     Units                  2019             2019  6.404289   \n",
      "Ireland     Units                  2019             2019  5.877199   \n",
      "Ireland     Units                  2019             2019  5.061423   \n",
      "Ireland     Units                  2019             2019  5.309162   \n",
      "\n",
      "         Flag Codes  Flags  \n",
      "Country                     \n",
      "Ireland         NaN    NaN  \n",
      "Ireland         NaN    NaN  \n",
      "Ireland         NaN    NaN  \n",
      "Ireland         NaN    NaN  \n",
      "Ireland         NaN    NaN  \n"
     ]
    }
   ],
   "source": [
    "economic_ireland = economic_countries.loc[\"Ireland\"]\n",
    "print(economic_ireland.head())"
   ]
  },
  {
   "cell_type": "code",
   "execution_count": 37,
   "id": "fed969ea",
   "metadata": {},
   "outputs": [
    {
     "data": {
      "text/html": [
       "<div>\n",
       "<style scoped>\n",
       "    .dataframe tbody tr th:only-of-type {\n",
       "        vertical-align: middle;\n",
       "    }\n",
       "\n",
       "    .dataframe tbody tr th {\n",
       "        vertical-align: top;\n",
       "    }\n",
       "\n",
       "    .dataframe thead th {\n",
       "        text-align: right;\n",
       "    }\n",
       "</style>\n",
       "<table border=\"1\" class=\"dataframe\">\n",
       "  <thead>\n",
       "    <tr style=\"text-align: right;\">\n",
       "      <th></th>\n",
       "      <th>LOCATION</th>\n",
       "      <th>VARIABLE</th>\n",
       "      <th>Variable</th>\n",
       "      <th>FREQUENCY</th>\n",
       "      <th>Frequency</th>\n",
       "      <th>TIME</th>\n",
       "      <th>Time</th>\n",
       "      <th>Unit Code</th>\n",
       "      <th>Unit</th>\n",
       "      <th>PowerCode Code</th>\n",
       "      <th>PowerCode</th>\n",
       "      <th>Reference Period Code</th>\n",
       "      <th>Reference Period</th>\n",
       "      <th>Value</th>\n",
       "      <th>Flag Codes</th>\n",
       "      <th>Flags</th>\n",
       "    </tr>\n",
       "    <tr>\n",
       "      <th>Country</th>\n",
       "      <th></th>\n",
       "      <th></th>\n",
       "      <th></th>\n",
       "      <th></th>\n",
       "      <th></th>\n",
       "      <th></th>\n",
       "      <th></th>\n",
       "      <th></th>\n",
       "      <th></th>\n",
       "      <th></th>\n",
       "      <th></th>\n",
       "      <th></th>\n",
       "      <th></th>\n",
       "      <th></th>\n",
       "      <th></th>\n",
       "      <th></th>\n",
       "    </tr>\n",
       "  </thead>\n",
       "  <tbody>\n",
       "    <tr>\n",
       "      <th>Australia</th>\n",
       "      <td>AUS</td>\n",
       "      <td>GDPV_ANNPCT</td>\n",
       "      <td>Gross domestic product, volume, growth</td>\n",
       "      <td>A</td>\n",
       "      <td>Annual</td>\n",
       "      <td>2003</td>\n",
       "      <td>2003</td>\n",
       "      <td>PC</td>\n",
       "      <td>Percentage</td>\n",
       "      <td>0</td>\n",
       "      <td>Units</td>\n",
       "      <td>2018_19</td>\n",
       "      <td>2018-19</td>\n",
       "      <td>2.921406</td>\n",
       "      <td>NaN</td>\n",
       "      <td>NaN</td>\n",
       "    </tr>\n",
       "    <tr>\n",
       "      <th>Australia</th>\n",
       "      <td>AUS</td>\n",
       "      <td>GDPV_ANNPCT</td>\n",
       "      <td>Gross domestic product, volume, growth</td>\n",
       "      <td>A</td>\n",
       "      <td>Annual</td>\n",
       "      <td>2004</td>\n",
       "      <td>2004</td>\n",
       "      <td>PC</td>\n",
       "      <td>Percentage</td>\n",
       "      <td>0</td>\n",
       "      <td>Units</td>\n",
       "      <td>2018_19</td>\n",
       "      <td>2018-19</td>\n",
       "      <td>3.970002</td>\n",
       "      <td>NaN</td>\n",
       "      <td>NaN</td>\n",
       "    </tr>\n",
       "    <tr>\n",
       "      <th>Australia</th>\n",
       "      <td>AUS</td>\n",
       "      <td>GDPV_ANNPCT</td>\n",
       "      <td>Gross domestic product, volume, growth</td>\n",
       "      <td>A</td>\n",
       "      <td>Annual</td>\n",
       "      <td>2005</td>\n",
       "      <td>2005</td>\n",
       "      <td>PC</td>\n",
       "      <td>Percentage</td>\n",
       "      <td>0</td>\n",
       "      <td>Units</td>\n",
       "      <td>2018_19</td>\n",
       "      <td>2018-19</td>\n",
       "      <td>3.060089</td>\n",
       "      <td>NaN</td>\n",
       "      <td>NaN</td>\n",
       "    </tr>\n",
       "    <tr>\n",
       "      <th>Australia</th>\n",
       "      <td>AUS</td>\n",
       "      <td>GDPV_ANNPCT</td>\n",
       "      <td>Gross domestic product, volume, growth</td>\n",
       "      <td>A</td>\n",
       "      <td>Annual</td>\n",
       "      <td>2006</td>\n",
       "      <td>2006</td>\n",
       "      <td>PC</td>\n",
       "      <td>Percentage</td>\n",
       "      <td>0</td>\n",
       "      <td>Units</td>\n",
       "      <td>2018_19</td>\n",
       "      <td>2018-19</td>\n",
       "      <td>2.756867</td>\n",
       "      <td>NaN</td>\n",
       "      <td>NaN</td>\n",
       "    </tr>\n",
       "    <tr>\n",
       "      <th>Australia</th>\n",
       "      <td>AUS</td>\n",
       "      <td>GDPV_ANNPCT</td>\n",
       "      <td>Gross domestic product, volume, growth</td>\n",
       "      <td>A</td>\n",
       "      <td>Annual</td>\n",
       "      <td>2007</td>\n",
       "      <td>2007</td>\n",
       "      <td>PC</td>\n",
       "      <td>Percentage</td>\n",
       "      <td>0</td>\n",
       "      <td>Units</td>\n",
       "      <td>2018_19</td>\n",
       "      <td>2018-19</td>\n",
       "      <td>4.429282</td>\n",
       "      <td>NaN</td>\n",
       "      <td>NaN</td>\n",
       "    </tr>\n",
       "  </tbody>\n",
       "</table>\n",
       "</div>"
      ],
      "text/plain": [
       "          LOCATION     VARIABLE                                Variable  \\\n",
       "Country                                                                   \n",
       "Australia      AUS  GDPV_ANNPCT  Gross domestic product, volume, growth   \n",
       "Australia      AUS  GDPV_ANNPCT  Gross domestic product, volume, growth   \n",
       "Australia      AUS  GDPV_ANNPCT  Gross domestic product, volume, growth   \n",
       "Australia      AUS  GDPV_ANNPCT  Gross domestic product, volume, growth   \n",
       "Australia      AUS  GDPV_ANNPCT  Gross domestic product, volume, growth   \n",
       "\n",
       "          FREQUENCY Frequency  TIME  Time Unit Code        Unit  \\\n",
       "Country                                                           \n",
       "Australia         A    Annual  2003  2003        PC  Percentage   \n",
       "Australia         A    Annual  2004  2004        PC  Percentage   \n",
       "Australia         A    Annual  2005  2005        PC  Percentage   \n",
       "Australia         A    Annual  2006  2006        PC  Percentage   \n",
       "Australia         A    Annual  2007  2007        PC  Percentage   \n",
       "\n",
       "           PowerCode Code PowerCode Reference Period Code Reference Period  \\\n",
       "Country                                                                      \n",
       "Australia               0     Units               2018_19          2018-19   \n",
       "Australia               0     Units               2018_19          2018-19   \n",
       "Australia               0     Units               2018_19          2018-19   \n",
       "Australia               0     Units               2018_19          2018-19   \n",
       "Australia               0     Units               2018_19          2018-19   \n",
       "\n",
       "              Value  Flag Codes  Flags  \n",
       "Country                                 \n",
       "Australia  2.921406         NaN    NaN  \n",
       "Australia  3.970002         NaN    NaN  \n",
       "Australia  3.060089         NaN    NaN  \n",
       "Australia  2.756867         NaN    NaN  \n",
       "Australia  4.429282         NaN    NaN  "
      ]
     },
     "execution_count": 37,
     "metadata": {},
     "output_type": "execute_result"
    }
   ],
   "source": [
    "economic_countries.head()"
   ]
  },
  {
   "cell_type": "code",
   "execution_count": 38,
   "id": "a954e03d",
   "metadata": {
    "scrolled": false
   },
   "outputs": [
    {
     "data": {
      "text/plain": [
       "Text(0.5, 1.0, 'GDP in Ireland')"
      ]
     },
     "execution_count": 38,
     "metadata": {},
     "output_type": "execute_result"
    },
    {
     "data": {
      "image/png": "[encoded data removed]",
      "text/plain": [
       "<Figure size 720x360 with 1 Axes>"
      ]
     },
     "metadata": {
      "needs_background": "light"
     },
     "output_type": "display_data"
    }
   ],
   "source": [
    "fig, ax = plt.subplots(figsize=(10,5))\n",
    "sns.barplot(data=economic_ireland, y='Value', x='Time', hue='Variable')\n",
    "plt.title('GDP in Ireland')"
   ]
  },
  {
   "cell_type": "code",
   "execution_count": 39,
   "id": "964f00f7",
   "metadata": {
    "scrolled": false
   },
   "outputs": [
    {
     "data": {
      "text/plain": [
       "Text(0.5, 1.0, 'Global GDP')"
      ]
     },
     "execution_count": 39,
     "metadata": {},
     "output_type": "execute_result"
    },
    {
     "data": {
      "image/png": "[encoded data removed]",
      "text/plain": [
       "<Figure size 720x360 with 1 Axes>"
      ]
     },
     "metadata": {
      "needs_background": "light"
     },
     "output_type": "display_data"
    }
   ],
   "source": [
    "fig, ax = plt.subplots(figsize=(10,5))\n",
    "sns.barplot(data=economic_countries, y='Value', x='Time', hue='Variable')\n",
    "plt.title('Global GDP')"
   ]
  },
  {
   "cell_type": "markdown",
   "id": "98bf1e72",
   "metadata": {},
   "source": [
    "EXPLORING THE THIRD DATASET"
   ]
  },
  {
   "cell_type": "markdown",
   "id": "2aa77171",
   "metadata": {},
   "source": [
    "HISTORICAL POPULATION:\n",
    "\n",
    "1. Importing data\n",
    "2. Converting it to a DataFrame\n",
    "3. Reviewing data"
   ]
  },
  {
   "cell_type": "code",
   "execution_count": 40,
   "id": "2df2138a",
   "metadata": {
    "scrolled": true
   },
   "outputs": [
    {
     "data": {
      "text/html": [
       "<div>\n",
       "<style scoped>\n",
       "    .dataframe tbody tr th:only-of-type {\n",
       "        vertical-align: middle;\n",
       "    }\n",
       "\n",
       "    .dataframe tbody tr th {\n",
       "        vertical-align: top;\n",
       "    }\n",
       "\n",
       "    .dataframe thead th {\n",
       "        text-align: right;\n",
       "    }\n",
       "</style>\n",
       "<table border=\"1\" class=\"dataframe\">\n",
       "  <thead>\n",
       "    <tr style=\"text-align: right;\">\n",
       "      <th></th>\n",
       "      <th>Country</th>\n",
       "      <th>SEX</th>\n",
       "      <th>Sex</th>\n",
       "      <th>AGE</th>\n",
       "      <th>Age</th>\n",
       "      <th>TIME</th>\n",
       "      <th>Time</th>\n",
       "      <th>Value</th>\n",
       "      <th>Flag Codes</th>\n",
       "      <th>Flags</th>\n",
       "    </tr>\n",
       "    <tr>\n",
       "      <th>LOCATION</th>\n",
       "      <th></th>\n",
       "      <th></th>\n",
       "      <th></th>\n",
       "      <th></th>\n",
       "      <th></th>\n",
       "      <th></th>\n",
       "      <th></th>\n",
       "      <th></th>\n",
       "      <th></th>\n",
       "      <th></th>\n",
       "    </tr>\n",
       "  </thead>\n",
       "  <tbody>\n",
       "    <tr>\n",
       "      <th>AUS</th>\n",
       "      <td>Australia</td>\n",
       "      <td>W</td>\n",
       "      <td>Women</td>\n",
       "      <td>TOTAL</td>\n",
       "      <td>Total</td>\n",
       "      <td>2005</td>\n",
       "      <td>2005</td>\n",
       "      <td>10157211.0</td>\n",
       "      <td>NaN</td>\n",
       "      <td>NaN</td>\n",
       "    </tr>\n",
       "    <tr>\n",
       "      <th>AUS</th>\n",
       "      <td>Australia</td>\n",
       "      <td>W</td>\n",
       "      <td>Women</td>\n",
       "      <td>TOTAL</td>\n",
       "      <td>Total</td>\n",
       "      <td>2006</td>\n",
       "      <td>2006</td>\n",
       "      <td>10291542.0</td>\n",
       "      <td>NaN</td>\n",
       "      <td>NaN</td>\n",
       "    </tr>\n",
       "    <tr>\n",
       "      <th>AUS</th>\n",
       "      <td>Australia</td>\n",
       "      <td>W</td>\n",
       "      <td>Women</td>\n",
       "      <td>TOTAL</td>\n",
       "      <td>Total</td>\n",
       "      <td>2007</td>\n",
       "      <td>2007</td>\n",
       "      <td>10473986.0</td>\n",
       "      <td>NaN</td>\n",
       "      <td>NaN</td>\n",
       "    </tr>\n",
       "    <tr>\n",
       "      <th>AUS</th>\n",
       "      <td>Australia</td>\n",
       "      <td>W</td>\n",
       "      <td>Women</td>\n",
       "      <td>TOTAL</td>\n",
       "      <td>Total</td>\n",
       "      <td>2008</td>\n",
       "      <td>2008</td>\n",
       "      <td>10677154.0</td>\n",
       "      <td>NaN</td>\n",
       "      <td>NaN</td>\n",
       "    </tr>\n",
       "    <tr>\n",
       "      <th>AUS</th>\n",
       "      <td>Australia</td>\n",
       "      <td>W</td>\n",
       "      <td>Women</td>\n",
       "      <td>TOTAL</td>\n",
       "      <td>Total</td>\n",
       "      <td>2009</td>\n",
       "      <td>2009</td>\n",
       "      <td>10890856.0</td>\n",
       "      <td>NaN</td>\n",
       "      <td>NaN</td>\n",
       "    </tr>\n",
       "  </tbody>\n",
       "</table>\n",
       "</div>"
      ],
      "text/plain": [
       "            Country SEX    Sex    AGE    Age  TIME  Time       Value  \\\n",
       "LOCATION                                                               \n",
       "AUS       Australia   W  Women  TOTAL  Total  2005  2005  10157211.0   \n",
       "AUS       Australia   W  Women  TOTAL  Total  2006  2006  10291542.0   \n",
       "AUS       Australia   W  Women  TOTAL  Total  2007  2007  10473986.0   \n",
       "AUS       Australia   W  Women  TOTAL  Total  2008  2008  10677154.0   \n",
       "AUS       Australia   W  Women  TOTAL  Total  2009  2009  10890856.0   \n",
       "\n",
       "          Flag Codes  Flags  \n",
       "LOCATION                     \n",
       "AUS              NaN    NaN  \n",
       "AUS              NaN    NaN  \n",
       "AUS              NaN    NaN  \n",
       "AUS              NaN    NaN  \n",
       "AUS              NaN    NaN  "
      ]
     },
     "execution_count": 40,
     "metadata": {},
     "output_type": "execute_result"
    }
   ],
   "source": [
    "historical_pop = pd.read_csv(\"HISTPOP_OECD.csv\", index_col = 0)\n",
    "historical_pop.head()"
   ]
  },
  {
   "cell_type": "code",
   "execution_count": 41,
   "id": "1ffac00f",
   "metadata": {},
   "outputs": [
    {
     "data": {
      "text/html": [
       "<div>\n",
       "<style scoped>\n",
       "    .dataframe tbody tr th:only-of-type {\n",
       "        vertical-align: middle;\n",
       "    }\n",
       "\n",
       "    .dataframe tbody tr th {\n",
       "        vertical-align: top;\n",
       "    }\n",
       "\n",
       "    .dataframe thead th {\n",
       "        text-align: right;\n",
       "    }\n",
       "</style>\n",
       "<table border=\"1\" class=\"dataframe\">\n",
       "  <thead>\n",
       "    <tr style=\"text-align: right;\">\n",
       "      <th></th>\n",
       "      <th>TIME</th>\n",
       "      <th>Time</th>\n",
       "      <th>Value</th>\n",
       "      <th>Flag Codes</th>\n",
       "      <th>Flags</th>\n",
       "    </tr>\n",
       "  </thead>\n",
       "  <tbody>\n",
       "    <tr>\n",
       "      <th>count</th>\n",
       "      <td>81840.0000</td>\n",
       "      <td>81840.0000</td>\n",
       "      <td>8.184000e+04</td>\n",
       "      <td>0.0</td>\n",
       "      <td>0.0</td>\n",
       "    </tr>\n",
       "    <tr>\n",
       "      <th>mean</th>\n",
       "      <td>2012.5000</td>\n",
       "      <td>2012.5000</td>\n",
       "      <td>2.725835e+07</td>\n",
       "      <td>NaN</td>\n",
       "      <td>NaN</td>\n",
       "    </tr>\n",
       "    <tr>\n",
       "      <th>std</th>\n",
       "      <td>4.6098</td>\n",
       "      <td>4.6098</td>\n",
       "      <td>2.138482e+08</td>\n",
       "      <td>NaN</td>\n",
       "      <td>NaN</td>\n",
       "    </tr>\n",
       "    <tr>\n",
       "      <th>min</th>\n",
       "      <td>2005.0000</td>\n",
       "      <td>2005.0000</td>\n",
       "      <td>-2.334194e+00</td>\n",
       "      <td>NaN</td>\n",
       "      <td>NaN</td>\n",
       "    </tr>\n",
       "    <tr>\n",
       "      <th>25%</th>\n",
       "      <td>2008.7500</td>\n",
       "      <td>2008.7500</td>\n",
       "      <td>1.657375e+04</td>\n",
       "      <td>NaN</td>\n",
       "      <td>NaN</td>\n",
       "    </tr>\n",
       "    <tr>\n",
       "      <th>50%</th>\n",
       "      <td>2012.5000</td>\n",
       "      <td>2012.5000</td>\n",
       "      <td>3.523030e+05</td>\n",
       "      <td>NaN</td>\n",
       "      <td>NaN</td>\n",
       "    </tr>\n",
       "    <tr>\n",
       "      <th>75%</th>\n",
       "      <td>2016.2500</td>\n",
       "      <td>2016.2500</td>\n",
       "      <td>2.665769e+06</td>\n",
       "      <td>NaN</td>\n",
       "      <td>NaN</td>\n",
       "    </tr>\n",
       "    <tr>\n",
       "      <th>max</th>\n",
       "      <td>2020.0000</td>\n",
       "      <td>2020.0000</td>\n",
       "      <td>7.794799e+09</td>\n",
       "      <td>NaN</td>\n",
       "      <td>NaN</td>\n",
       "    </tr>\n",
       "  </tbody>\n",
       "</table>\n",
       "</div>"
      ],
      "text/plain": [
       "             TIME        Time         Value  Flag Codes  Flags\n",
       "count  81840.0000  81840.0000  8.184000e+04         0.0    0.0\n",
       "mean    2012.5000   2012.5000  2.725835e+07         NaN    NaN\n",
       "std        4.6098      4.6098  2.138482e+08         NaN    NaN\n",
       "min     2005.0000   2005.0000 -2.334194e+00         NaN    NaN\n",
       "25%     2008.7500   2008.7500  1.657375e+04         NaN    NaN\n",
       "50%     2012.5000   2012.5000  3.523030e+05         NaN    NaN\n",
       "75%     2016.2500   2016.2500  2.665769e+06         NaN    NaN\n",
       "max     2020.0000   2020.0000  7.794799e+09         NaN    NaN"
      ]
     },
     "execution_count": 41,
     "metadata": {},
     "output_type": "execute_result"
    }
   ],
   "source": [
    "historical_pop.describe()"
   ]
  },
  {
   "cell_type": "code",
   "execution_count": 42,
   "id": "10bf3c39",
   "metadata": {},
   "outputs": [
    {
     "data": {
      "text/plain": [
       "Index(['Country', 'SEX', 'Sex', 'AGE', 'Age', 'TIME', 'Time', 'Value',\n",
       "       'Flag Codes', 'Flags'],\n",
       "      dtype='object')"
      ]
     },
     "execution_count": 42,
     "metadata": {},
     "output_type": "execute_result"
    }
   ],
   "source": [
    "historical_pop.columns"
   ]
  },
  {
   "cell_type": "code",
   "execution_count": 43,
   "id": "517c1811",
   "metadata": {},
   "outputs": [
    {
     "name": "stdout",
     "output_type": "stream",
     "text": [
      "<class 'pandas.core.frame.DataFrame'>\n",
      "Index: 81840 entries, AUS to SVN\n",
      "Data columns (total 10 columns):\n",
      " #   Column      Non-Null Count  Dtype  \n",
      "---  ------      --------------  -----  \n",
      " 0   Country     81840 non-null  object \n",
      " 1   SEX         81840 non-null  object \n",
      " 2   Sex         81840 non-null  object \n",
      " 3   AGE         81840 non-null  object \n",
      " 4   Age         81840 non-null  object \n",
      " 5   TIME        81840 non-null  int64  \n",
      " 6   Time        81840 non-null  int64  \n",
      " 7   Value       81840 non-null  float64\n",
      " 8   Flag Codes  0 non-null      float64\n",
      " 9   Flags       0 non-null      float64\n",
      "dtypes: float64(3), int64(2), object(5)\n",
      "memory usage: 6.9+ MB\n"
     ]
    }
   ],
   "source": [
    "historical_pop.info()"
   ]
  },
  {
   "cell_type": "code",
   "execution_count": 44,
   "id": "7dad2d06",
   "metadata": {
    "scrolled": false
   },
   "outputs": [
    {
     "name": "stdout",
     "output_type": "stream",
     "text": [
      "['Australia' 'Austria' 'Belgium' 'Canada' 'Czech Republic' 'Denmark'\n",
      " 'Finland' 'France' 'Germany' 'Greece' 'Hungary' 'Iceland' 'Ireland'\n",
      " 'Italy' 'Japan' 'Korea' 'Luxembourg' 'Mexico' 'Netherlands' 'New Zealand'\n",
      " 'Norway' 'Poland' 'Portugal' 'Slovak Republic' 'Spain' 'Sweden'\n",
      " 'Switzerland' 'Turkey' 'United Kingdom' 'United States' 'Argentina'\n",
      " 'Brazil' 'Bulgaria' 'Chile' \"China (People's Republic of)\" 'Colombia'\n",
      " 'Costa Rica' 'Croatia' 'Cyprus' 'Estonia' 'India' 'Indonesia' 'Israel'\n",
      " 'Latvia' 'Lithuania' 'Malta' 'Romania' 'Russia' 'Saudi Arabia'\n",
      " 'Singapore' 'Slovenia' 'South Africa' 'World' 'G20' 'OECD - Total']\n"
     ]
    }
   ],
   "source": [
    "historical_pop_countries = historical_pop[\"Country\"].unique()\n",
    "print(historical_pop_countries)"
   ]
  },
  {
   "cell_type": "code",
   "execution_count": 45,
   "id": "7ae08e69",
   "metadata": {},
   "outputs": [],
   "source": [
    "non_individual_countries_historical=['World','G20','OECD - Total']"
   ]
  },
  {
   "cell_type": "code",
   "execution_count": 46,
   "id": "9d4519bf",
   "metadata": {},
   "outputs": [
    {
     "name": "stdout",
     "output_type": "stream",
     "text": [
      "['Australia' 'Austria' 'Belgium' 'Canada' 'Czech Republic' 'Denmark'\n",
      " 'Finland' 'France' 'Germany' 'Greece' 'Hungary' 'Iceland' 'Ireland'\n",
      " 'Italy' 'Japan' 'Korea' 'Luxembourg' 'Mexico' 'Netherlands' 'New Zealand'\n",
      " 'Norway' 'Poland' 'Portugal' 'Slovak Republic' 'Spain' 'Sweden'\n",
      " 'Switzerland' 'Turkey' 'United Kingdom' 'United States' 'Argentina'\n",
      " 'Brazil' 'Bulgaria' 'Chile' \"China (People's Republic of)\" 'Colombia'\n",
      " 'Costa Rica' 'Croatia' 'Cyprus' 'Estonia' 'India' 'Indonesia' 'Israel'\n",
      " 'Latvia' 'Lithuania' 'Malta' 'Romania' 'Russia' 'Saudi Arabia'\n",
      " 'Singapore' 'Slovenia' 'South Africa']\n"
     ]
    }
   ],
   "source": [
    "historical_pop = historical_pop[historical_pop.Country.isin(non_individual_countries_historical) == False]\n",
    "print(historical_pop[\"Country\"].unique())"
   ]
  },
  {
   "cell_type": "code",
   "execution_count": 47,
   "id": "d2f0dc5e",
   "metadata": {},
   "outputs": [
    {
     "name": "stdout",
     "output_type": "stream",
     "text": [
      "          SEX    Sex    AGE    Age  TIME  Time       Value  Flag Codes  Flags\n",
      "Country                                                                      \n",
      "Australia   W  Women  TOTAL  Total  2005  2005  10157211.0         NaN    NaN\n",
      "Australia   W  Women  TOTAL  Total  2006  2006  10291542.0         NaN    NaN\n",
      "Australia   W  Women  TOTAL  Total  2007  2007  10473986.0         NaN    NaN\n",
      "Australia   W  Women  TOTAL  Total  2008  2008  10677154.0         NaN    NaN\n",
      "Australia   W  Women  TOTAL  Total  2009  2009  10890856.0         NaN    NaN\n"
     ]
    }
   ],
   "source": [
    "historical_pop_countries_ind = historical_pop.set_index(\"Country\")\n",
    "print(historical_pop_countries_ind.head())"
   ]
  },
  {
   "cell_type": "code",
   "execution_count": 48,
   "id": "f2e05c0c",
   "metadata": {},
   "outputs": [
    {
     "name": "stdout",
     "output_type": "stream",
     "text": [
      "        SEX    Sex    AGE    Age  TIME  Time      Value  Flag Codes  Flags\n",
      "Country                                                                   \n",
      "Ireland   W  Women  TOTAL  Total  2005  2005  2072008.0         NaN    NaN\n",
      "Ireland   W  Women  TOTAL  Total  2006  2006  2115607.0         NaN    NaN\n",
      "Ireland   W  Women  TOTAL  Total  2007  2007  2184567.0         NaN    NaN\n",
      "Ireland   W  Women  TOTAL  Total  2008  2008  2246489.0         NaN    NaN\n",
      "Ireland   W  Women  TOTAL  Total  2009  2009  2276053.0         NaN    NaN\n"
     ]
    }
   ],
   "source": [
    "historical_pop_ireland = historical_pop.set_index(\"Country\").loc[\"Ireland\"]\n",
    "print(historical_pop_ireland.head())"
   ]
  },
  {
   "cell_type": "code",
   "execution_count": 49,
   "id": "e7d9d13f",
   "metadata": {
    "scrolled": false
   },
   "outputs": [
    {
     "data": {
      "text/plain": [
       "Text(0.5, 1.0, 'Global Population')"
      ]
     },
     "execution_count": 49,
     "metadata": {},
     "output_type": "execute_result"
    },
    {
     "data": {
      "image/png": "[encoded data removed]",
      "text/plain": [
       "<Figure size 720x360 with 1 Axes>"
      ]
     },
     "metadata": {
      "needs_background": "light"
     },
     "output_type": "display_data"
    }
   ],
   "source": [
    "fig, ax = plt.subplots(figsize=(10,5))\n",
    "sns.barplot(data=historical_pop_countries_ind, y='Value', x='Time', hue='Sex')\n",
    "plt.title('Global Population')"
   ]
  },
  {
   "cell_type": "code",
   "execution_count": 50,
   "id": "c7889446",
   "metadata": {},
   "outputs": [
    {
     "data": {
      "text/plain": [
       "Text(0.5, 1.0, 'Population in Ireland')"
      ]
     },
     "execution_count": 50,
     "metadata": {},
     "output_type": "execute_result"
    },
    {
     "data": {
      "image/png": "[encoded data removed]",
      "text/plain": [
       "<Figure size 720x360 with 1 Axes>"
      ]
     },
     "metadata": {
      "needs_background": "light"
     },
     "output_type": "display_data"
    }
   ],
   "source": [
    "fig, ax = plt.subplots(figsize=(10,5))\n",
    "sns.barplot(data=historical_pop_ireland, y='Value', x='Time', hue='Sex')\n",
    "plt.title('Population in Ireland')"
   ]
  },
  {
   "cell_type": "markdown",
   "id": "a648105a",
   "metadata": {},
   "source": [
    "PART TWO"
   ]
  },
  {
   "cell_type": "markdown",
   "id": "b57f0e53",
   "metadata": {},
   "source": [
    "Checking missing values, dropping & renaming columns in the datasets."
   ]
  },
  {
   "cell_type": "code",
   "execution_count": 51,
   "id": "74e82ff1",
   "metadata": {
    "scrolled": true
   },
   "outputs": [
    {
     "name": "stdout",
     "output_type": "stream",
     "text": [
      "SEX               0\n",
      "Sex               0\n",
      "AGE               0\n",
      "Age               0\n",
      "TIME              0\n",
      "Time              0\n",
      "Value             0\n",
      "Flag Codes    77376\n",
      "Flags         77376\n",
      "dtype: int64\n"
     ]
    }
   ],
   "source": [
    "missing_values_historical_pop = historical_pop_countries_ind.isnull().sum()\n",
    "print(missing_values_historical_pop[:])"
   ]
  },
  {
   "cell_type": "code",
   "execution_count": 52,
   "id": "ae032949",
   "metadata": {},
   "outputs": [
    {
     "name": "stdout",
     "output_type": "stream",
     "text": [
      "(77376, 2) (77376, 9)\n"
     ]
    }
   ],
   "source": [
    "dropcolumns_historical_pop= historical_pop_countries_ind.drop(['Flag Codes','Flags', 'SEX','Sex','AGE','Time','Age'],axis=1)\n",
    "print(dropcolumns_historical_pop.shape,historical_pop_countries_ind.shape)"
   ]
  },
  {
   "cell_type": "code",
   "execution_count": 53,
   "id": "3234e973",
   "metadata": {
    "scrolled": false
   },
   "outputs": [
    {
     "data": {
      "text/html": [
       "<div>\n",
       "<style scoped>\n",
       "    .dataframe tbody tr th:only-of-type {\n",
       "        vertical-align: middle;\n",
       "    }\n",
       "\n",
       "    .dataframe tbody tr th {\n",
       "        vertical-align: top;\n",
       "    }\n",
       "\n",
       "    .dataframe thead th {\n",
       "        text-align: right;\n",
       "    }\n",
       "</style>\n",
       "<table border=\"1\" class=\"dataframe\">\n",
       "  <thead>\n",
       "    <tr style=\"text-align: right;\">\n",
       "      <th></th>\n",
       "      <th>TIME</th>\n",
       "      <th>Value</th>\n",
       "    </tr>\n",
       "    <tr>\n",
       "      <th>Country</th>\n",
       "      <th></th>\n",
       "      <th></th>\n",
       "    </tr>\n",
       "  </thead>\n",
       "  <tbody>\n",
       "    <tr>\n",
       "      <th>Australia</th>\n",
       "      <td>2005</td>\n",
       "      <td>10157211.0</td>\n",
       "    </tr>\n",
       "    <tr>\n",
       "      <th>Australia</th>\n",
       "      <td>2006</td>\n",
       "      <td>10291542.0</td>\n",
       "    </tr>\n",
       "    <tr>\n",
       "      <th>Australia</th>\n",
       "      <td>2007</td>\n",
       "      <td>10473986.0</td>\n",
       "    </tr>\n",
       "    <tr>\n",
       "      <th>Australia</th>\n",
       "      <td>2008</td>\n",
       "      <td>10677154.0</td>\n",
       "    </tr>\n",
       "    <tr>\n",
       "      <th>Australia</th>\n",
       "      <td>2009</td>\n",
       "      <td>10890856.0</td>\n",
       "    </tr>\n",
       "  </tbody>\n",
       "</table>\n",
       "</div>"
      ],
      "text/plain": [
       "           TIME       Value\n",
       "Country                    \n",
       "Australia  2005  10157211.0\n",
       "Australia  2006  10291542.0\n",
       "Australia  2007  10473986.0\n",
       "Australia  2008  10677154.0\n",
       "Australia  2009  10890856.0"
      ]
     },
     "execution_count": 53,
     "metadata": {},
     "output_type": "execute_result"
    }
   ],
   "source": [
    "dropcolumns_historical_pop.head()"
   ]
  },
  {
   "cell_type": "code",
   "execution_count": 54,
   "id": "80f5bea3",
   "metadata": {},
   "outputs": [
    {
     "name": "stdout",
     "output_type": "stream",
     "text": [
      "           TIME         Value               Variable\n",
      "Country                                             \n",
      "Australia  2005  1.015721e+07  Historical population\n",
      "Australia  2006  1.029154e+07  Historical population\n",
      "Australia  2007  1.047399e+07  Historical population\n",
      "Australia  2008  1.067715e+07  Historical population\n",
      "Australia  2009  1.089086e+07  Historical population\n",
      "...         ...           ...                    ...\n",
      "Slovenia   2016  1.288929e-01  Historical population\n",
      "Slovenia   2017  2.052014e-01  Historical population\n",
      "Slovenia   2018  4.153131e-01  Historical population\n",
      "Slovenia   2019  1.514316e+00  Historical population\n",
      "Slovenia   2020  8.268991e-01  Historical population\n",
      "\n",
      "[77376 rows x 3 columns]\n"
     ]
    }
   ],
   "source": [
    "dropcolumns_historical_pop.insert(2,\"Variable\",\"Historical population\")\n",
    "print(dropcolumns_historical_pop)"
   ]
  },
  {
   "cell_type": "code",
   "execution_count": 55,
   "id": "cf40c672",
   "metadata": {
    "scrolled": true
   },
   "outputs": [
    {
     "name": "stdout",
     "output_type": "stream",
     "text": [
      "           Year       Value               Variable\n",
      "Country                                           \n",
      "Australia  2005  10157211.0  Historical population\n",
      "Australia  2006  10291542.0  Historical population\n",
      "Australia  2007  10473986.0  Historical population\n",
      "Australia  2008  10677154.0  Historical population\n",
      "Australia  2009  10890856.0  Historical population\n"
     ]
    }
   ],
   "source": [
    "historical=dropcolumns_historical_pop.rename(columns = {'TIME' : 'Year', 'Value' : 'Value'})\n",
    "print(historical.head())"
   ]
  },
  {
   "cell_type": "code",
   "execution_count": 56,
   "id": "675c2acd",
   "metadata": {},
   "outputs": [
    {
     "name": "stdout",
     "output_type": "stream",
     "text": [
      "         TIME      Value               Variable\n",
      "Country                                        \n",
      "Ireland  2005  2072008.0  Historical population\n",
      "Ireland  2006  2115607.0  Historical population\n",
      "Ireland  2007  2184567.0  Historical population\n",
      "Ireland  2008  2246489.0  Historical population\n",
      "Ireland  2009  2276053.0  Historical population\n"
     ]
    }
   ],
   "source": [
    "historical_Ireland = dropcolumns_historical_pop.filter(like='Ireland', axis=0)\n",
    "print(historical_Ireland.head())"
   ]
  },
  {
   "cell_type": "code",
   "execution_count": 57,
   "id": "6395f5bd",
   "metadata": {
    "scrolled": false
   },
   "outputs": [
    {
     "name": "stdout",
     "output_type": "stream",
     "text": [
      "LOCATION                   0\n",
      "VARIABLE                   0\n",
      "Variable                   0\n",
      "FREQUENCY                  0\n",
      "Frequency                  0\n",
      "TIME                       0\n",
      "Time                       0\n",
      "Unit Code                  0\n",
      "Unit                       0\n",
      "PowerCode Code             0\n",
      "PowerCode                  0\n",
      "Reference Period Code      0\n",
      "Reference Period           0\n",
      "Value                      0\n",
      "Flag Codes               987\n",
      "Flags                    987\n",
      "dtype: int64\n"
     ]
    }
   ],
   "source": [
    "missing_values_economic_outlook = economic_countries.isnull().sum()\n",
    "print(missing_values_economic_outlook[:])"
   ]
  },
  {
   "cell_type": "code",
   "execution_count": 58,
   "id": "cbe7bb02",
   "metadata": {},
   "outputs": [
    {
     "name": "stdout",
     "output_type": "stream",
     "text": [
      "(987, 3) (987, 16)\n"
     ]
    }
   ],
   "source": [
    "dropcolumns_economic= economic_countries.drop(['Flag Codes','Flags','FREQUENCY','Frequency','VARIABLE','Time', 'Unit Code', 'Unit','PowerCode Code','PowerCode','Reference Period Code','LOCATION','Reference Period'],axis=1)\n",
    "print(dropcolumns_economic.shape,economic_countries.shape)"
   ]
  },
  {
   "cell_type": "code",
   "execution_count": 59,
   "id": "44a4d3fd",
   "metadata": {
    "scrolled": true
   },
   "outputs": [
    {
     "data": {
      "text/html": [
       "<div>\n",
       "<style scoped>\n",
       "    .dataframe tbody tr th:only-of-type {\n",
       "        vertical-align: middle;\n",
       "    }\n",
       "\n",
       "    .dataframe tbody tr th {\n",
       "        vertical-align: top;\n",
       "    }\n",
       "\n",
       "    .dataframe thead th {\n",
       "        text-align: right;\n",
       "    }\n",
       "</style>\n",
       "<table border=\"1\" class=\"dataframe\">\n",
       "  <thead>\n",
       "    <tr style=\"text-align: right;\">\n",
       "      <th></th>\n",
       "      <th>Variable</th>\n",
       "      <th>TIME</th>\n",
       "      <th>Value</th>\n",
       "    </tr>\n",
       "    <tr>\n",
       "      <th>Country</th>\n",
       "      <th></th>\n",
       "      <th></th>\n",
       "      <th></th>\n",
       "    </tr>\n",
       "  </thead>\n",
       "  <tbody>\n",
       "    <tr>\n",
       "      <th>Australia</th>\n",
       "      <td>Gross domestic product, volume, growth</td>\n",
       "      <td>2003</td>\n",
       "      <td>2.921406</td>\n",
       "    </tr>\n",
       "    <tr>\n",
       "      <th>Australia</th>\n",
       "      <td>Gross domestic product, volume, growth</td>\n",
       "      <td>2004</td>\n",
       "      <td>3.970002</td>\n",
       "    </tr>\n",
       "    <tr>\n",
       "      <th>Australia</th>\n",
       "      <td>Gross domestic product, volume, growth</td>\n",
       "      <td>2005</td>\n",
       "      <td>3.060089</td>\n",
       "    </tr>\n",
       "    <tr>\n",
       "      <th>Australia</th>\n",
       "      <td>Gross domestic product, volume, growth</td>\n",
       "      <td>2006</td>\n",
       "      <td>2.756867</td>\n",
       "    </tr>\n",
       "    <tr>\n",
       "      <th>Australia</th>\n",
       "      <td>Gross domestic product, volume, growth</td>\n",
       "      <td>2007</td>\n",
       "      <td>4.429282</td>\n",
       "    </tr>\n",
       "  </tbody>\n",
       "</table>\n",
       "</div>"
      ],
      "text/plain": [
       "                                         Variable  TIME     Value\n",
       "Country                                                          \n",
       "Australia  Gross domestic product, volume, growth  2003  2.921406\n",
       "Australia  Gross domestic product, volume, growth  2004  3.970002\n",
       "Australia  Gross domestic product, volume, growth  2005  3.060089\n",
       "Australia  Gross domestic product, volume, growth  2006  2.756867\n",
       "Australia  Gross domestic product, volume, growth  2007  4.429282"
      ]
     },
     "execution_count": 59,
     "metadata": {},
     "output_type": "execute_result"
    }
   ],
   "source": [
    "dropcolumns_economic.head()"
   ]
  },
  {
   "cell_type": "code",
   "execution_count": 60,
   "id": "97a35fd5",
   "metadata": {},
   "outputs": [
    {
     "name": "stdout",
     "output_type": "stream",
     "text": [
      "                                         Variable  Year     Value\n",
      "Country                                                          \n",
      "Australia  Gross domestic product, volume, growth  2003  2.921406\n",
      "Australia  Gross domestic product, volume, growth  2004  3.970002\n",
      "Australia  Gross domestic product, volume, growth  2005  3.060089\n",
      "Australia  Gross domestic product, volume, growth  2006  2.756867\n",
      "Australia  Gross domestic product, volume, growth  2007  4.429282\n"
     ]
    }
   ],
   "source": [
    "economic=dropcolumns_economic.rename(columns = {'TIME' : 'Year', 'Variable' : 'Variable', 'Value' : 'Value'})\n",
    "print(economic.head())"
   ]
  },
  {
   "cell_type": "code",
   "execution_count": 61,
   "id": "a69e40e5",
   "metadata": {
    "scrolled": true
   },
   "outputs": [
    {
     "name": "stdout",
     "output_type": "stream",
     "text": [
      "                                       Variable  TIME      Value\n",
      "Country                                                         \n",
      "Ireland  Gross domestic product, volume, growth  2003   3.555808\n",
      "Ireland  Gross domestic product, volume, growth  2004   6.404289\n",
      "Ireland  Gross domestic product, volume, growth  2005   5.877199\n",
      "Ireland  Gross domestic product, volume, growth  2006   5.061423\n",
      "Ireland  Gross domestic product, volume, growth  2007   5.309162\n",
      "Ireland  Gross domestic product, volume, growth  2008  -4.574706\n",
      "Ireland  Gross domestic product, volume, growth  2009  -5.081486\n",
      "Ireland  Gross domestic product, volume, growth  2010   1.294209\n",
      "Ireland  Gross domestic product, volume, growth  2011   0.907993\n",
      "Ireland  Gross domestic product, volume, growth  2012  -0.145821\n",
      "Ireland  Gross domestic product, volume, growth  2013   1.585249\n",
      "Ireland  Gross domestic product, volume, growth  2014   8.477340\n",
      "Ireland  Gross domestic product, volume, growth  2015  25.358044\n",
      "Ireland  Gross domestic product, volume, growth  2016   2.360140\n",
      "Ireland  Gross domestic product, volume, growth  2017   9.146120\n",
      "Ireland  Gross domestic product, volume, growth  2018   9.172147\n",
      "Ireland  Gross domestic product, volume, growth  2019   5.104440\n",
      "Ireland  Gross domestic product, volume, growth  2020   5.841357\n",
      "Ireland  Gross domestic product, volume, growth  2021  15.169422\n",
      "Ireland  Gross domestic product, volume, growth  2022   5.679496\n",
      "Ireland  Gross domestic product, volume, growth  2023   3.850726\n"
     ]
    }
   ],
   "source": [
    "economic_Ireland = dropcolumns_economic.filter(like='Ireland', axis=0)\n",
    "print(economic_Ireland)"
   ]
  },
  {
   "cell_type": "code",
   "execution_count": 62,
   "id": "7c952f31",
   "metadata": {
    "scrolled": false
   },
   "outputs": [
    {
     "name": "stdout",
     "output_type": "stream",
     "text": [
      "VAR                         0\n",
      "YEA                         0\n",
      "Year                        0\n",
      "Unit Code                   0\n",
      "Unit                        0\n",
      "PowerCode Code              0\n",
      "PowerCode                   0\n",
      "Reference Period Code    3872\n",
      "Reference Period         3872\n",
      "Value                       0\n",
      "Flag Codes               2305\n",
      "Flags                    2305\n",
      "dtype: int64\n"
     ]
    }
   ],
   "source": [
    "missing_values_green_country = green_country.isnull().sum()\n",
    "print(missing_values_green_country[:])"
   ]
  },
  {
   "cell_type": "code",
   "execution_count": 63,
   "id": "435c08dc",
   "metadata": {
    "scrolled": false
   },
   "outputs": [
    {
     "name": "stdout",
     "output_type": "stream",
     "text": [
      "(3872, 3) (3872, 13)\n"
     ]
    }
   ],
   "source": [
    "dropcolumns_green= green_country.drop(['Flag Codes','Flags','Reference Period Code','Reference Period','PowerCode Code','PowerCode','Unit Code','YEA', 'Unit'],axis=1)\n",
    "print(dropcolumns_green.shape,green.shape)"
   ]
  },
  {
   "cell_type": "code",
   "execution_count": 64,
   "id": "bd5e0585",
   "metadata": {
    "scrolled": true
   },
   "outputs": [
    {
     "data": {
      "text/html": [
       "<div>\n",
       "<style scoped>\n",
       "    .dataframe tbody tr th:only-of-type {\n",
       "        vertical-align: middle;\n",
       "    }\n",
       "\n",
       "    .dataframe tbody tr th {\n",
       "        vertical-align: top;\n",
       "    }\n",
       "\n",
       "    .dataframe thead th {\n",
       "        text-align: right;\n",
       "    }\n",
       "</style>\n",
       "<table border=\"1\" class=\"dataframe\">\n",
       "  <thead>\n",
       "    <tr style=\"text-align: right;\">\n",
       "      <th></th>\n",
       "      <th>VAR</th>\n",
       "      <th>Year</th>\n",
       "      <th>Value</th>\n",
       "    </tr>\n",
       "    <tr>\n",
       "      <th>Country</th>\n",
       "      <th></th>\n",
       "      <th></th>\n",
       "      <th></th>\n",
       "    </tr>\n",
       "  </thead>\n",
       "  <tbody>\n",
       "    <tr>\n",
       "      <th>Bulgaria</th>\n",
       "      <td>PA_TERRESTRIAL</td>\n",
       "      <td>1990</td>\n",
       "      <td>2.343140</td>\n",
       "    </tr>\n",
       "    <tr>\n",
       "      <th>Bulgaria</th>\n",
       "      <td>PA_TERRESTRIAL</td>\n",
       "      <td>1995</td>\n",
       "      <td>4.654114</td>\n",
       "    </tr>\n",
       "    <tr>\n",
       "      <th>Bulgaria</th>\n",
       "      <td>PA_TERRESTRIAL</td>\n",
       "      <td>2000</td>\n",
       "      <td>4.866177</td>\n",
       "    </tr>\n",
       "    <tr>\n",
       "      <th>Bulgaria</th>\n",
       "      <td>PA_TERRESTRIAL</td>\n",
       "      <td>2010</td>\n",
       "      <td>40.671747</td>\n",
       "    </tr>\n",
       "    <tr>\n",
       "      <th>Bulgaria</th>\n",
       "      <td>PA_TERRESTRIAL</td>\n",
       "      <td>2015</td>\n",
       "      <td>40.870565</td>\n",
       "    </tr>\n",
       "  </tbody>\n",
       "</table>\n",
       "</div>"
      ],
      "text/plain": [
       "                     VAR  Year      Value\n",
       "Country                                  \n",
       "Bulgaria  PA_TERRESTRIAL  1990   2.343140\n",
       "Bulgaria  PA_TERRESTRIAL  1995   4.654114\n",
       "Bulgaria  PA_TERRESTRIAL  2000   4.866177\n",
       "Bulgaria  PA_TERRESTRIAL  2010  40.671747\n",
       "Bulgaria  PA_TERRESTRIAL  2015  40.870565"
      ]
     },
     "execution_count": 64,
     "metadata": {},
     "output_type": "execute_result"
    }
   ],
   "source": [
    "dropcolumns_green.head()"
   ]
  },
  {
   "cell_type": "code",
   "execution_count": 65,
   "id": "02f7364a",
   "metadata": {},
   "outputs": [
    {
     "name": "stdout",
     "output_type": "stream",
     "text": [
      "                Variable  Year      Value\n",
      "Country                                  \n",
      "Bulgaria  PA_TERRESTRIAL  1990   2.343140\n",
      "Bulgaria  PA_TERRESTRIAL  1995   4.654114\n",
      "Bulgaria  PA_TERRESTRIAL  2000   4.866177\n",
      "Bulgaria  PA_TERRESTRIAL  2010  40.671747\n",
      "Bulgaria  PA_TERRESTRIAL  2015  40.870565\n"
     ]
    }
   ],
   "source": [
    "dropcolumns_green_final=dropcolumns_green.rename(columns = {'VAR' : 'Variable', 'Value' : 'Value'})\n",
    "print(dropcolumns_green_final.head())"
   ]
  },
  {
   "cell_type": "code",
   "execution_count": 66,
   "id": "fee808f8",
   "metadata": {},
   "outputs": [
    {
     "name": "stdout",
     "output_type": "stream",
     "text": [
      "['PA_TERRESTRIAL' 'PA_MARINE' 'POPDEN']\n"
     ]
    }
   ],
   "source": [
    "dropcolumns_green_final_variable = dropcolumns_green[\"VAR\"].unique()\n",
    "print(dropcolumns_green_final_variable)"
   ]
  },
  {
   "cell_type": "code",
   "execution_count": 67,
   "id": "8b47aad7",
   "metadata": {},
   "outputs": [
    {
     "data": {
      "text/plain": [
       "(3872, 3)"
      ]
     },
     "execution_count": 67,
     "metadata": {},
     "output_type": "execute_result"
    }
   ],
   "source": [
    "dropcolumns_green_final.shape"
   ]
  },
  {
   "cell_type": "markdown",
   "id": "7196855d",
   "metadata": {},
   "source": [
    "PART THREE"
   ]
  },
  {
   "cell_type": "markdown",
   "id": "bbcd86b5",
   "metadata": {},
   "source": [
    "CREATING THE FINAL DATAFRAME & VISUALIZATIONS"
   ]
  },
  {
   "cell_type": "markdown",
   "id": "bceb669c",
   "metadata": {},
   "source": [
    "First I tried merging my 3 DataFrames"
   ]
  },
  {
   "cell_type": "code",
   "execution_count": 68,
   "id": "611bf14a",
   "metadata": {},
   "outputs": [
    {
     "name": "stdout",
     "output_type": "stream",
     "text": [
      "(984, 5)\n"
     ]
    }
   ],
   "source": [
    "new_df = pd.merge(economic,dropcolumns_green_final, left_on=['Country','Year'], right_on=['Country', 'Year'], how='inner')\n",
    "print(new_df.shape)"
   ]
  },
  {
   "cell_type": "code",
   "execution_count": 69,
   "id": "125e66e9",
   "metadata": {
    "scrolled": true
   },
   "outputs": [
    {
     "data": {
      "text/html": [
       "<div>\n",
       "<style scoped>\n",
       "    .dataframe tbody tr th:only-of-type {\n",
       "        vertical-align: middle;\n",
       "    }\n",
       "\n",
       "    .dataframe tbody tr th {\n",
       "        vertical-align: top;\n",
       "    }\n",
       "\n",
       "    .dataframe thead th {\n",
       "        text-align: right;\n",
       "    }\n",
       "</style>\n",
       "<table border=\"1\" class=\"dataframe\">\n",
       "  <thead>\n",
       "    <tr style=\"text-align: right;\">\n",
       "      <th></th>\n",
       "      <th>Variable_x</th>\n",
       "      <th>Year</th>\n",
       "      <th>Value_x</th>\n",
       "      <th>Variable_y</th>\n",
       "      <th>Value_y</th>\n",
       "    </tr>\n",
       "    <tr>\n",
       "      <th>Country</th>\n",
       "      <th></th>\n",
       "      <th></th>\n",
       "      <th></th>\n",
       "      <th></th>\n",
       "      <th></th>\n",
       "    </tr>\n",
       "  </thead>\n",
       "  <tbody>\n",
       "    <tr>\n",
       "      <th>Australia</th>\n",
       "      <td>Gross domestic product, volume, growth</td>\n",
       "      <td>2010</td>\n",
       "      <td>2.448044</td>\n",
       "      <td>PA_TERRESTRIAL</td>\n",
       "      <td>11.461127</td>\n",
       "    </tr>\n",
       "    <tr>\n",
       "      <th>Australia</th>\n",
       "      <td>Gross domestic product, volume, growth</td>\n",
       "      <td>2010</td>\n",
       "      <td>2.448044</td>\n",
       "      <td>PA_MARINE</td>\n",
       "      <td>6.002622</td>\n",
       "    </tr>\n",
       "    <tr>\n",
       "      <th>Australia</th>\n",
       "      <td>Gross domestic product, volume, growth</td>\n",
       "      <td>2010</td>\n",
       "      <td>2.448044</td>\n",
       "      <td>POPDEN</td>\n",
       "      <td>2.846031</td>\n",
       "    </tr>\n",
       "    <tr>\n",
       "      <th>Australia</th>\n",
       "      <td>Gross domestic product, volume, growth</td>\n",
       "      <td>2015</td>\n",
       "      <td>2.297318</td>\n",
       "      <td>PA_TERRESTRIAL</td>\n",
       "      <td>18.277165</td>\n",
       "    </tr>\n",
       "    <tr>\n",
       "      <th>Australia</th>\n",
       "      <td>Gross domestic product, volume, growth</td>\n",
       "      <td>2015</td>\n",
       "      <td>2.297318</td>\n",
       "      <td>PA_MARINE</td>\n",
       "      <td>11.252445</td>\n",
       "    </tr>\n",
       "  </tbody>\n",
       "</table>\n",
       "</div>"
      ],
      "text/plain": [
       "                                       Variable_x  Year   Value_x  \\\n",
       "Country                                                             \n",
       "Australia  Gross domestic product, volume, growth  2010  2.448044   \n",
       "Australia  Gross domestic product, volume, growth  2010  2.448044   \n",
       "Australia  Gross domestic product, volume, growth  2010  2.448044   \n",
       "Australia  Gross domestic product, volume, growth  2015  2.297318   \n",
       "Australia  Gross domestic product, volume, growth  2015  2.297318   \n",
       "\n",
       "               Variable_y    Value_y  \n",
       "Country                               \n",
       "Australia  PA_TERRESTRIAL  11.461127  \n",
       "Australia       PA_MARINE   6.002622  \n",
       "Australia          POPDEN   2.846031  \n",
       "Australia  PA_TERRESTRIAL  18.277165  \n",
       "Australia       PA_MARINE  11.252445  "
      ]
     },
     "execution_count": 69,
     "metadata": {},
     "output_type": "execute_result"
    }
   ],
   "source": [
    "new_df.head()"
   ]
  },
  {
   "cell_type": "code",
   "execution_count": 70,
   "id": "8505ebfc",
   "metadata": {},
   "outputs": [
    {
     "name": "stdout",
     "output_type": "stream",
     "text": [
      "(80073, 7)\n"
     ]
    }
   ],
   "source": [
    "final_df = pd.merge(new_df, historical, left_on=['Country','Year'], right_on=['Country', 'Year'], how='inner')\n",
    "print(final_df.shape)"
   ]
  },
  {
   "cell_type": "code",
   "execution_count": 71,
   "id": "61fe8a05",
   "metadata": {
    "scrolled": false
   },
   "outputs": [
    {
     "name": "stdout",
     "output_type": "stream",
     "text": [
      "<class 'pandas.core.frame.DataFrame'>\n",
      "Index: 80073 entries, Australia to Lithuania\n",
      "Data columns (total 7 columns):\n",
      " #   Column      Non-Null Count  Dtype  \n",
      "---  ------      --------------  -----  \n",
      " 0   Variable_x  80073 non-null  object \n",
      " 1   Year        80073 non-null  int64  \n",
      " 2   Value_x     80073 non-null  float64\n",
      " 3   Variable_y  80073 non-null  object \n",
      " 4   Value_y     80073 non-null  float64\n",
      " 5   Value       80073 non-null  float64\n",
      " 6   Variable    80073 non-null  object \n",
      "dtypes: float64(3), int64(1), object(3)\n",
      "memory usage: 4.9+ MB\n"
     ]
    }
   ],
   "source": [
    "final_df.info()"
   ]
  },
  {
   "cell_type": "code",
   "execution_count": 72,
   "id": "f93fff9f",
   "metadata": {
    "scrolled": true
   },
   "outputs": [
    {
     "data": {
      "text/html": [
       "<div>\n",
       "<style scoped>\n",
       "    .dataframe tbody tr th:only-of-type {\n",
       "        vertical-align: middle;\n",
       "    }\n",
       "\n",
       "    .dataframe tbody tr th {\n",
       "        vertical-align: top;\n",
       "    }\n",
       "\n",
       "    .dataframe thead th {\n",
       "        text-align: right;\n",
       "    }\n",
       "</style>\n",
       "<table border=\"1\" class=\"dataframe\">\n",
       "  <thead>\n",
       "    <tr style=\"text-align: right;\">\n",
       "      <th></th>\n",
       "      <th>Variable_x</th>\n",
       "      <th>Year</th>\n",
       "      <th>Value_x</th>\n",
       "      <th>Variable_y</th>\n",
       "      <th>Value_y</th>\n",
       "      <th>Value</th>\n",
       "      <th>Variable</th>\n",
       "    </tr>\n",
       "    <tr>\n",
       "      <th>Country</th>\n",
       "      <th></th>\n",
       "      <th></th>\n",
       "      <th></th>\n",
       "      <th></th>\n",
       "      <th></th>\n",
       "      <th></th>\n",
       "      <th></th>\n",
       "    </tr>\n",
       "  </thead>\n",
       "  <tbody>\n",
       "    <tr>\n",
       "      <th>Australia</th>\n",
       "      <td>Gross domestic product, volume, growth</td>\n",
       "      <td>2010</td>\n",
       "      <td>2.448044</td>\n",
       "      <td>PA_TERRESTRIAL</td>\n",
       "      <td>11.461127</td>\n",
       "      <td>11063919.0</td>\n",
       "      <td>Historical population</td>\n",
       "    </tr>\n",
       "    <tr>\n",
       "      <th>Australia</th>\n",
       "      <td>Gross domestic product, volume, growth</td>\n",
       "      <td>2010</td>\n",
       "      <td>2.448044</td>\n",
       "      <td>PA_TERRESTRIAL</td>\n",
       "      <td>11.461127</td>\n",
       "      <td>10967831.0</td>\n",
       "      <td>Historical population</td>\n",
       "    </tr>\n",
       "    <tr>\n",
       "      <th>Australia</th>\n",
       "      <td>Gross domestic product, volume, growth</td>\n",
       "      <td>2010</td>\n",
       "      <td>2.448044</td>\n",
       "      <td>PA_TERRESTRIAL</td>\n",
       "      <td>11.461127</td>\n",
       "      <td>22031750.0</td>\n",
       "      <td>Historical population</td>\n",
       "    </tr>\n",
       "    <tr>\n",
       "      <th>Australia</th>\n",
       "      <td>Gross domestic product, volume, growth</td>\n",
       "      <td>2010</td>\n",
       "      <td>2.448044</td>\n",
       "      <td>PA_TERRESTRIAL</td>\n",
       "      <td>11.461127</td>\n",
       "      <td>707690.0</td>\n",
       "      <td>Historical population</td>\n",
       "    </tr>\n",
       "    <tr>\n",
       "      <th>Australia</th>\n",
       "      <td>Gross domestic product, volume, growth</td>\n",
       "      <td>2010</td>\n",
       "      <td>2.448044</td>\n",
       "      <td>PA_TERRESTRIAL</td>\n",
       "      <td>11.461127</td>\n",
       "      <td>746322.0</td>\n",
       "      <td>Historical population</td>\n",
       "    </tr>\n",
       "  </tbody>\n",
       "</table>\n",
       "</div>"
      ],
      "text/plain": [
       "                                       Variable_x  Year   Value_x  \\\n",
       "Country                                                             \n",
       "Australia  Gross domestic product, volume, growth  2010  2.448044   \n",
       "Australia  Gross domestic product, volume, growth  2010  2.448044   \n",
       "Australia  Gross domestic product, volume, growth  2010  2.448044   \n",
       "Australia  Gross domestic product, volume, growth  2010  2.448044   \n",
       "Australia  Gross domestic product, volume, growth  2010  2.448044   \n",
       "\n",
       "               Variable_y    Value_y       Value               Variable  \n",
       "Country                                                                  \n",
       "Australia  PA_TERRESTRIAL  11.461127  11063919.0  Historical population  \n",
       "Australia  PA_TERRESTRIAL  11.461127  10967831.0  Historical population  \n",
       "Australia  PA_TERRESTRIAL  11.461127  22031750.0  Historical population  \n",
       "Australia  PA_TERRESTRIAL  11.461127    707690.0  Historical population  \n",
       "Australia  PA_TERRESTRIAL  11.461127    746322.0  Historical population  "
      ]
     },
     "execution_count": 72,
     "metadata": {},
     "output_type": "execute_result"
    }
   ],
   "source": [
    "final_df.head()"
   ]
  },
  {
   "cell_type": "code",
   "execution_count": 73,
   "id": "2910f621",
   "metadata": {
    "scrolled": false
   },
   "outputs": [
    {
     "data": {
      "text/html": [
       "<div>\n",
       "<style scoped>\n",
       "    .dataframe tbody tr th:only-of-type {\n",
       "        vertical-align: middle;\n",
       "    }\n",
       "\n",
       "    .dataframe tbody tr th {\n",
       "        vertical-align: top;\n",
       "    }\n",
       "\n",
       "    .dataframe thead th {\n",
       "        text-align: right;\n",
       "    }\n",
       "</style>\n",
       "<table border=\"1\" class=\"dataframe\">\n",
       "  <thead>\n",
       "    <tr style=\"text-align: right;\">\n",
       "      <th></th>\n",
       "      <th>Year</th>\n",
       "      <th>Value_x</th>\n",
       "      <th>Value_y</th>\n",
       "      <th>Value</th>\n",
       "    </tr>\n",
       "  </thead>\n",
       "  <tbody>\n",
       "    <tr>\n",
       "      <th>count</th>\n",
       "      <td>80073.000000</td>\n",
       "      <td>80073.000000</td>\n",
       "      <td>80073.000000</td>\n",
       "      <td>8.007300e+04</td>\n",
       "    </tr>\n",
       "    <tr>\n",
       "      <th>mean</th>\n",
       "      <td>2016.428571</td>\n",
       "      <td>1.841683</td>\n",
       "      <td>50.878988</td>\n",
       "      <td>9.708335e+06</td>\n",
       "    </tr>\n",
       "    <tr>\n",
       "      <th>std</th>\n",
       "      <td>3.063964</td>\n",
       "      <td>3.777600</td>\n",
       "      <td>88.243412</td>\n",
       "      <td>5.710919e+07</td>\n",
       "    </tr>\n",
       "    <tr>\n",
       "      <th>min</th>\n",
       "      <td>2010.000000</td>\n",
       "      <td>-10.822961</td>\n",
       "      <td>0.060095</td>\n",
       "      <td>-2.276966e+00</td>\n",
       "    </tr>\n",
       "    <tr>\n",
       "      <th>25%</th>\n",
       "      <td>2015.000000</td>\n",
       "      <td>1.087047</td>\n",
       "      <td>11.305661</td>\n",
       "      <td>3.305900e+04</td>\n",
       "    </tr>\n",
       "    <tr>\n",
       "      <th>50%</th>\n",
       "      <td>2017.000000</td>\n",
       "      <td>2.256315</td>\n",
       "      <td>20.384457</td>\n",
       "      <td>4.879250e+05</td>\n",
       "    </tr>\n",
       "    <tr>\n",
       "      <th>75%</th>\n",
       "      <td>2019.000000</td>\n",
       "      <td>3.728468</td>\n",
       "      <td>40.870807</td>\n",
       "      <td>2.805004e+06</td>\n",
       "    </tr>\n",
       "    <tr>\n",
       "      <th>max</th>\n",
       "      <td>2020.000000</td>\n",
       "      <td>25.358044</td>\n",
       "      <td>515.742800</td>\n",
       "      <td>1.439324e+09</td>\n",
       "    </tr>\n",
       "  </tbody>\n",
       "</table>\n",
       "</div>"
      ],
      "text/plain": [
       "               Year       Value_x       Value_y         Value\n",
       "count  80073.000000  80073.000000  80073.000000  8.007300e+04\n",
       "mean    2016.428571      1.841683     50.878988  9.708335e+06\n",
       "std        3.063964      3.777600     88.243412  5.710919e+07\n",
       "min     2010.000000    -10.822961      0.060095 -2.276966e+00\n",
       "25%     2015.000000      1.087047     11.305661  3.305900e+04\n",
       "50%     2017.000000      2.256315     20.384457  4.879250e+05\n",
       "75%     2019.000000      3.728468     40.870807  2.805004e+06\n",
       "max     2020.000000     25.358044    515.742800  1.439324e+09"
      ]
     },
     "execution_count": 73,
     "metadata": {},
     "output_type": "execute_result"
    }
   ],
   "source": [
    "final_df.describe()"
   ]
  },
  {
   "cell_type": "markdown",
   "id": "7405245a",
   "metadata": {},
   "source": [
    "Creating the final DataFrame using the concat function."
   ]
  },
  {
   "cell_type": "code",
   "execution_count": 74,
   "id": "b636e4fc",
   "metadata": {
    "scrolled": true
   },
   "outputs": [
    {
     "name": "stdout",
     "output_type": "stream",
     "text": [
      "                                         Variable  Year     Value\n",
      "Country                                                          \n",
      "Australia  Gross domestic product, volume, growth  2003  2.921406\n",
      "Australia  Gross domestic product, volume, growth  2004  3.970002\n",
      "Australia  Gross domestic product, volume, growth  2005  3.060089\n",
      "Australia  Gross domestic product, volume, growth  2006  2.756867\n",
      "Australia  Gross domestic product, volume, growth  2007  4.429282\n"
     ]
    }
   ],
   "source": [
    "concat_df = pd.concat([economic,dropcolumns_green_final,historical])\n",
    "print(concat_df.head())"
   ]
  },
  {
   "cell_type": "code",
   "execution_count": 75,
   "id": "07455099",
   "metadata": {},
   "outputs": [
    {
     "data": {
      "text/plain": [
       "Index(['Australia', 'Austria', 'Belgium', 'Canada', 'Czech Republic',\n",
       "       'Denmark', 'Finland', 'France', 'Germany', 'Greece', 'Hungary',\n",
       "       'Iceland', 'Ireland', 'Italy', 'Japan', 'Korea', 'Luxembourg', 'Mexico',\n",
       "       'Netherlands', 'New Zealand', 'Poland', 'Portugal', 'Slovak Republic',\n",
       "       'Spain', 'Sweden', 'Switzerland', 'Turkey', 'United Kingdom',\n",
       "       'United States', 'Brazil', 'Chile', 'China (People's Republic of)',\n",
       "       'Colombia', 'Costa Rica', 'Estonia', 'India', 'Indonesia', 'Israel',\n",
       "       'Latvia', 'Russia', 'South Africa', 'Slovenia', 'Norway', 'Argentina',\n",
       "       'Bulgaria', 'Romania', 'Lithuania'],\n",
       "      dtype='object', name='Country')"
      ]
     },
     "execution_count": 75,
     "metadata": {},
     "output_type": "execute_result"
    }
   ],
   "source": [
    "economic.index.unique()"
   ]
  },
  {
   "cell_type": "code",
   "execution_count": 76,
   "id": "e1cb2fc3",
   "metadata": {
    "scrolled": true
   },
   "outputs": [
    {
     "name": "stdout",
     "output_type": "stream",
     "text": [
      "<class 'pandas.core.frame.DataFrame'>\n",
      "Index: 82235 entries, Australia to Slovenia\n",
      "Data columns (total 3 columns):\n",
      " #   Column    Non-Null Count  Dtype  \n",
      "---  ------    --------------  -----  \n",
      " 0   Variable  82235 non-null  object \n",
      " 1   Year      82235 non-null  int64  \n",
      " 2   Value     82235 non-null  float64\n",
      "dtypes: float64(1), int64(1), object(1)\n",
      "memory usage: 2.5+ MB\n"
     ]
    }
   ],
   "source": [
    "concat_df.info()"
   ]
  },
  {
   "cell_type": "code",
   "execution_count": 77,
   "id": "82c91dac",
   "metadata": {
    "scrolled": true
   },
   "outputs": [
    {
     "name": "stdout",
     "output_type": "stream",
     "text": [
      "Variable    0\n",
      "Year        0\n",
      "Value       0\n",
      "dtype: int64\n"
     ]
    }
   ],
   "source": [
    "missing_values_concat_df = concat_df.isnull().sum()\n",
    "print(missing_values_concat_df[:])"
   ]
  },
  {
   "cell_type": "code",
   "execution_count": 78,
   "id": "b2c3bec3",
   "metadata": {
    "scrolled": false
   },
   "outputs": [
    {
     "name": "stdout",
     "output_type": "stream",
     "text": [
      "[2003 2004 2005 2006 2007 2008 2009 2010 2011 2012 2013 2014 2015 2016\n",
      " 2017 2018 2019 2020 2021 2022 2023 1990 1995 2000]\n"
     ]
    }
   ],
   "source": [
    "concat_df_unique = concat_df[\"Year\"].unique()\n",
    "print(concat_df_unique)"
   ]
  },
  {
   "cell_type": "code",
   "execution_count": 79,
   "id": "f13d0fe9",
   "metadata": {
    "scrolled": false
   },
   "outputs": [
    {
     "name": "stdout",
     "output_type": "stream",
     "text": [
      "                                         Variable  Year     Value\n",
      "Country                                                          \n",
      "Australia  Gross domestic product, volume, growth  2003  2.921406\n",
      "Australia  Gross domestic product, volume, growth  2004  3.970002\n",
      "Australia  Gross domestic product, volume, growth  2005  3.060089\n",
      "Australia  Gross domestic product, volume, growth  2006  2.756867\n",
      "Australia  Gross domestic product, volume, growth  2007  4.429282\n",
      "...                                           ...   ...       ...\n",
      "Slovenia                    Historical population  2016  0.128893\n",
      "Slovenia                    Historical population  2017  0.205201\n",
      "Slovenia                    Historical population  2018  0.415313\n",
      "Slovenia                    Historical population  2019  1.514316\n",
      "Slovenia                    Historical population  2020  0.826899\n",
      "\n",
      "[81474 rows x 3 columns]\n"
     ]
    }
   ],
   "source": [
    "concat_df =concat_df[concat_df.Value>0]\n",
    "print(concat_df)"
   ]
  },
  {
   "cell_type": "code",
   "execution_count": 80,
   "id": "8941cd2c",
   "metadata": {},
   "outputs": [
    {
     "data": {
      "text/plain": [
       "Index(['Australia', 'Austria', 'Belgium', 'Canada', 'Czech Republic',\n",
       "       'Denmark', 'Finland', 'France', 'Germany', 'Greece',\n",
       "       ...\n",
       "       'Gabon', 'Saint Vincent and the Grenadines', 'Dominica',\n",
       "       'Saint Kitts and Nevis', 'Guinea-Bissau', 'Comoros', 'Saint Lucia',\n",
       "       'Guyana', 'Timor-Leste', 'Monaco'],\n",
       "      dtype='object', name='Country', length=209)"
      ]
     },
     "execution_count": 80,
     "metadata": {},
     "output_type": "execute_result"
    }
   ],
   "source": [
    "concat_df.index.unique()"
   ]
  },
  {
   "cell_type": "code",
   "execution_count": 81,
   "id": "362c25fe",
   "metadata": {},
   "outputs": [
    {
     "data": {
      "text/plain": [
       "Country        Year\n",
       "Argentina      2003    8.955364\n",
       "               2004    8.911169\n",
       "               2005    8.851660\n",
       "               2006    8.047152\n",
       "               2007    9.007651\n",
       "                         ...   \n",
       "United States  2018    2.918856\n",
       "               2019    2.288869\n",
       "               2021    5.559456\n",
       "               2022    3.733076\n",
       "               2023    2.439133\n",
       "Name: Value, Length: 852, dtype: float64"
      ]
     },
     "execution_count": 81,
     "metadata": {},
     "output_type": "execute_result"
    }
   ],
   "source": [
    "\n",
    "concat_df.loc[concat_df[\"Variable\"]=='Gross domestic product, volume, growth'].groupby(['Country','Year']).mean()['Value']"
   ]
  },
  {
   "cell_type": "code",
   "execution_count": 82,
   "id": "6f6a1ef2",
   "metadata": {},
   "outputs": [
    {
     "data": {
      "text/plain": [
       "Country\n",
       "Australia    2.921406\n",
       "Australia    3.970002\n",
       "Australia    3.060089\n",
       "Australia    2.756867\n",
       "Australia    4.429282\n",
       "               ...   \n",
       "Lithuania    3.993310\n",
       "Lithuania    4.573771\n",
       "Lithuania    5.149102\n",
       "Lithuania    3.753969\n",
       "Lithuania    3.545814\n",
       "Name: Value, Length: 852, dtype: float64"
      ]
     },
     "execution_count": 82,
     "metadata": {},
     "output_type": "execute_result"
    }
   ],
   "source": [
    "concat_df.loc[concat_df[\"Variable\"]=='Gross domestic product, volume, growth'].Value"
   ]
  },
  {
   "cell_type": "code",
   "execution_count": 83,
   "id": "00d0f708",
   "metadata": {},
   "outputs": [
    {
     "data": {
      "text/html": [
       "<div>\n",
       "<style scoped>\n",
       "    .dataframe tbody tr th:only-of-type {\n",
       "        vertical-align: middle;\n",
       "    }\n",
       "\n",
       "    .dataframe tbody tr th {\n",
       "        vertical-align: top;\n",
       "    }\n",
       "\n",
       "    .dataframe thead th {\n",
       "        text-align: right;\n",
       "    }\n",
       "</style>\n",
       "<table border=\"1\" class=\"dataframe\">\n",
       "  <thead>\n",
       "    <tr style=\"text-align: right;\">\n",
       "      <th></th>\n",
       "      <th>Average</th>\n",
       "    </tr>\n",
       "    <tr>\n",
       "      <th>Year</th>\n",
       "      <th></th>\n",
       "    </tr>\n",
       "  </thead>\n",
       "  <tbody>\n",
       "    <tr>\n",
       "      <th>2003</th>\n",
       "      <td>3.719423</td>\n",
       "    </tr>\n",
       "    <tr>\n",
       "      <th>2004</th>\n",
       "      <td>4.895545</td>\n",
       "    </tr>\n",
       "    <tr>\n",
       "      <th>2005</th>\n",
       "      <td>4.424339</td>\n",
       "    </tr>\n",
       "    <tr>\n",
       "      <th>2006</th>\n",
       "      <td>5.350723</td>\n",
       "    </tr>\n",
       "    <tr>\n",
       "      <th>2007</th>\n",
       "      <td>5.346442</td>\n",
       "    </tr>\n",
       "    <tr>\n",
       "      <th>2008</th>\n",
       "      <td>2.962488</td>\n",
       "    </tr>\n",
       "    <tr>\n",
       "      <th>2009</th>\n",
       "      <td>3.028432</td>\n",
       "    </tr>\n",
       "    <tr>\n",
       "      <th>2010</th>\n",
       "      <td>3.806752</td>\n",
       "    </tr>\n",
       "    <tr>\n",
       "      <th>2011</th>\n",
       "      <td>3.362436</td>\n",
       "    </tr>\n",
       "    <tr>\n",
       "      <th>2012</th>\n",
       "      <td>2.797583</td>\n",
       "    </tr>\n",
       "    <tr>\n",
       "      <th>2013</th>\n",
       "      <td>2.749230</td>\n",
       "    </tr>\n",
       "    <tr>\n",
       "      <th>2014</th>\n",
       "      <td>2.694775</td>\n",
       "    </tr>\n",
       "    <tr>\n",
       "      <th>2015</th>\n",
       "      <td>3.473120</td>\n",
       "    </tr>\n",
       "    <tr>\n",
       "      <th>2016</th>\n",
       "      <td>2.795044</td>\n",
       "    </tr>\n",
       "    <tr>\n",
       "      <th>2017</th>\n",
       "      <td>3.416114</td>\n",
       "    </tr>\n",
       "    <tr>\n",
       "      <th>2018</th>\n",
       "      <td>3.139562</td>\n",
       "    </tr>\n",
       "    <tr>\n",
       "      <th>2019</th>\n",
       "      <td>2.543466</td>\n",
       "    </tr>\n",
       "    <tr>\n",
       "      <th>2020</th>\n",
       "      <td>3.311636</td>\n",
       "    </tr>\n",
       "    <tr>\n",
       "      <th>2021</th>\n",
       "      <td>5.695899</td>\n",
       "    </tr>\n",
       "    <tr>\n",
       "      <th>2022</th>\n",
       "      <td>4.112230</td>\n",
       "    </tr>\n",
       "    <tr>\n",
       "      <th>2023</th>\n",
       "      <td>2.970893</td>\n",
       "    </tr>\n",
       "  </tbody>\n",
       "</table>\n",
       "</div>"
      ],
      "text/plain": [
       "       Average\n",
       "Year          \n",
       "2003  3.719423\n",
       "2004  4.895545\n",
       "2005  4.424339\n",
       "2006  5.350723\n",
       "2007  5.346442\n",
       "2008  2.962488\n",
       "2009  3.028432\n",
       "2010  3.806752\n",
       "2011  3.362436\n",
       "2012  2.797583\n",
       "2013  2.749230\n",
       "2014  2.694775\n",
       "2015  3.473120\n",
       "2016  2.795044\n",
       "2017  3.416114\n",
       "2018  3.139562\n",
       "2019  2.543466\n",
       "2020  3.311636\n",
       "2021  5.695899\n",
       "2022  4.112230\n",
       "2023  2.970893"
      ]
     },
     "execution_count": 83,
     "metadata": {},
     "output_type": "execute_result"
    }
   ],
   "source": [
    "concat_df.loc[concat_df[\"Variable\"]=='Gross domestic product, volume, growth'].groupby(['Year'])['Value'].mean().to_frame('Average')"
   ]
  },
  {
   "cell_type": "code",
   "execution_count": 84,
   "id": "0e0cca65",
   "metadata": {},
   "outputs": [],
   "source": [
    "from pivottablejs import pivot_ui"
   ]
  },
  {
   "cell_type": "code",
   "execution_count": 85,
   "id": "0e069014",
   "metadata": {
    "scrolled": false
   },
   "outputs": [
    {
     "data": {
      "text/html": [
       "\n",
       "        <iframe\n",
       "            width=\"100%\"\n",
       "            height=\"500\"\n",
       "            src=\"pivottablejs.html\"\n",
       "            frameborder=\"0\"\n",
       "            allowfullscreen\n",
       "        ></iframe>\n",
       "        "
      ],
      "text/plain": [
       "<IPython.lib.display.IFrame at 0x21b9e71d340>"
      ]
     },
     "execution_count": 85,
     "metadata": {},
     "output_type": "execute_result"
    }
   ],
   "source": [
    "pivot_ui(concat_df)"
   ]
  },
  {
   "cell_type": "code",
   "execution_count": 86,
   "id": "8dc22dc5",
   "metadata": {},
   "outputs": [
    {
     "data": {
      "image/png": "[encoded data removed]",
      "text/plain": [
       "<Figure size 720x720 with 1 Axes>"
      ]
     },
     "metadata": {
      "needs_background": "light"
     },
     "output_type": "display_data"
    }
   ],
   "source": [
    "def getAverageByYear(variableName):\n",
    "    return concat_df.loc[concat_df[\"Variable\"]==variableName].groupby(['Year'])['Value'].mean().to_frame('Average')\n",
    "\n",
    "gdp = getAverageByYear('Gross domestic product, volume, growth')\n",
    "pop = getAverageByYear('Historical population')\n",
    "green_pop = getAverageByYear('POPDEN')\n",
    "green_terr = getAverageByYear('TERRESTRIAL')\n",
    "green_marine = getAverageByYear('PA_MARINE')\n",
    "fig, ax = plt.subplots(figsize=(10,10))\n",
    "\n",
    "x = green_pop.index\n",
    "y = green_pop[\"Average\"]\n",
    "\n",
    "\n",
    "ax.plot(x,y)\n",
    "\n",
    "plt.show()"
   ]
  },
  {
   "cell_type": "code",
   "execution_count": 87,
   "id": "9eab5a4f",
   "metadata": {
    "scrolled": false
   },
   "outputs": [
    {
     "data": {
      "image/png": "[encoded data removed]",
      "text/plain": [
       "<Figure size 936x720 with 4 Axes>"
      ]
     },
     "metadata": {
      "needs_background": "light"
     },
     "output_type": "display_data"
    }
   ],
   "source": [
    "def getAverageByYear(variableName):\n",
    "    return concat_df.loc[concat_df[\"Variable\"]==variableName].groupby(['Year'])['Value'].mean()\n",
    "\n",
    "gdp = getAverageByYear('Gross domestic product, volume, growth')\n",
    "pop = getAverageByYear('Historical population')\n",
    "green_pop = getAverageByYear('POPDEN')\n",
    "green_terr = getAverageByYear('PA_TERRESTRIAL')\n",
    "green_marine = getAverageByYear('PA_MARINE')\n",
    "\n",
    "\n",
    "fig2, ax2 = plt.subplots(2,2, figsize=(13,10))\n",
    "fig2.suptitle('** Global Averages **', fontsize=20)\n",
    "plt.style.use('seaborn')\n",
    "\n",
    "pop.plot(ax=ax2[0, 0],color='blue')\n",
    "green_pop.plot(ax=ax2[0,1],color='red')\n",
    "gdp.plot(ax=ax2[1, 0],color='green')\n",
    "green_marine.plot(ax=ax2[1, 1],color='black', label=\"Marine\")\n",
    "green_terr.plot(ax=ax2[1, 1],color='yellow', label=\"Terrestrial\")\n",
    "\n",
    "\n",
    "ax2[0,0].set_title('Historical population')\n",
    "ax2[0,1].set_title('Population density')\n",
    "ax2[1,0].set_title('GDP')\n",
    "ax2[1,1].set_title('Protected marine & terrestrial area %')\n",
    "ax2[1,1].legend(loc='upper left')\n",
    "\n",
    "plt.tight_layout()"
   ]
  },
  {
   "cell_type": "code",
   "execution_count": 88,
   "id": "dc13565d",
   "metadata": {
    "scrolled": true
   },
   "outputs": [
    {
     "name": "stdout",
     "output_type": "stream",
     "text": [
      "                      Variable  Year      Value\n",
      "Country                                        \n",
      "France   Historical population  2018  3931037.0\n",
      "France   Historical population  2012  2251172.0\n",
      "France   Historical population  2013  2269485.0\n",
      "France   Historical population  2014  2270731.0\n",
      "France   Historical population  2015  2234322.0\n"
     ]
    }
   ],
   "source": [
    "concat_1= concat_df.loc[[\"Ireland\",\"France\",\"United Kingdom\"]].sort_index()\n",
    "\n",
    "print(concat_1.head())"
   ]
  },
  {
   "cell_type": "code",
   "execution_count": 89,
   "id": "52c99d9f",
   "metadata": {},
   "outputs": [
    {
     "name": "stdout",
     "output_type": "stream",
     "text": [
      "                             Variable  Year         Value\n",
      "Country                                                  \n",
      "France          Historical population  2018  3.931037e+06\n",
      "France          Historical population  2012  2.251172e+06\n",
      "France          Historical population  2013  2.269485e+06\n",
      "France          Historical population  2014  2.270731e+06\n",
      "France          Historical population  2015  2.234322e+06\n",
      "...                               ...   ...           ...\n",
      "United Kingdom  Historical population  2013  2.221444e+06\n",
      "United Kingdom  Historical population  2012  2.253661e+06\n",
      "United Kingdom  Historical population  2011  2.281406e+06\n",
      "United Kingdom  Historical population  2017  4.574931e+06\n",
      "United Kingdom  Historical population  2020  4.258093e-01\n",
      "\n",
      "[3162 rows x 3 columns]\n"
     ]
    }
   ],
   "source": [
    "concat_year= concat_1[(concat_1['Year'] >= 2010) & (concat_1['Year'] <= 2020)]\n",
    "print(concat_year)"
   ]
  },
  {
   "cell_type": "code",
   "execution_count": 90,
   "id": "c3a7a7fb",
   "metadata": {
    "scrolled": false
   },
   "outputs": [
    {
     "name": "stdout",
     "output_type": "stream",
     "text": [
      "                      Variable  Year          Value\n",
      "Country                                            \n",
      "Ireland  Historical population  2019       1.327585\n",
      "Ireland  Historical population  2012  167990.000000\n",
      "Ireland  Historical population  2013  170897.000000\n",
      "Ireland  Historical population  2014  172949.000000\n",
      "Ireland  Historical population  2015  175017.000000\n"
     ]
    }
   ],
   "source": [
    "concat_Ireland= concat_year.loc[[\"Ireland\"]].sort_index()\n",
    "\n",
    "print(concat_Ireland.head())"
   ]
  },
  {
   "cell_type": "code",
   "execution_count": 91,
   "id": "f42a9df2",
   "metadata": {
    "scrolled": false
   },
   "outputs": [
    {
     "data": {
      "text/plain": [
       "array(['Historical population', 'PA_TERRESTRIAL', 'PA_MARINE', 'POPDEN',\n",
       "       'Gross domestic product, volume, growth'], dtype=object)"
      ]
     },
     "execution_count": 91,
     "metadata": {},
     "output_type": "execute_result"
    }
   ],
   "source": [
    "concat_year.Variable.unique()"
   ]
  },
  {
   "cell_type": "code",
   "execution_count": 92,
   "id": "8b103fee",
   "metadata": {},
   "outputs": [
    {
     "data": {
      "text/html": [
       "<div>\n",
       "<style scoped>\n",
       "    .dataframe tbody tr th:only-of-type {\n",
       "        vertical-align: middle;\n",
       "    }\n",
       "\n",
       "    .dataframe tbody tr th {\n",
       "        vertical-align: top;\n",
       "    }\n",
       "\n",
       "    .dataframe thead th {\n",
       "        text-align: right;\n",
       "    }\n",
       "</style>\n",
       "<table border=\"1\" class=\"dataframe\">\n",
       "  <thead>\n",
       "    <tr style=\"text-align: right;\">\n",
       "      <th></th>\n",
       "      <th>Year</th>\n",
       "      <th>Value</th>\n",
       "    </tr>\n",
       "  </thead>\n",
       "  <tbody>\n",
       "    <tr>\n",
       "      <th>count</th>\n",
       "      <td>3162.000000</td>\n",
       "      <td>3.162000e+03</td>\n",
       "    </tr>\n",
       "    <tr>\n",
       "      <th>mean</th>\n",
       "      <td>2015.026249</td>\n",
       "      <td>3.792848e+06</td>\n",
       "    </tr>\n",
       "    <tr>\n",
       "      <th>std</th>\n",
       "      <td>3.165718</td>\n",
       "      <td>8.787956e+06</td>\n",
       "    </tr>\n",
       "    <tr>\n",
       "      <th>min</th>\n",
       "      <td>2010.000000</td>\n",
       "      <td>1.517115e-01</td>\n",
       "    </tr>\n",
       "    <tr>\n",
       "      <th>25%</th>\n",
       "      <td>2012.000000</td>\n",
       "      <td>2.056975e+04</td>\n",
       "    </tr>\n",
       "    <tr>\n",
       "      <th>50%</th>\n",
       "      <td>2015.000000</td>\n",
       "      <td>1.223899e+06</td>\n",
       "    </tr>\n",
       "    <tr>\n",
       "      <th>75%</th>\n",
       "      <td>2018.000000</td>\n",
       "      <td>2.316697e+06</td>\n",
       "    </tr>\n",
       "    <tr>\n",
       "      <th>max</th>\n",
       "      <td>2020.000000</td>\n",
       "      <td>6.734724e+07</td>\n",
       "    </tr>\n",
       "  </tbody>\n",
       "</table>\n",
       "</div>"
      ],
      "text/plain": [
       "              Year         Value\n",
       "count  3162.000000  3.162000e+03\n",
       "mean   2015.026249  3.792848e+06\n",
       "std       3.165718  8.787956e+06\n",
       "min    2010.000000  1.517115e-01\n",
       "25%    2012.000000  2.056975e+04\n",
       "50%    2015.000000  1.223899e+06\n",
       "75%    2018.000000  2.316697e+06\n",
       "max    2020.000000  6.734724e+07"
      ]
     },
     "execution_count": 92,
     "metadata": {},
     "output_type": "execute_result"
    }
   ],
   "source": [
    "concat_year.describe()"
   ]
  },
  {
   "cell_type": "code",
   "execution_count": 93,
   "id": "34ad1bb0",
   "metadata": {},
   "outputs": [
    {
     "name": "stdout",
     "output_type": "stream",
     "text": [
      "<class 'pandas.core.frame.DataFrame'>\n",
      "Index: 3162 entries, France to United Kingdom\n",
      "Data columns (total 3 columns):\n",
      " #   Column    Non-Null Count  Dtype  \n",
      "---  ------    --------------  -----  \n",
      " 0   Variable  3162 non-null   object \n",
      " 1   Year      3162 non-null   int64  \n",
      " 2   Value     3162 non-null   float64\n",
      "dtypes: float64(1), int64(1), object(1)\n",
      "memory usage: 163.4+ KB\n"
     ]
    }
   ],
   "source": [
    "concat_year.info()"
   ]
  },
  {
   "cell_type": "code",
   "execution_count": 99,
   "id": "770da031",
   "metadata": {
    "scrolled": false
   },
   "outputs": [
    {
     "data": {
      "image/png": "[encoded data removed]",
      "text/plain": [
       "<Figure size 936x720 with 4 Axes>"
      ]
     },
     "metadata": {},
     "output_type": "display_data"
    }
   ],
   "source": [
    "def getAverageByYear(variableName):\n",
    "    return concat_year.loc[concat_year[\"Variable\"]==variableName].groupby(['Year'])['Value'].mean()\n",
    "\n",
    "\n",
    "gdp = getAverageByYear('Gross domestic product, volume, growth')\n",
    "pop = getAverageByYear('Historical population')\n",
    "green_pop = getAverageByYear('POPDEN')\n",
    "green_terr = getAverageByYear('PA_TERRESTRIAL')\n",
    "green_marine = getAverageByYear('PA_MARINE')\n",
    "\n",
    "\n",
    "fig2, ax2 = plt.subplots(2,2, figsize=(13,10))\n",
    "fig2.suptitle('** Average of Ireland, France, United Kingdom **', fontsize=20)\n",
    "plt.style.use('seaborn')\n",
    "\n",
    "\n",
    "pop.plot(ax=ax2[0, 0],color='blue')\n",
    "green_pop.plot(ax=ax2[0,1],color='red')\n",
    "gdp.plot(ax=ax2[1, 0], color='green')\n",
    "green_marine.plot(ax=ax2[1, 1],color='black', label=\"Marine\")\n",
    "green_terr.plot(ax=ax2[1, 1],color='yellow',label=\"Terrestrial\")\n",
    "\n",
    "ax2[0,0].set_title('Historical population')\n",
    "ax2[0,1].set_title('Population density')\n",
    "ax2[1,0].set_title('GDP')\n",
    "ax2[1,1].set_title('Protected marine & terrestrial area %')\n",
    "ax2[1,1].legend(loc='upper left')\n",
    "\n",
    "\n",
    "\n",
    "plt.tight_layout()"
   ]
  },
  {
   "cell_type": "code",
   "execution_count": 95,
   "id": "08aaf8b4",
   "metadata": {},
   "outputs": [
    {
     "name": "stdout",
     "output_type": "stream",
     "text": [
      "                      Variable  Year      Value Country\n",
      "Country                                                \n",
      "France   Historical population  2018  3931037.0  France\n",
      "France   Historical population  2012  2251172.0  France\n",
      "France   Historical population  2013  2269485.0  France\n",
      "France   Historical population  2014  2270731.0  France\n",
      "France   Historical population  2015  2234322.0  France\n"
     ]
    }
   ],
   "source": [
    "concat_1['Country'] = concat_1.index.get_level_values('Country')\n",
    "print(concat_1.head())"
   ]
  },
  {
   "cell_type": "code",
   "execution_count": 96,
   "id": "db2034cc",
   "metadata": {
    "scrolled": true
   },
   "outputs": [
    {
     "name": "stdout",
     "output_type": "stream",
     "text": [
      "Year\n",
      "2005    350938.116714\n",
      "2006    359502.868532\n",
      "2007    371851.547001\n",
      "2008    381020.328399\n",
      "2009    385013.532164\n",
      "2010    386720.649070\n",
      "2011    388327.481535\n",
      "2012    389956.438085\n",
      "2013    391871.726417\n",
      "2014    394746.615585\n",
      "2015    398627.892224\n",
      "2016    403359.294441\n",
      "2017    408230.071705\n",
      "2018    414033.657816\n",
      "2019    419944.520556\n",
      "2020    425246.045359\n",
      "Name: Value, dtype: float64\n",
      "Year\n",
      "2005    5.404513e+06\n",
      "2006    5.447740e+06\n",
      "2007    5.486284e+06\n",
      "2008    5.520398e+06\n",
      "2009    5.551358e+06\n",
      "2010    5.581669e+06\n",
      "2011    5.610334e+06\n",
      "2012    5.636943e+06\n",
      "2013    5.665291e+06\n",
      "2014    5.710389e+06\n",
      "2015    5.731831e+06\n",
      "2016    5.748912e+06\n",
      "2017    5.767341e+06\n",
      "2018    5.784887e+06\n",
      "2019    5.799650e+06\n",
      "2020    5.813184e+06\n",
      "Name: Value, dtype: float64\n",
      "Year\n",
      "2005    5.192548e+06\n",
      "2006    5.232314e+06\n",
      "2007    5.277300e+06\n",
      "2008    5.322355e+06\n",
      "2009    5.361478e+06\n",
      "2010    5.405737e+06\n",
      "2011    5.452994e+06\n",
      "2012    5.487118e+06\n",
      "2013    5.521662e+06\n",
      "2014    5.565424e+06\n",
      "2015    5.611338e+06\n",
      "2016    5.659107e+06\n",
      "2017    5.694723e+06\n",
      "2018    5.730583e+06\n",
      "2019    5.764484e+06\n",
      "2020    5.792106e+06\n",
      "Name: Value, dtype: float64\n"
     ]
    }
   ],
   "source": [
    "def getAverageByYearforCountry(variableName,countryName):\n",
    "    return concat_1.loc[concat_1[\"Variable\"]==variableName].loc[[countryName]].groupby(['Year'])['Value'].mean()\n",
    "\n",
    "\n",
    "popIreland = getAverageByYearforCountry('Historical population','Ireland')\n",
    "popFrance = getAverageByYearforCountry('Historical population','France')\n",
    "popUK = getAverageByYearforCountry('Historical population','United Kingdom')\n",
    "print(popIreland)\n",
    "print(popFrance)\n",
    "print(popUK)"
   ]
  },
  {
   "cell_type": "code",
   "execution_count": 98,
   "id": "df4e09be",
   "metadata": {},
   "outputs": [
    {
     "data": {
      "image/png": "[encoded data removed]",
      "text/plain": [
       "<Figure size 936x720 with 4 Axes>"
      ]
     },
     "metadata": {},
     "output_type": "display_data"
    }
   ],
   "source": [
    "def getAverageByYearforCountry(variableName,countryName):\n",
    "    return concat_1.loc[concat_1[\"Variable\"]==variableName].loc[[countryName]].groupby(['Year'])['Value'].mean()\n",
    "\n",
    "\n",
    "popIreland = getAverageByYearforCountry('Historical population','Ireland')\n",
    "popFrance = getAverageByYearforCountry('Historical population','France')\n",
    "popUK = getAverageByYearforCountry('Historical population','United Kingdom')\n",
    "\n",
    "green_pop_Ireland = getAverageByYearforCountry('POPDEN','Ireland')\n",
    "green_pop_France = getAverageByYearforCountry('POPDEN','France')\n",
    "green_pop_UK = getAverageByYearforCountry('POPDEN','United Kingdom')\n",
    "\n",
    "green_terr_Ireland = getAverageByYearforCountry('PA_TERRESTRIAL','Ireland')\n",
    "green_terr_France = getAverageByYearforCountry('PA_TERRESTRIAL','France')\n",
    "green_terr_UK = getAverageByYearforCountry('PA_TERRESTRIAL','United Kingdom')\n",
    "\n",
    "green_marine_Ireland = getAverageByYearforCountry('PA_MARINE','Ireland')\n",
    "green_marine_France = getAverageByYearforCountry('PA_MARINE','France')\n",
    "green_marine_UK = getAverageByYearforCountry('PA_MARINE','United Kingdom')\n",
    "\n",
    "fig2, ax2 = plt.subplots(2,2, figsize=(13,10))\n",
    "\n",
    "fig2.suptitle('** Ireland, France, United Kingdom comparison **', fontsize=20)\n",
    "plt.style.use('seaborn')\n",
    "\n",
    "\n",
    "popIreland.plot(ax=ax2[0, 0],color='green', label=\"Ireland\")\n",
    "popFrance.plot(ax=ax2[0, 0],color='red', label=\"France\")\n",
    "popUK.plot(ax=ax2[0, 0],color='blue', label=\"UK\")\n",
    "\n",
    "green_pop_Ireland.plot(ax=ax2[0,1],color='green', label=\"Ireland\")\n",
    "green_pop_France.plot(ax=ax2[0,1],color='red', label=\"France\")\n",
    "green_pop_UK.plot(ax=ax2[0,1],color='blue', label=\"UK\")\n",
    "\n",
    "green_terr_Ireland.plot(ax=ax2[1, 0], color='green', label=\"Ireland\")\n",
    "green_terr_France.plot(ax=ax2[1, 0], color='red', label=\"France\")\n",
    "green_terr_UK.plot(ax=ax2[1, 0], color='blue', label=\"UK\")\n",
    "\n",
    "green_marine_Ireland.plot(ax=ax2[1, 1],color='green', label=\"Ireland\")\n",
    "green_marine_France.plot(ax=ax2[1, 1],color='red', label=\"France\")\n",
    "green_marine_UK.plot(ax=ax2[1, 1],color='blue', label=\"UK\")\n",
    "\n",
    "ax2[0,0].set_title('Historical population')\n",
    "ax2[0,1].set_title('Population density')\n",
    "ax2[1,0].set_title('Protected terrestrial area %')\n",
    "ax2[1,1].set_title('Protected marine area %')\n",
    "ax2[1,1].legend(loc='upper left')\n",
    "ax2[0,0].legend(loc='center left')\n",
    "ax2[0,1].legend(loc='upper left')\n",
    "ax2[1,0].legend(loc='upper left')\n",
    "\n",
    "\n",
    "\n",
    "plt.tight_layout()"
   ]
  }
 ],
 "metadata": {
  "kernelspec": {
   "display_name": "Python 3",
   "language": "python",
   "name": "python3"
  },
  "language_info": {
   "codemirror_mode": {
    "name": "ipython",
    "version": 3
   },
   "file_extension": ".py",
   "mimetype": "text/x-python",
   "name": "python",
   "nbconvert_exporter": "python",
   "pygments_lexer": "ipython3",
   "version": "3.8.8"
  }
 },
 "nbformat": 4,
 "nbformat_minor": 5
}
