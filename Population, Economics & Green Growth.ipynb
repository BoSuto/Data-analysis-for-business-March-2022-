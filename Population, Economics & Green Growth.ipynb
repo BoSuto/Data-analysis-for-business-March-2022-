{
 "cells": [
  {
   "cell_type": "markdown",
   "id": "e3276a52",
   "metadata": {},
   "source": [
    "Datasets\n",
    "\n",
    "1. Historical population dataset (csv)\n",
    "2. Green growth indicators dataset (csv)\n",
    "3. Economic Outlook dataset (API)\n"
   ]
  },
  {
   "cell_type": "code",
   "execution_count": 1,
   "id": "7f15313d",
   "metadata": {},
   "outputs": [],
   "source": [
    "import numpy as np\n",
    "import pandas as pd\n",
    "import seaborn as sns\n",
    "import matplotlib.pyplot as plt"
   ]
  },
  {
   "cell_type": "markdown",
   "id": "4eb79925",
   "metadata": {},
   "source": [
    "Green growth:\n",
    "1. Importing and reviewing the dataset\n",
    "2. Selecting variables based on most datapoints\n",
    "3. Reviewing data for selected variables \n",
    "4. Reviewing selected variables for one country, Ireland"
   ]
  },
  {
   "cell_type": "code",
   "execution_count": 2,
   "id": "048b49e5",
   "metadata": {
    "scrolled": true
   },
   "outputs": [
    {
     "data": {
      "text/html": [
       "<div>\n",
       "<style scoped>\n",
       "    .dataframe tbody tr th:only-of-type {\n",
       "        vertical-align: middle;\n",
       "    }\n",
       "\n",
       "    .dataframe tbody tr th {\n",
       "        vertical-align: top;\n",
       "    }\n",
       "\n",
       "    .dataframe thead th {\n",
       "        text-align: right;\n",
       "    }\n",
       "</style>\n",
       "<table border=\"1\" class=\"dataframe\">\n",
       "  <thead>\n",
       "    <tr style=\"text-align: right;\">\n",
       "      <th></th>\n",
       "      <th>Country</th>\n",
       "      <th>VAR</th>\n",
       "      <th>Variable</th>\n",
       "      <th>YEA</th>\n",
       "      <th>Year</th>\n",
       "      <th>Unit Code</th>\n",
       "      <th>Unit</th>\n",
       "      <th>PowerCode Code</th>\n",
       "      <th>PowerCode</th>\n",
       "      <th>Reference Period Code</th>\n",
       "      <th>Reference Period</th>\n",
       "      <th>Value</th>\n",
       "      <th>Flag Codes</th>\n",
       "      <th>Flags</th>\n",
       "    </tr>\n",
       "    <tr>\n",
       "      <th>COU</th>\n",
       "      <th></th>\n",
       "      <th></th>\n",
       "      <th></th>\n",
       "      <th></th>\n",
       "      <th></th>\n",
       "      <th></th>\n",
       "      <th></th>\n",
       "      <th></th>\n",
       "      <th></th>\n",
       "      <th></th>\n",
       "      <th></th>\n",
       "      <th></th>\n",
       "      <th></th>\n",
       "      <th></th>\n",
       "    </tr>\n",
       "  </thead>\n",
       "  <tbody>\n",
       "    <tr>\n",
       "      <th>AUS</th>\n",
       "      <td>Australia</td>\n",
       "      <td>CO2_PBPROD</td>\n",
       "      <td>Production-based CO2 productivity, GDP per uni...</td>\n",
       "      <td>1990</td>\n",
       "      <td>1990</td>\n",
       "      <td>USD_KG</td>\n",
       "      <td>US dollars per kilogram</td>\n",
       "      <td>0</td>\n",
       "      <td>Units</td>\n",
       "      <td>2015</td>\n",
       "      <td>2015</td>\n",
       "      <td>1.961928</td>\n",
       "      <td>NaN</td>\n",
       "      <td>NaN</td>\n",
       "    </tr>\n",
       "    <tr>\n",
       "      <th>AUS</th>\n",
       "      <td>Australia</td>\n",
       "      <td>CO2_PBPROD</td>\n",
       "      <td>Production-based CO2 productivity, GDP per uni...</td>\n",
       "      <td>1995</td>\n",
       "      <td>1995</td>\n",
       "      <td>USD_KG</td>\n",
       "      <td>US dollars per kilogram</td>\n",
       "      <td>0</td>\n",
       "      <td>Units</td>\n",
       "      <td>2015</td>\n",
       "      <td>2015</td>\n",
       "      <td>2.091676</td>\n",
       "      <td>NaN</td>\n",
       "      <td>NaN</td>\n",
       "    </tr>\n",
       "    <tr>\n",
       "      <th>AUS</th>\n",
       "      <td>Australia</td>\n",
       "      <td>CO2_PBPROD</td>\n",
       "      <td>Production-based CO2 productivity, GDP per uni...</td>\n",
       "      <td>2000</td>\n",
       "      <td>2000</td>\n",
       "      <td>USD_KG</td>\n",
       "      <td>US dollars per kilogram</td>\n",
       "      <td>0</td>\n",
       "      <td>Units</td>\n",
       "      <td>2015</td>\n",
       "      <td>2015</td>\n",
       "      <td>2.156981</td>\n",
       "      <td>NaN</td>\n",
       "      <td>NaN</td>\n",
       "    </tr>\n",
       "    <tr>\n",
       "      <th>AUS</th>\n",
       "      <td>Australia</td>\n",
       "      <td>CO2_PBPROD</td>\n",
       "      <td>Production-based CO2 productivity, GDP per uni...</td>\n",
       "      <td>2010</td>\n",
       "      <td>2010</td>\n",
       "      <td>USD_KG</td>\n",
       "      <td>US dollars per kilogram</td>\n",
       "      <td>0</td>\n",
       "      <td>Units</td>\n",
       "      <td>2015</td>\n",
       "      <td>2015</td>\n",
       "      <td>2.556194</td>\n",
       "      <td>NaN</td>\n",
       "      <td>NaN</td>\n",
       "    </tr>\n",
       "    <tr>\n",
       "      <th>AUS</th>\n",
       "      <td>Australia</td>\n",
       "      <td>CO2_PBPROD</td>\n",
       "      <td>Production-based CO2 productivity, GDP per uni...</td>\n",
       "      <td>2015</td>\n",
       "      <td>2015</td>\n",
       "      <td>USD_KG</td>\n",
       "      <td>US dollars per kilogram</td>\n",
       "      <td>0</td>\n",
       "      <td>Units</td>\n",
       "      <td>2015</td>\n",
       "      <td>2015</td>\n",
       "      <td>3.020283</td>\n",
       "      <td>NaN</td>\n",
       "      <td>NaN</td>\n",
       "    </tr>\n",
       "  </tbody>\n",
       "</table>\n",
       "</div>"
      ],
      "text/plain": [
       "       Country         VAR                                           Variable  \\\n",
       "COU                                                                             \n",
       "AUS  Australia  CO2_PBPROD  Production-based CO2 productivity, GDP per uni...   \n",
       "AUS  Australia  CO2_PBPROD  Production-based CO2 productivity, GDP per uni...   \n",
       "AUS  Australia  CO2_PBPROD  Production-based CO2 productivity, GDP per uni...   \n",
       "AUS  Australia  CO2_PBPROD  Production-based CO2 productivity, GDP per uni...   \n",
       "AUS  Australia  CO2_PBPROD  Production-based CO2 productivity, GDP per uni...   \n",
       "\n",
       "      YEA  Year Unit Code                     Unit  PowerCode Code PowerCode  \\\n",
       "COU                                                                            \n",
       "AUS  1990  1990    USD_KG  US dollars per kilogram               0     Units   \n",
       "AUS  1995  1995    USD_KG  US dollars per kilogram               0     Units   \n",
       "AUS  2000  2000    USD_KG  US dollars per kilogram               0     Units   \n",
       "AUS  2010  2010    USD_KG  US dollars per kilogram               0     Units   \n",
       "AUS  2015  2015    USD_KG  US dollars per kilogram               0     Units   \n",
       "\n",
       "    Reference Period Code Reference Period     Value Flag Codes Flags  \n",
       "COU                                                                    \n",
       "AUS                  2015             2015  1.961928        NaN   NaN  \n",
       "AUS                  2015             2015  2.091676        NaN   NaN  \n",
       "AUS                  2015             2015  2.156981        NaN   NaN  \n",
       "AUS                  2015             2015  2.556194        NaN   NaN  \n",
       "AUS                  2015             2015  3.020283        NaN   NaN  "
      ]
     },
     "execution_count": 2,
     "metadata": {},
     "output_type": "execute_result"
    }
   ],
   "source": [
    "green_growth = pd.read_csv(\"GreenGrowth_OECD.csv\", index_col = 0)\n",
    "green_growth.head()"
   ]
  },
  {
   "cell_type": "code",
   "execution_count": 3,
   "id": "9f49817f",
   "metadata": {
    "scrolled": true
   },
   "outputs": [
    {
     "data": {
      "text/html": [
       "<div>\n",
       "<style scoped>\n",
       "    .dataframe tbody tr th:only-of-type {\n",
       "        vertical-align: middle;\n",
       "    }\n",
       "\n",
       "    .dataframe tbody tr th {\n",
       "        vertical-align: top;\n",
       "    }\n",
       "\n",
       "    .dataframe thead th {\n",
       "        text-align: right;\n",
       "    }\n",
       "</style>\n",
       "<table border=\"1\" class=\"dataframe\">\n",
       "  <thead>\n",
       "    <tr style=\"text-align: right;\">\n",
       "      <th></th>\n",
       "      <th>YEA</th>\n",
       "      <th>Year</th>\n",
       "      <th>PowerCode Code</th>\n",
       "      <th>Value</th>\n",
       "    </tr>\n",
       "  </thead>\n",
       "  <tbody>\n",
       "    <tr>\n",
       "      <th>count</th>\n",
       "      <td>143260.000000</td>\n",
       "      <td>143260.000000</td>\n",
       "      <td>143260.000000</td>\n",
       "      <td>1.432600e+05</td>\n",
       "    </tr>\n",
       "    <tr>\n",
       "      <th>mean</th>\n",
       "      <td>2010.670739</td>\n",
       "      <td>2010.670739</td>\n",
       "      <td>0.181223</td>\n",
       "      <td>4.011952e+06</td>\n",
       "    </tr>\n",
       "    <tr>\n",
       "      <th>std</th>\n",
       "      <td>9.876944</td>\n",
       "      <td>9.876944</td>\n",
       "      <td>1.026890</td>\n",
       "      <td>1.053445e+09</td>\n",
       "    </tr>\n",
       "    <tr>\n",
       "      <th>min</th>\n",
       "      <td>1990.000000</td>\n",
       "      <td>1990.000000</td>\n",
       "      <td>0.000000</td>\n",
       "      <td>-5.059876e+03</td>\n",
       "    </tr>\n",
       "    <tr>\n",
       "      <th>25%</th>\n",
       "      <td>2000.000000</td>\n",
       "      <td>2000.000000</td>\n",
       "      <td>0.000000</td>\n",
       "      <td>1.276220e+00</td>\n",
       "    </tr>\n",
       "    <tr>\n",
       "      <th>50%</th>\n",
       "      <td>2016.000000</td>\n",
       "      <td>2016.000000</td>\n",
       "      <td>0.000000</td>\n",
       "      <td>1.189200e+01</td>\n",
       "    </tr>\n",
       "    <tr>\n",
       "      <th>75%</th>\n",
       "      <td>2018.000000</td>\n",
       "      <td>2018.000000</td>\n",
       "      <td>0.000000</td>\n",
       "      <td>6.515363e+01</td>\n",
       "    </tr>\n",
       "    <tr>\n",
       "      <th>max</th>\n",
       "      <td>2021.000000</td>\n",
       "      <td>2021.000000</td>\n",
       "      <td>6.000000</td>\n",
       "      <td>3.217270e+11</td>\n",
       "    </tr>\n",
       "  </tbody>\n",
       "</table>\n",
       "</div>"
      ],
      "text/plain": [
       "                 YEA           Year  PowerCode Code         Value\n",
       "count  143260.000000  143260.000000   143260.000000  1.432600e+05\n",
       "mean     2010.670739    2010.670739        0.181223  4.011952e+06\n",
       "std         9.876944       9.876944        1.026890  1.053445e+09\n",
       "min      1990.000000    1990.000000        0.000000 -5.059876e+03\n",
       "25%      2000.000000    2000.000000        0.000000  1.276220e+00\n",
       "50%      2016.000000    2016.000000        0.000000  1.189200e+01\n",
       "75%      2018.000000    2018.000000        0.000000  6.515363e+01\n",
       "max      2021.000000    2021.000000        6.000000  3.217270e+11"
      ]
     },
     "execution_count": 3,
     "metadata": {},
     "output_type": "execute_result"
    }
   ],
   "source": [
    "green_growth.describe()"
   ]
  },
  {
   "cell_type": "code",
   "execution_count": 4,
   "id": "6a6b7fa6",
   "metadata": {},
   "outputs": [
    {
     "data": {
      "text/plain": [
       "Index(['Country', 'VAR', 'Variable', 'YEA', 'Year', 'Unit Code', 'Unit',\n",
       "       'PowerCode Code', 'PowerCode', 'Reference Period Code',\n",
       "       'Reference Period', 'Value', 'Flag Codes', 'Flags'],\n",
       "      dtype='object')"
      ]
     },
     "execution_count": 4,
     "metadata": {},
     "output_type": "execute_result"
    }
   ],
   "source": [
    "green_growth.columns"
   ]
  },
  {
   "cell_type": "code",
   "execution_count": 5,
   "id": "b54beebf",
   "metadata": {},
   "outputs": [
    {
     "name": "stdout",
     "output_type": "stream",
     "text": [
      "<class 'pandas.core.frame.DataFrame'>\n",
      "Index: 143260 entries, AUS to MHL\n",
      "Data columns (total 14 columns):\n",
      " #   Column                 Non-Null Count   Dtype  \n",
      "---  ------                 --------------   -----  \n",
      " 0   Country                143260 non-null  object \n",
      " 1   VAR                    143260 non-null  object \n",
      " 2   Variable               143260 non-null  object \n",
      " 3   YEA                    143260 non-null  int64  \n",
      " 4   Year                   143260 non-null  int64  \n",
      " 5   Unit Code              129641 non-null  object \n",
      " 6   Unit                   129641 non-null  object \n",
      " 7   PowerCode Code         143260 non-null  int64  \n",
      " 8   PowerCode              143260 non-null  object \n",
      " 9   Reference Period Code  21206 non-null   object \n",
      " 10  Reference Period       21206 non-null   object \n",
      " 11  Value                  143260 non-null  float64\n",
      " 12  Flag Codes             26069 non-null   object \n",
      " 13  Flags                  26069 non-null   object \n",
      "dtypes: float64(1), int64(3), object(10)\n",
      "memory usage: 16.4+ MB\n"
     ]
    }
   ],
   "source": [
    "green_growth.info()"
   ]
  },
  {
   "cell_type": "code",
   "execution_count": 6,
   "id": "4c02b423",
   "metadata": {
    "scrolled": true
   },
   "outputs": [
    {
     "data": {
      "text/plain": [
       "COU\n",
       "AUS    Production-based CO2 productivity, GDP per uni...\n",
       "AUS    Production-based CO2 productivity, GDP per uni...\n",
       "AUS    Production-based CO2 productivity, GDP per uni...\n",
       "AUS    Production-based CO2 productivity, GDP per uni...\n",
       "AUS    Production-based CO2 productivity, GDP per uni...\n",
       "                             ...                        \n",
       "MHL                                    Biomass, % of DMC\n",
       "MHL                                    Biomass, % of DMC\n",
       "MHL                                    Biomass, % of DMC\n",
       "MHL                                    Biomass, % of DMC\n",
       "MHL                                    Biomass, % of DMC\n",
       "Name: Variable, Length: 143260, dtype: object"
      ]
     },
     "execution_count": 6,
     "metadata": {},
     "output_type": "execute_result"
    }
   ],
   "source": [
    "green_growth['Variable']"
   ]
  },
  {
   "cell_type": "code",
   "execution_count": 7,
   "id": "1b2b92ef",
   "metadata": {
    "scrolled": true
   },
   "outputs": [
    {
     "data": {
      "text/plain": [
       "Population density, inhabitants per km2                     2437\n",
       "Population                                                  2300\n",
       "Annual surface temperature, change since 1951-1980          2243\n",
       "Nominal exchange rate                                       2236\n",
       "GDP deflator                                                2170\n",
       "                                                            ... \n",
       "Threatened bird species, % total known species                71\n",
       "Threatened vascular plant species, % total known species      69\n",
       "Threatened mammal species, % total known species              67\n",
       "Total renewable freshwater per capita                         42\n",
       "Environmentally related R&D expenditure, % GDP                39\n",
       "Name: Variable, Length: 159, dtype: int64"
      ]
     },
     "execution_count": 7,
     "metadata": {},
     "output_type": "execute_result"
    }
   ],
   "source": [
    "green_growth.Variable.value_counts()"
   ]
  },
  {
   "cell_type": "code",
   "execution_count": 8,
   "id": "fe5cb715",
   "metadata": {},
   "outputs": [
    {
     "data": {
      "text/plain": [
       "Denmark              1182\n",
       "Japan                1180\n",
       "France               1177\n",
       "Netherlands          1171\n",
       "Norway               1165\n",
       "                     ... \n",
       "Saint Martin           57\n",
       "Saint Barthélemy       51\n",
       "Antarctica             42\n",
       "Bonaire                22\n",
       "Clipperton Island      22\n",
       "Name: Country, Length: 237, dtype: int64"
      ]
     },
     "execution_count": 8,
     "metadata": {},
     "output_type": "execute_result"
    }
   ],
   "source": [
    "green_growth.Country.value_counts()"
   ]
  },
  {
   "cell_type": "code",
   "execution_count": 9,
   "id": "2f1f8656",
   "metadata": {
    "scrolled": true
   },
   "outputs": [
    {
     "name": "stdout",
     "output_type": "stream",
     "text": [
      "['Australia' 'Austria' 'Belgium' 'Canada' 'Czech Republic' 'Denmark'\n",
      " 'Finland' 'France' 'Germany' 'Greece' 'Hungary' 'Iceland' 'Ireland'\n",
      " 'Italy' 'Japan' 'Korea' 'Luxembourg' 'Mexico' 'Netherlands' 'New Zealand'\n",
      " 'Norway' 'Poland' 'Portugal' 'Slovak Republic' 'Spain' 'Sweden'\n",
      " 'Switzerland' 'Turkey' 'United Kingdom' 'United States' 'Brazil' 'Chile'\n",
      " \"China (People's Republic of)\" 'Colombia' 'Estonia' 'India' 'Indonesia'\n",
      " 'Israel' 'Latvia' 'Russia' 'Slovenia' 'South Africa' 'World'\n",
      " 'BRIICS economies - Brazil, Russia, India, Indonesia, China and South Africa'\n",
      " 'OECD - Total' 'OECD - Europe' 'OECD America' 'OECD Asia Oceania'\n",
      " 'Saudi Arabia' 'Argentina' 'Costa Rica' 'Lithuania' 'Iran' 'Jordan'\n",
      " 'Brunei Darussalam' 'Turkmenistan' 'Azerbaijan' \"Côte d'Ivoire\" 'Algeria'\n",
      " 'Philippines' 'Viet Nam' 'Egypt' 'Thailand' 'Bolivia'\n",
      " 'Dominican Republic' 'Panama' 'Peru' 'Lebanon' 'Nicaragua' 'Morocco'\n",
      " 'Ukraine' 'Haiti' 'Bulgaria' 'Croatia' 'Guatemala' 'Cambodia' 'Paraguay'\n",
      " 'Iraq' 'Georgia' 'Tunisia' 'Jamaica' 'El Salvador' 'Romania' 'Rwanda'\n",
      " 'Bahrain' 'Cuba' 'Honduras' 'United Arab Emirates' 'Libya'\n",
      " \"Lao People's Democratic Republic\" 'Uzbekistan' 'Oman'\n",
      " 'Syrian Arab Republic' 'Kuwait' 'Malaysia' 'Myanmar' 'Kyrgyzstan'\n",
      " 'Djibouti' 'Moldova' 'Tajikistan' 'Qatar' 'Belarus' 'Puerto Rico'\n",
      " 'Singapore' 'Uruguay' 'Armenia' 'Kazakhstan' 'Malta' 'Ecuador'\n",
      " 'Trinidad and Tobago' 'Venezuela' 'Senegal' 'Cameroon' 'Yemen' 'G20' 'G7'\n",
      " 'Eastern Europe, Caucasus and Central Asia' 'Latin America and Caribbean'\n",
      " 'Middle East and North Africa' 'Belize' 'Uganda' 'Mozambique' 'Tanzania'\n",
      " 'Cabo Verde' 'Togo' 'Nigeria' 'Benin' 'Serbia' 'Zimbabwe' 'Pakistan'\n",
      " 'Niger' 'Cyprus' 'Bahamas' 'Zambia' 'Mauritius' 'Albania' 'Botswana'\n",
      " 'Congo' 'Democratic Republic of the Congo' 'Eritrea' 'Ethiopia' 'Gabon'\n",
      " 'Ghana' 'Kenya' 'North Macedonia' 'Mongolia' 'Namibia'\n",
      " 'European Union (28 countries)' 'Monaco' 'Tuvalu' 'Barbados' 'Bhutan'\n",
      " 'Central African Republic' 'Sierra Leone' 'Tonga' 'Eswatini' 'Gambia'\n",
      " 'Burkina Faso' 'Antigua and Barbuda' 'Kiribati' 'Liechtenstein'\n",
      " 'Bangladesh' 'Burundi' 'Sri Lanka' 'Maldives' 'Sao Tome and Principe'\n",
      " 'Bosnia and Herzegovina' 'Turks and Caicos Islands' 'Palau'\n",
      " 'Equatorial Guinea' 'Somalia' 'Chad' 'Montenegro' 'Montserrat'\n",
      " 'Mauritania' 'Guinea' 'Lesotho' 'Vanuatu' 'Liberia' 'Andorra' 'Suriname'\n",
      " 'Samoa' 'Euro area (19 countries)' 'Micronesia' 'Mali' 'Solomon Islands'\n",
      " 'American Samoa' 'Afghanistan' 'San Marino' 'Madagascar'\n",
      " 'Papua New Guinea' 'Seychelles' 'ASEAN' 'Angola' 'Bermuda' 'Aruba'\n",
      " 'Tokelau' 'Anguilla' 'Antarctica' 'Malawi' 'Nauru' 'Martinique' 'Mayotte'\n",
      " 'Fiji' 'Saint Pierre and Miquelon' 'United States Virgin Islands'\n",
      " 'New Caledonia' 'Cook Islands' 'Dominica' 'Faeroe Islands' 'Jersey'\n",
      " 'Niue' 'South Sudan ' 'Cayman Islands' 'Saint Barthélemy'\n",
      " 'Marshall Islands' 'Wallis and Futuna' 'Norfolk Island'\n",
      " 'Saint Vincent and the Grenadines' 'Guyana' 'Sudan'\n",
      " 'Saint Kitts and Nevis' 'Comoros' 'Clipperton Island' 'Saint Helena'\n",
      " 'Northern Mariana Islands' 'Timor-Leste' 'British Virgin Islands'\n",
      " 'Guinea-Bissau' 'Curacao' 'Saint Lucia' 'Netherlands Antilles' 'Bonaire'\n",
      " 'Christmas Islands' 'Saint Martin' 'Sint Maarten'\n",
      " 'European Union – 27 countries (from 01/02/2020)']\n"
     ]
    }
   ],
   "source": [
    "unique_countries = green_growth[\"Country\"].unique()\n",
    "print(unique_countries)"
   ]
  },
  {
   "cell_type": "code",
   "execution_count": 10,
   "id": "7e949621",
   "metadata": {},
   "outputs": [
    {
     "name": "stdout",
     "output_type": "stream",
     "text": [
      "['Production-based CO2 productivity, GDP per unit of energy-related CO2 emissions'\n",
      " 'Production-based CO2 intensity, energy-related CO2 per capita'\n",
      " 'Energy productivity,  GDP per unit of TPES'\n",
      " 'Energy intensity, TPES per capita'\n",
      " 'Renewable energy supply, % total energy supply'\n",
      " 'Renewable electricity, % total electricity generation'\n",
      " 'Total freshwater abstraction per capita'\n",
      " 'Water stress, total freshwater abstraction as % total available renewable resources'\n",
      " 'Water stress, total freshwater abstraction as % total internal renewable resources'\n",
      " 'Threatened mammal species, % total known species'\n",
      " 'Threatened bird species, % total known species'\n",
      " 'Threatened vascular plant species, % total known species'\n",
      " 'Population connected to public sewerage, % total population'\n",
      " 'Environmentally related government R&D budget, % total government R&D'\n",
      " 'Environmentally related R&D expenditure, % GDP'\n",
      " 'Renewable energy public RD&D budget, % total energy public RD&D'\n",
      " 'Energy public RD&D budget, % GDP'\n",
      " 'Development of environment-related technologies, % all technologies'\n",
      " 'Development of environment-related technologies, % inventions worldwide'\n",
      " 'Development of environment-related technologies, inventions per capita'\n",
      " 'Environmentally related ODA, % total ODA'\n",
      " 'ODA - renewable energy sector, % total allocable ODA'\n",
      " 'ODA - water supply and sanitation sector, % total allocable ODA'\n",
      " 'ODA - all sectors - biodiversity, % total ODA'\n",
      " 'ODA - all sectors - climate change mitigation, % total ODA'\n",
      " 'ODA - all sectors - climate change adaptation, % total ODA'\n",
      " 'ODA - all sectors - desertification, % total ODA'\n",
      " 'Net ODA provided, % GNI' 'Environmentally related taxes, % GDP'\n",
      " 'Environmentally related taxes, % total tax revenue'\n",
      " 'Energy related tax revenue, % total environmental tax revenue'\n",
      " 'Road transport-related tax revenue, % total environmental tax revenue'\n",
      " 'Real GDP per capita' 'Population density, inhabitants per km2'\n",
      " 'Labour tax revenue, % GDP'\n",
      " 'Population connected to sewerage with primary treatment, % total population'\n",
      " 'Population connected to sewerage with secondary treatment, % total population'\n",
      " 'Population connected to sewerage with tertiary treatment, % total population'\n",
      " 'Demand-based CO2 productivity, GDP per unit of energy-related CO2 emissions'\n",
      " 'Demand-based CO2 productivity, disposable income per unit of energy-related CO2 emissions'\n",
      " 'Relative advantage in environment-related technology'\n",
      " 'Total primary energy supply' 'Petrol tax, USD per litre'\n",
      " 'Value added in industry, % of total value added'\n",
      " 'Value added in services, % of total value added'\n",
      " 'Production-based CO2 emissions'\n",
      " 'Municipal waste recycled or composted, % treated waste '\n",
      " 'ODA - environment sector, % total allocable ODA'\n",
      " 'Demand-based CO2 emissions' 'Diesel tax, USD per litre'\n",
      " 'Value added in agriculture, % of total value added'\n",
      " 'Municipal waste incinerated, % treated waste'\n",
      " 'Demand-based CO2 intensity, energy-related CO2 per capita'\n",
      " 'Fossil fuel consumer support, % energy related tax revenue'\n",
      " 'Biomass, % of DMC' 'Real GDP, Index 2000=100'\n",
      " 'Demand-based CO2 emissions, index 2000=100'\n",
      " 'Municipal waste generated, kg per capita'\n",
      " 'Total primary energy supply, index 2000=100'\n",
      " 'Fossil fuel consumer support, % total tax revenue'\n",
      " 'Production-based CO2 emissions, index 2000=100'\n",
      " 'Non-energy material productivity, GDP per unit of DMC'\n",
      " 'Municipal waste disposed to landfills, % treated waste'\n",
      " 'Adjustment for pollution abatement'\n",
      " 'Percentage of population exposed to more than 35 micrograms/m3'\n",
      " 'Percentage of population exposed to more than 10 micrograms/m3'\n",
      " 'Mean population exposure to PM2.5' 'Contribution of natural capital'\n",
      " 'Environmentally adjusted multifactor productivity growth'\n",
      " 'Petroleum support, % total fossil fuel support' 'Metals, % of DMC'\n",
      " 'Energy consumption in transport, % total energy consumption'\n",
      " 'Population with access to improved sanitation, % total population'\n",
      " 'Fossil fuel consumer support, % total fossil fuel support'\n",
      " 'Energy consumption in other sectors, % total energy consumption'\n",
      " 'Energy consumption in services, % total energy consumption'\n",
      " 'Intensity of use of forest resources'\n",
      " 'Total fossil fuel support, % of total tax revenue'\n",
      " 'Mortality from exposure to ambient PM2.5'\n",
      " 'Total renewable freshwater per capita'\n",
      " 'Fossil fuel producer support, % total fossil fuel support'\n",
      " 'Phosphorus balance per hectare'\n",
      " 'Coal support, % total fossil fuel support'\n",
      " 'Energy consumption in industry, % total energy consumption'\n",
      " 'Energy consumption in agriculture, % total energy consumption'\n",
      " 'Gas support, % total fossil fuel support' 'Nitrogen balance per hectare'\n",
      " 'Labour tax revenue, % total tax revenue'\n",
      " 'Non-metallic minerals, % of DMC'\n",
      " 'Population with access to improved drinking water sources, % total population '\n",
      " 'Forest resource stocks'\n",
      " 'Fossil fuel general services support, % total fossil fuel support'\n",
      " 'Fossil fuel public RD&D budget (excluding CCS), % total energy public RD&D'\n",
      " 'Loss of natural and semi-natural vegetated land, % since 1992'\n",
      " 'Conversion of permanent water to not-water surface, % permanent water, since 1984'\n",
      " 'Gain of natural and semi-natural vegetated land, % since 2004'\n",
      " 'Built up area per capita'\n",
      " 'Loss of natural and semi-natural vegetated land, % since 2004'\n",
      " 'Conversion from cropland to artificial surfaces, % since 1992'\n",
      " 'Conversion from natural and semi-natural land to cropland, % since 1992'\n",
      " 'Water, % total' 'Bare land, % total' 'Artificial surfaces, % total '\n",
      " 'Conversion from natural and semi-natural land to artificial surfaces, % since 1992'\n",
      " 'Permanent surface water, % total surface'\n",
      " 'Seasonal surface water, % total surface '\n",
      " 'Natural and semi-natural vegetated land, % total'\n",
      " 'Built up area, % total land'\n",
      " 'Conversion of permanent to seasonal water surface, % permanent water, since 1984'\n",
      " 'Cropland, % total'\n",
      " 'Gain of natural and semi-natural vegetated land, % since 1992'\n",
      " 'Conversion of not-water to permanent water surface, % permanent water, since 1984'\n",
      " 'Welfare costs of premature mortalities from exposure to ambient PM2.5, GDP equivalent'\n",
      " 'Conversion of seasonal to permanent water surface, % permanent water, since 1984'\n",
      " 'New built up area, % since 1990' 'Mortality from exposure to lead'\n",
      " 'Welfare costs of premature deaths from exposure to ambient ozone, GDP equivalent'\n",
      " 'Diesel end-user price, USD per litre'\n",
      " 'Welfare costs of premature deaths from exposure to lead, GDP equivalent'\n",
      " 'Mortality from exposure to ambient ozone'\n",
      " 'Mean feed-in tariff for solar PV electricity generation'\n",
      " 'Petrol end-user price, USD per litre'\n",
      " 'Mean feed-in tariff for wind electricity generation'\n",
      " 'Welfare costs of premature mortalities from exposure to residential radon, GDP equivalent'\n",
      " 'Mortality from exposure to residential radon'\n",
      " 'Industry electricity price, USD per kWh'\n",
      " 'Residential electricity price, USD per kWh'\n",
      " 'Total fertility rate, children per woman' 'Life expectancy at birth'\n",
      " 'Population, ages 15-64, % total'\n",
      " 'CO2 emissions from air transport per unit of GDP' 'Population'\n",
      " 'Annual surface temperature, change since 1951-1980'\n",
      " 'National expenditure on environmental protection, % GDP'\n",
      " 'Population, ages 65 and above, % total'\n",
      " 'Irrigated land, % agricultural land'\n",
      " 'Sales of pesticides per unit of agricultural land'\n",
      " 'Intact forest landscape, km2' 'Women, % total population'\n",
      " 'Population, ages 0-14, % total'\n",
      " 'Emissions priced above EUR 60 per tonne of CO2, % total emissions'\n",
      " 'CO2 emissions from air transport per capita' 'Net migration'\n",
      " 'Terrestrial protected area, % land area'\n",
      " 'Emissions priced above EUR 30 per tonne of CO2, % total emissions'\n",
      " 'Farmland Birds Index, 2000=100'\n",
      " 'Marine protected area, % total exclusive economic zone'\n",
      " 'Intact forest landscape loss, % since 2000'\n",
      " 'Forest Birds Index, 2000=100'\n",
      " 'Electricity support, % total fossil fuel support'\n",
      " 'CO2 intensity of GDP, CO2 emissions per unit of GDP'\n",
      " 'Renewable energy supply (excluding solid biofuels), % total energy supply'\n",
      " 'Naturally regenerating forests, % total forest area'\n",
      " 'Forests with long-term management plans, % total forest area'\n",
      " 'GDP deflator' 'Nominal exchange rate' 'Purchasing power parity'\n",
      " 'Real GDP'\n",
      " 'Emissions priced above EUR 120 per tonne of CO2, % total emissions']\n"
     ]
    }
   ],
   "source": [
    "unique_variables = green_growth[\"Variable\"].unique()\n",
    "print(unique_variables)"
   ]
  },
  {
   "cell_type": "code",
   "execution_count": 11,
   "id": "a8a8fc1b",
   "metadata": {},
   "outputs": [
    {
     "name": "stdout",
     "output_type": "stream",
     "text": [
      "Country     Variable                                                                        \n",
      "Bhutan      Real GDP, Index 2000=100                                                            11\n",
      "Spain       Terrestrial protected area, % land area                                             11\n",
      "Costa Rica  Marine protected area, % total exclusive economic zone                              11\n",
      "Tanzania    Annual surface temperature, change since 1951-1980                                  11\n",
      "Belgium     Marine protected area, % total exclusive economic zone                              11\n",
      "                                                                                                ..\n",
      "Cyprus      Petrol tax, USD per litre                                                            1\n",
      "            Seasonal surface water, % total surface                                              1\n",
      "Mali        Conversion of seasonal to permanent water surface, % permanent water, since 1984     1\n",
      "Turkey      Conversion of seasonal to permanent water surface, % permanent water, since 1984     1\n",
      "Portugal    New built up area, % since 1990                                                      1\n",
      "Name: Value, Length: 20870, dtype: int64\n"
     ]
    }
   ],
   "source": [
    "grouped_variables=green_growth.groupby(['Country','Variable']).count()['Value'].sort_values(ascending=False)\n",
    "print(grouped_variables)"
   ]
  },
  {
   "cell_type": "code",
   "execution_count": 12,
   "id": "e2a205b6",
   "metadata": {},
   "outputs": [],
   "source": [
    "green_growth_significant=green_growth.groupby(['Country','Variable']).filter(lambda v: (v.Value.size >= 11))"
   ]
  },
  {
   "cell_type": "code",
   "execution_count": 13,
   "id": "84c387ba",
   "metadata": {},
   "outputs": [
    {
     "data": {
      "text/html": [
       "<div>\n",
       "<style scoped>\n",
       "    .dataframe tbody tr th:only-of-type {\n",
       "        vertical-align: middle;\n",
       "    }\n",
       "\n",
       "    .dataframe tbody tr th {\n",
       "        vertical-align: top;\n",
       "    }\n",
       "\n",
       "    .dataframe thead th {\n",
       "        text-align: right;\n",
       "    }\n",
       "</style>\n",
       "<table border=\"1\" class=\"dataframe\">\n",
       "  <thead>\n",
       "    <tr style=\"text-align: right;\">\n",
       "      <th></th>\n",
       "      <th>Country</th>\n",
       "      <th>VAR</th>\n",
       "      <th>Variable</th>\n",
       "      <th>YEA</th>\n",
       "      <th>Year</th>\n",
       "      <th>Unit Code</th>\n",
       "      <th>Unit</th>\n",
       "      <th>PowerCode Code</th>\n",
       "      <th>PowerCode</th>\n",
       "      <th>Reference Period Code</th>\n",
       "      <th>Reference Period</th>\n",
       "      <th>Value</th>\n",
       "      <th>Flag Codes</th>\n",
       "      <th>Flags</th>\n",
       "    </tr>\n",
       "    <tr>\n",
       "      <th>COU</th>\n",
       "      <th></th>\n",
       "      <th></th>\n",
       "      <th></th>\n",
       "      <th></th>\n",
       "      <th></th>\n",
       "      <th></th>\n",
       "      <th></th>\n",
       "      <th></th>\n",
       "      <th></th>\n",
       "      <th></th>\n",
       "      <th></th>\n",
       "      <th></th>\n",
       "      <th></th>\n",
       "      <th></th>\n",
       "    </tr>\n",
       "  </thead>\n",
       "  <tbody>\n",
       "    <tr>\n",
       "      <th>AUS</th>\n",
       "      <td>Australia</td>\n",
       "      <td>ENVRD_GBAORD</td>\n",
       "      <td>Environmentally related government R&amp;D budget,...</td>\n",
       "      <td>1990</td>\n",
       "      <td>1990</td>\n",
       "      <td>PC</td>\n",
       "      <td>Percentage</td>\n",
       "      <td>0</td>\n",
       "      <td>Units</td>\n",
       "      <td>NaN</td>\n",
       "      <td>NaN</td>\n",
       "      <td>3.115022</td>\n",
       "      <td>B</td>\n",
       "      <td>Break</td>\n",
       "    </tr>\n",
       "    <tr>\n",
       "      <th>AUS</th>\n",
       "      <td>Australia</td>\n",
       "      <td>ENVRD_GBAORD</td>\n",
       "      <td>Environmentally related government R&amp;D budget,...</td>\n",
       "      <td>1995</td>\n",
       "      <td>1995</td>\n",
       "      <td>PC</td>\n",
       "      <td>Percentage</td>\n",
       "      <td>0</td>\n",
       "      <td>Units</td>\n",
       "      <td>NaN</td>\n",
       "      <td>NaN</td>\n",
       "      <td>1.194272</td>\n",
       "      <td>B</td>\n",
       "      <td>Break</td>\n",
       "    </tr>\n",
       "    <tr>\n",
       "      <th>AUS</th>\n",
       "      <td>Australia</td>\n",
       "      <td>ENVRD_GBAORD</td>\n",
       "      <td>Environmentally related government R&amp;D budget,...</td>\n",
       "      <td>2000</td>\n",
       "      <td>2000</td>\n",
       "      <td>PC</td>\n",
       "      <td>Percentage</td>\n",
       "      <td>0</td>\n",
       "      <td>Units</td>\n",
       "      <td>NaN</td>\n",
       "      <td>NaN</td>\n",
       "      <td>2.950042</td>\n",
       "      <td>B</td>\n",
       "      <td>Break</td>\n",
       "    </tr>\n",
       "    <tr>\n",
       "      <th>AUS</th>\n",
       "      <td>Australia</td>\n",
       "      <td>ENVRD_GBAORD</td>\n",
       "      <td>Environmentally related government R&amp;D budget,...</td>\n",
       "      <td>2010</td>\n",
       "      <td>2010</td>\n",
       "      <td>PC</td>\n",
       "      <td>Percentage</td>\n",
       "      <td>0</td>\n",
       "      <td>Units</td>\n",
       "      <td>NaN</td>\n",
       "      <td>NaN</td>\n",
       "      <td>3.953611</td>\n",
       "      <td>B</td>\n",
       "      <td>Break</td>\n",
       "    </tr>\n",
       "    <tr>\n",
       "      <th>AUS</th>\n",
       "      <td>Australia</td>\n",
       "      <td>ENVRD_GBAORD</td>\n",
       "      <td>Environmentally related government R&amp;D budget,...</td>\n",
       "      <td>2015</td>\n",
       "      <td>2015</td>\n",
       "      <td>PC</td>\n",
       "      <td>Percentage</td>\n",
       "      <td>0</td>\n",
       "      <td>Units</td>\n",
       "      <td>NaN</td>\n",
       "      <td>NaN</td>\n",
       "      <td>3.828087</td>\n",
       "      <td>B</td>\n",
       "      <td>Break</td>\n",
       "    </tr>\n",
       "  </tbody>\n",
       "</table>\n",
       "</div>"
      ],
      "text/plain": [
       "       Country           VAR  \\\n",
       "COU                            \n",
       "AUS  Australia  ENVRD_GBAORD   \n",
       "AUS  Australia  ENVRD_GBAORD   \n",
       "AUS  Australia  ENVRD_GBAORD   \n",
       "AUS  Australia  ENVRD_GBAORD   \n",
       "AUS  Australia  ENVRD_GBAORD   \n",
       "\n",
       "                                              Variable   YEA  Year Unit Code  \\\n",
       "COU                                                                            \n",
       "AUS  Environmentally related government R&D budget,...  1990  1990        PC   \n",
       "AUS  Environmentally related government R&D budget,...  1995  1995        PC   \n",
       "AUS  Environmentally related government R&D budget,...  2000  2000        PC   \n",
       "AUS  Environmentally related government R&D budget,...  2010  2010        PC   \n",
       "AUS  Environmentally related government R&D budget,...  2015  2015        PC   \n",
       "\n",
       "           Unit  PowerCode Code PowerCode Reference Period Code  \\\n",
       "COU                                                               \n",
       "AUS  Percentage               0     Units                   NaN   \n",
       "AUS  Percentage               0     Units                   NaN   \n",
       "AUS  Percentage               0     Units                   NaN   \n",
       "AUS  Percentage               0     Units                   NaN   \n",
       "AUS  Percentage               0     Units                   NaN   \n",
       "\n",
       "    Reference Period     Value Flag Codes  Flags  \n",
       "COU                                               \n",
       "AUS              NaN  3.115022          B  Break  \n",
       "AUS              NaN  1.194272          B  Break  \n",
       "AUS              NaN  2.950042          B  Break  \n",
       "AUS              NaN  3.953611          B  Break  \n",
       "AUS              NaN  3.828087          B  Break  "
      ]
     },
     "execution_count": 13,
     "metadata": {},
     "output_type": "execute_result"
    }
   ],
   "source": [
    "green_growth_significant.head()"
   ]
  },
  {
   "cell_type": "code",
   "execution_count": 14,
   "id": "3e353b0a",
   "metadata": {
    "scrolled": true
   },
   "outputs": [
    {
     "name": "stdout",
     "output_type": "stream",
     "text": [
      "['Environmentally related government R&D budget, % total government R&D'\n",
      " 'Real GDP per capita' 'Population density, inhabitants per km2'\n",
      " 'Renewable energy public RD&D budget, % total energy public RD&D'\n",
      " 'Energy public RD&D budget, % GDP'\n",
      " 'Value added in services, % of total value added'\n",
      " 'Real GDP, Index 2000=100' 'Diesel tax, USD per litre'\n",
      " 'Petrol tax, USD per litre'\n",
      " 'Value added in industry, % of total value added'\n",
      " 'Value added in agriculture, % of total value added'\n",
      " 'Fossil fuel public RD&D budget (excluding CCS), % total energy public RD&D'\n",
      " 'Diesel end-user price, USD per litre'\n",
      " 'Petrol end-user price, USD per litre'\n",
      " 'Industry electricity price, USD per kWh'\n",
      " 'Residential electricity price, USD per kWh'\n",
      " 'Annual surface temperature, change since 1951-1980'\n",
      " 'Terrestrial protected area, % land area'\n",
      " 'Marine protected area, % total exclusive economic zone'\n",
      " 'Farmland Birds Index, 2000=100' 'Irrigated land, % agricultural land'\n",
      " 'GDP deflator' 'Nominal exchange rate' 'Purchasing power parity'\n",
      " 'Real GDP']\n"
     ]
    }
   ],
   "source": [
    "unique_variables_significant = green_growth_significant[\"Variable\"].unique()\n",
    "print(unique_variables_significant)"
   ]
  },
  {
   "cell_type": "code",
   "execution_count": 15,
   "id": "a60372f7",
   "metadata": {},
   "outputs": [
    {
     "name": "stdout",
     "output_type": "stream",
     "text": [
      "Variable\n",
      "Population density, inhabitants per km2                                       2013\n",
      "GDP deflator                                                                  1936\n",
      "Nominal exchange rate                                                         1914\n",
      "Purchasing power parity                                                       1837\n",
      "Annual surface temperature, change since 1951-1980                            1815\n",
      "Terrestrial protected area, % land area                                       1221\n",
      "Marine protected area, % total exclusive economic zone                        1045\n",
      "Real GDP, Index 2000=100                                                       990\n",
      "Real GDP per capita                                                            990\n",
      "Real GDP                                                                       990\n",
      "Value added in industry, % of total value added                                264\n",
      "Value added in agriculture, % of total value added                             264\n",
      "Value added in services, % of total value added                                264\n",
      "Diesel tax, USD per litre                                                      209\n",
      "Petrol tax, USD per litre                                                      198\n",
      "Environmentally related government R&D budget, % total government R&D           99\n",
      "Diesel end-user price, USD per litre                                            66\n",
      "Petrol end-user price, USD per litre                                            66\n",
      "Energy public RD&D budget, % GDP                                                44\n",
      "Fossil fuel public RD&D budget (excluding CCS), % total energy public RD&D      33\n",
      "Renewable energy public RD&D budget, % total energy public RD&D                 33\n",
      "Irrigated land, % agricultural land                                             22\n",
      "Industry electricity price, USD per kWh                                         11\n",
      "Farmland Birds Index, 2000=100                                                  11\n",
      "Residential electricity price, USD per kWh                                      11\n",
      "Name: Value, dtype: int64\n"
     ]
    }
   ],
   "source": [
    "main_variables=green_growth_significant.groupby(['Variable']).count()['Value'].sort_values(ascending=False)\n",
    "print(main_variables)"
   ]
  },
  {
   "cell_type": "markdown",
   "id": "d51f085e",
   "metadata": {},
   "source": [
    "1. Picking 2 variables on area:\n",
    "- Terrestrial protected area, % land area                                       1221\n",
    "- Marine protected area, % total exclusive economic zone                        1045                                           \n",
    "\n",
    "2. Also 1 variable on population density:\n",
    "- Population density, inhabitants per km2                                       2013"
   ]
  },
  {
   "cell_type": "code",
   "execution_count": 16,
   "id": "a4282eef",
   "metadata": {
    "scrolled": true
   },
   "outputs": [
    {
     "name": "stdout",
     "output_type": "stream",
     "text": [
      "                                                      Country           VAR  \\\n",
      "Variable                                                                      \n",
      "Environmentally related government R&D budget, ...  Australia  ENVRD_GBAORD   \n",
      "Environmentally related government R&D budget, ...  Australia  ENVRD_GBAORD   \n",
      "Environmentally related government R&D budget, ...  Australia  ENVRD_GBAORD   \n",
      "Environmentally related government R&D budget, ...  Australia  ENVRD_GBAORD   \n",
      "Environmentally related government R&D budget, ...  Australia  ENVRD_GBAORD   \n",
      "\n",
      "                                                     YEA  Year Unit Code  \\\n",
      "Variable                                                                   \n",
      "Environmentally related government R&D budget, ...  1990  1990        PC   \n",
      "Environmentally related government R&D budget, ...  1995  1995        PC   \n",
      "Environmentally related government R&D budget, ...  2000  2000        PC   \n",
      "Environmentally related government R&D budget, ...  2010  2010        PC   \n",
      "Environmentally related government R&D budget, ...  2015  2015        PC   \n",
      "\n",
      "                                                          Unit  \\\n",
      "Variable                                                         \n",
      "Environmentally related government R&D budget, ...  Percentage   \n",
      "Environmentally related government R&D budget, ...  Percentage   \n",
      "Environmentally related government R&D budget, ...  Percentage   \n",
      "Environmentally related government R&D budget, ...  Percentage   \n",
      "Environmentally related government R&D budget, ...  Percentage   \n",
      "\n",
      "                                                    PowerCode Code PowerCode  \\\n",
      "Variable                                                                       \n",
      "Environmentally related government R&D budget, ...               0     Units   \n",
      "Environmentally related government R&D budget, ...               0     Units   \n",
      "Environmentally related government R&D budget, ...               0     Units   \n",
      "Environmentally related government R&D budget, ...               0     Units   \n",
      "Environmentally related government R&D budget, ...               0     Units   \n",
      "\n",
      "                                                   Reference Period Code  \\\n",
      "Variable                                                                   \n",
      "Environmentally related government R&D budget, ...                   NaN   \n",
      "Environmentally related government R&D budget, ...                   NaN   \n",
      "Environmentally related government R&D budget, ...                   NaN   \n",
      "Environmentally related government R&D budget, ...                   NaN   \n",
      "Environmentally related government R&D budget, ...                   NaN   \n",
      "\n",
      "                                                   Reference Period     Value  \\\n",
      "Variable                                                                        \n",
      "Environmentally related government R&D budget, ...              NaN  3.115022   \n",
      "Environmentally related government R&D budget, ...              NaN  1.194272   \n",
      "Environmentally related government R&D budget, ...              NaN  2.950042   \n",
      "Environmentally related government R&D budget, ...              NaN  3.953611   \n",
      "Environmentally related government R&D budget, ...              NaN  3.828087   \n",
      "\n",
      "                                                   Flag Codes  Flags  \n",
      "Variable                                                              \n",
      "Environmentally related government R&D budget, ...          B  Break  \n",
      "Environmentally related government R&D budget, ...          B  Break  \n",
      "Environmentally related government R&D budget, ...          B  Break  \n",
      "Environmentally related government R&D budget, ...          B  Break  \n",
      "Environmentally related government R&D budget, ...          B  Break  \n"
     ]
    }
   ],
   "source": [
    "green_growth_significant_ind = green_growth_significant.set_index(\"Variable\")\n",
    "print(green_growth_significant_ind.head())"
   ]
  },
  {
   "cell_type": "code",
   "execution_count": 17,
   "id": "d79d5cc6",
   "metadata": {
    "scrolled": true
   },
   "outputs": [
    {
     "data": {
      "text/html": [
       "<div>\n",
       "<style scoped>\n",
       "    .dataframe tbody tr th:only-of-type {\n",
       "        vertical-align: middle;\n",
       "    }\n",
       "\n",
       "    .dataframe tbody tr th {\n",
       "        vertical-align: top;\n",
       "    }\n",
       "\n",
       "    .dataframe thead th {\n",
       "        text-align: right;\n",
       "    }\n",
       "</style>\n",
       "<table border=\"1\" class=\"dataframe\">\n",
       "  <thead>\n",
       "    <tr style=\"text-align: right;\">\n",
       "      <th></th>\n",
       "      <th>Country</th>\n",
       "      <th>VAR</th>\n",
       "      <th>YEA</th>\n",
       "      <th>Year</th>\n",
       "      <th>Unit Code</th>\n",
       "      <th>Unit</th>\n",
       "      <th>PowerCode Code</th>\n",
       "      <th>PowerCode</th>\n",
       "      <th>Reference Period Code</th>\n",
       "      <th>Reference Period</th>\n",
       "      <th>Value</th>\n",
       "      <th>Flag Codes</th>\n",
       "      <th>Flags</th>\n",
       "    </tr>\n",
       "    <tr>\n",
       "      <th>Variable</th>\n",
       "      <th></th>\n",
       "      <th></th>\n",
       "      <th></th>\n",
       "      <th></th>\n",
       "      <th></th>\n",
       "      <th></th>\n",
       "      <th></th>\n",
       "      <th></th>\n",
       "      <th></th>\n",
       "      <th></th>\n",
       "      <th></th>\n",
       "      <th></th>\n",
       "      <th></th>\n",
       "    </tr>\n",
       "  </thead>\n",
       "  <tbody>\n",
       "    <tr>\n",
       "      <th>Marine protected area, % total exclusive economic zone</th>\n",
       "      <td>Russia</td>\n",
       "      <td>PA_MARINE</td>\n",
       "      <td>2016</td>\n",
       "      <td>2016</td>\n",
       "      <td>PC</td>\n",
       "      <td>Percentage</td>\n",
       "      <td>0</td>\n",
       "      <td>Units</td>\n",
       "      <td>NaN</td>\n",
       "      <td>NaN</td>\n",
       "      <td>1.377622</td>\n",
       "      <td>NaN</td>\n",
       "      <td>NaN</td>\n",
       "    </tr>\n",
       "    <tr>\n",
       "      <th>Marine protected area, % total exclusive economic zone</th>\n",
       "      <td>Italy</td>\n",
       "      <td>PA_MARINE</td>\n",
       "      <td>2015</td>\n",
       "      <td>2015</td>\n",
       "      <td>PC</td>\n",
       "      <td>Percentage</td>\n",
       "      <td>0</td>\n",
       "      <td>Units</td>\n",
       "      <td>NaN</td>\n",
       "      <td>NaN</td>\n",
       "      <td>5.495167</td>\n",
       "      <td>NaN</td>\n",
       "      <td>NaN</td>\n",
       "    </tr>\n",
       "    <tr>\n",
       "      <th>Marine protected area, % total exclusive economic zone</th>\n",
       "      <td>Italy</td>\n",
       "      <td>PA_MARINE</td>\n",
       "      <td>2010</td>\n",
       "      <td>2010</td>\n",
       "      <td>PC</td>\n",
       "      <td>Percentage</td>\n",
       "      <td>0</td>\n",
       "      <td>Units</td>\n",
       "      <td>NaN</td>\n",
       "      <td>NaN</td>\n",
       "      <td>5.481958</td>\n",
       "      <td>NaN</td>\n",
       "      <td>NaN</td>\n",
       "    </tr>\n",
       "    <tr>\n",
       "      <th>Marine protected area, % total exclusive economic zone</th>\n",
       "      <td>Italy</td>\n",
       "      <td>PA_MARINE</td>\n",
       "      <td>2000</td>\n",
       "      <td>2000</td>\n",
       "      <td>PC</td>\n",
       "      <td>Percentage</td>\n",
       "      <td>0</td>\n",
       "      <td>Units</td>\n",
       "      <td>NaN</td>\n",
       "      <td>NaN</td>\n",
       "      <td>4.437385</td>\n",
       "      <td>NaN</td>\n",
       "      <td>NaN</td>\n",
       "    </tr>\n",
       "    <tr>\n",
       "      <th>Marine protected area, % total exclusive economic zone</th>\n",
       "      <td>Italy</td>\n",
       "      <td>PA_MARINE</td>\n",
       "      <td>1995</td>\n",
       "      <td>1995</td>\n",
       "      <td>PC</td>\n",
       "      <td>Percentage</td>\n",
       "      <td>0</td>\n",
       "      <td>Units</td>\n",
       "      <td>NaN</td>\n",
       "      <td>NaN</td>\n",
       "      <td>0.555124</td>\n",
       "      <td>NaN</td>\n",
       "      <td>NaN</td>\n",
       "    </tr>\n",
       "    <tr>\n",
       "      <th>...</th>\n",
       "      <td>...</td>\n",
       "      <td>...</td>\n",
       "      <td>...</td>\n",
       "      <td>...</td>\n",
       "      <td>...</td>\n",
       "      <td>...</td>\n",
       "      <td>...</td>\n",
       "      <td>...</td>\n",
       "      <td>...</td>\n",
       "      <td>...</td>\n",
       "      <td>...</td>\n",
       "      <td>...</td>\n",
       "      <td>...</td>\n",
       "    </tr>\n",
       "    <tr>\n",
       "      <th>Terrestrial protected area, % land area</th>\n",
       "      <td>Tajikistan</td>\n",
       "      <td>PA_TERRESTRIAL</td>\n",
       "      <td>2010</td>\n",
       "      <td>2010</td>\n",
       "      <td>PC</td>\n",
       "      <td>Percentage</td>\n",
       "      <td>0</td>\n",
       "      <td>Units</td>\n",
       "      <td>NaN</td>\n",
       "      <td>NaN</td>\n",
       "      <td>19.138541</td>\n",
       "      <td>NaN</td>\n",
       "      <td>NaN</td>\n",
       "    </tr>\n",
       "    <tr>\n",
       "      <th>Terrestrial protected area, % land area</th>\n",
       "      <td>Tajikistan</td>\n",
       "      <td>PA_TERRESTRIAL</td>\n",
       "      <td>2015</td>\n",
       "      <td>2015</td>\n",
       "      <td>PC</td>\n",
       "      <td>Percentage</td>\n",
       "      <td>0</td>\n",
       "      <td>Units</td>\n",
       "      <td>NaN</td>\n",
       "      <td>NaN</td>\n",
       "      <td>22.139757</td>\n",
       "      <td>NaN</td>\n",
       "      <td>NaN</td>\n",
       "    </tr>\n",
       "    <tr>\n",
       "      <th>Terrestrial protected area, % land area</th>\n",
       "      <td>Tajikistan</td>\n",
       "      <td>PA_TERRESTRIAL</td>\n",
       "      <td>2016</td>\n",
       "      <td>2016</td>\n",
       "      <td>PC</td>\n",
       "      <td>Percentage</td>\n",
       "      <td>0</td>\n",
       "      <td>Units</td>\n",
       "      <td>NaN</td>\n",
       "      <td>NaN</td>\n",
       "      <td>22.143870</td>\n",
       "      <td>NaN</td>\n",
       "      <td>NaN</td>\n",
       "    </tr>\n",
       "    <tr>\n",
       "      <th>Terrestrial protected area, % land area</th>\n",
       "      <td>Sint Maarten</td>\n",
       "      <td>PA_TERRESTRIAL</td>\n",
       "      <td>2020</td>\n",
       "      <td>2020</td>\n",
       "      <td>PC</td>\n",
       "      <td>Percentage</td>\n",
       "      <td>0</td>\n",
       "      <td>Units</td>\n",
       "      <td>NaN</td>\n",
       "      <td>NaN</td>\n",
       "      <td>0.446429</td>\n",
       "      <td>NaN</td>\n",
       "      <td>NaN</td>\n",
       "    </tr>\n",
       "    <tr>\n",
       "      <th>Terrestrial protected area, % land area</th>\n",
       "      <td>Bulgaria</td>\n",
       "      <td>PA_TERRESTRIAL</td>\n",
       "      <td>1990</td>\n",
       "      <td>1990</td>\n",
       "      <td>PC</td>\n",
       "      <td>Percentage</td>\n",
       "      <td>0</td>\n",
       "      <td>Units</td>\n",
       "      <td>NaN</td>\n",
       "      <td>NaN</td>\n",
       "      <td>2.343140</td>\n",
       "      <td>NaN</td>\n",
       "      <td>NaN</td>\n",
       "    </tr>\n",
       "  </tbody>\n",
       "</table>\n",
       "<p>4279 rows × 13 columns</p>\n",
       "</div>"
      ],
      "text/plain": [
       "                                                         Country  \\\n",
       "Variable                                                           \n",
       "Marine protected area, % total exclusive econom...        Russia   \n",
       "Marine protected area, % total exclusive econom...         Italy   \n",
       "Marine protected area, % total exclusive econom...         Italy   \n",
       "Marine protected area, % total exclusive econom...         Italy   \n",
       "Marine protected area, % total exclusive econom...         Italy   \n",
       "...                                                          ...   \n",
       "Terrestrial protected area, % land area               Tajikistan   \n",
       "Terrestrial protected area, % land area               Tajikistan   \n",
       "Terrestrial protected area, % land area               Tajikistan   \n",
       "Terrestrial protected area, % land area             Sint Maarten   \n",
       "Terrestrial protected area, % land area                 Bulgaria   \n",
       "\n",
       "                                                               VAR   YEA  \\\n",
       "Variable                                                                   \n",
       "Marine protected area, % total exclusive econom...       PA_MARINE  2016   \n",
       "Marine protected area, % total exclusive econom...       PA_MARINE  2015   \n",
       "Marine protected area, % total exclusive econom...       PA_MARINE  2010   \n",
       "Marine protected area, % total exclusive econom...       PA_MARINE  2000   \n",
       "Marine protected area, % total exclusive econom...       PA_MARINE  1995   \n",
       "...                                                            ...   ...   \n",
       "Terrestrial protected area, % land area             PA_TERRESTRIAL  2010   \n",
       "Terrestrial protected area, % land area             PA_TERRESTRIAL  2015   \n",
       "Terrestrial protected area, % land area             PA_TERRESTRIAL  2016   \n",
       "Terrestrial protected area, % land area             PA_TERRESTRIAL  2020   \n",
       "Terrestrial protected area, % land area             PA_TERRESTRIAL  1990   \n",
       "\n",
       "                                                    Year Unit Code  \\\n",
       "Variable                                                             \n",
       "Marine protected area, % total exclusive econom...  2016        PC   \n",
       "Marine protected area, % total exclusive econom...  2015        PC   \n",
       "Marine protected area, % total exclusive econom...  2010        PC   \n",
       "Marine protected area, % total exclusive econom...  2000        PC   \n",
       "Marine protected area, % total exclusive econom...  1995        PC   \n",
       "...                                                  ...       ...   \n",
       "Terrestrial protected area, % land area             2010        PC   \n",
       "Terrestrial protected area, % land area             2015        PC   \n",
       "Terrestrial protected area, % land area             2016        PC   \n",
       "Terrestrial protected area, % land area             2020        PC   \n",
       "Terrestrial protected area, % land area             1990        PC   \n",
       "\n",
       "                                                          Unit  \\\n",
       "Variable                                                         \n",
       "Marine protected area, % total exclusive econom...  Percentage   \n",
       "Marine protected area, % total exclusive econom...  Percentage   \n",
       "Marine protected area, % total exclusive econom...  Percentage   \n",
       "Marine protected area, % total exclusive econom...  Percentage   \n",
       "Marine protected area, % total exclusive econom...  Percentage   \n",
       "...                                                        ...   \n",
       "Terrestrial protected area, % land area             Percentage   \n",
       "Terrestrial protected area, % land area             Percentage   \n",
       "Terrestrial protected area, % land area             Percentage   \n",
       "Terrestrial protected area, % land area             Percentage   \n",
       "Terrestrial protected area, % land area             Percentage   \n",
       "\n",
       "                                                    PowerCode Code PowerCode  \\\n",
       "Variable                                                                       \n",
       "Marine protected area, % total exclusive econom...               0     Units   \n",
       "Marine protected area, % total exclusive econom...               0     Units   \n",
       "Marine protected area, % total exclusive econom...               0     Units   \n",
       "Marine protected area, % total exclusive econom...               0     Units   \n",
       "Marine protected area, % total exclusive econom...               0     Units   \n",
       "...                                                            ...       ...   \n",
       "Terrestrial protected area, % land area                          0     Units   \n",
       "Terrestrial protected area, % land area                          0     Units   \n",
       "Terrestrial protected area, % land area                          0     Units   \n",
       "Terrestrial protected area, % land area                          0     Units   \n",
       "Terrestrial protected area, % land area                          0     Units   \n",
       "\n",
       "                                                   Reference Period Code  \\\n",
       "Variable                                                                   \n",
       "Marine protected area, % total exclusive econom...                   NaN   \n",
       "Marine protected area, % total exclusive econom...                   NaN   \n",
       "Marine protected area, % total exclusive econom...                   NaN   \n",
       "Marine protected area, % total exclusive econom...                   NaN   \n",
       "Marine protected area, % total exclusive econom...                   NaN   \n",
       "...                                                                  ...   \n",
       "Terrestrial protected area, % land area                              NaN   \n",
       "Terrestrial protected area, % land area                              NaN   \n",
       "Terrestrial protected area, % land area                              NaN   \n",
       "Terrestrial protected area, % land area                              NaN   \n",
       "Terrestrial protected area, % land area                              NaN   \n",
       "\n",
       "                                                   Reference Period  \\\n",
       "Variable                                                              \n",
       "Marine protected area, % total exclusive econom...              NaN   \n",
       "Marine protected area, % total exclusive econom...              NaN   \n",
       "Marine protected area, % total exclusive econom...              NaN   \n",
       "Marine protected area, % total exclusive econom...              NaN   \n",
       "Marine protected area, % total exclusive econom...              NaN   \n",
       "...                                                             ...   \n",
       "Terrestrial protected area, % land area                         NaN   \n",
       "Terrestrial protected area, % land area                         NaN   \n",
       "Terrestrial protected area, % land area                         NaN   \n",
       "Terrestrial protected area, % land area                         NaN   \n",
       "Terrestrial protected area, % land area                         NaN   \n",
       "\n",
       "                                                        Value Flag Codes Flags  \n",
       "Variable                                                                        \n",
       "Marine protected area, % total exclusive econom...   1.377622        NaN   NaN  \n",
       "Marine protected area, % total exclusive econom...   5.495167        NaN   NaN  \n",
       "Marine protected area, % total exclusive econom...   5.481958        NaN   NaN  \n",
       "Marine protected area, % total exclusive econom...   4.437385        NaN   NaN  \n",
       "Marine protected area, % total exclusive econom...   0.555124        NaN   NaN  \n",
       "...                                                       ...        ...   ...  \n",
       "Terrestrial protected area, % land area             19.138541        NaN   NaN  \n",
       "Terrestrial protected area, % land area             22.139757        NaN   NaN  \n",
       "Terrestrial protected area, % land area             22.143870        NaN   NaN  \n",
       "Terrestrial protected area, % land area              0.446429        NaN   NaN  \n",
       "Terrestrial protected area, % land area              2.343140        NaN   NaN  \n",
       "\n",
       "[4279 rows x 13 columns]"
      ]
     },
     "execution_count": 17,
     "metadata": {},
     "output_type": "execute_result"
    }
   ],
   "source": [
    "green_growth_significant_ind.loc[[\"Terrestrial protected area, % land area\",\"Marine protected area, % total exclusive economic zone\",\"Population density, inhabitants per km2\"]].sort_index()\n"
   ]
  },
  {
   "cell_type": "code",
   "execution_count": 18,
   "id": "c319cca6",
   "metadata": {
    "scrolled": true
   },
   "outputs": [
    {
     "name": "stdout",
     "output_type": "stream",
     "text": [
      "                                          Country             VAR   YEA  Year  \\\n",
      "Variable                                                                        \n",
      "Terrestrial protected area, % land area  Bulgaria  PA_TERRESTRIAL  1990  1990   \n",
      "Terrestrial protected area, % land area  Bulgaria  PA_TERRESTRIAL  1995  1995   \n",
      "Terrestrial protected area, % land area  Bulgaria  PA_TERRESTRIAL  2000  2000   \n",
      "Terrestrial protected area, % land area  Bulgaria  PA_TERRESTRIAL  2010  2010   \n",
      "Terrestrial protected area, % land area  Bulgaria  PA_TERRESTRIAL  2015  2015   \n",
      "...                                           ...             ...   ...   ...   \n",
      "Population density, inhabitants per km2    Monaco          POPDEN  2017  2017   \n",
      "Population density, inhabitants per km2    Monaco          POPDEN  2018  2018   \n",
      "Population density, inhabitants per km2    Monaco          POPDEN  2019  2019   \n",
      "Population density, inhabitants per km2    Monaco          POPDEN  2020  2020   \n",
      "Population density, inhabitants per km2    Monaco          POPDEN  2021  2021   \n",
      "\n",
      "                                        Unit Code         Unit  \\\n",
      "Variable                                                         \n",
      "Terrestrial protected area, % land area        PC   Percentage   \n",
      "Terrestrial protected area, % land area        PC   Percentage   \n",
      "Terrestrial protected area, % land area        PC   Percentage   \n",
      "Terrestrial protected area, % land area        PC   Percentage   \n",
      "Terrestrial protected area, % land area        PC   Percentage   \n",
      "...                                           ...          ...   \n",
      "Population density, inhabitants per km2       HAB  Inhabitants   \n",
      "Population density, inhabitants per km2       HAB  Inhabitants   \n",
      "Population density, inhabitants per km2       HAB  Inhabitants   \n",
      "Population density, inhabitants per km2       HAB  Inhabitants   \n",
      "Population density, inhabitants per km2       HAB  Inhabitants   \n",
      "\n",
      "                                         PowerCode Code PowerCode  \\\n",
      "Variable                                                            \n",
      "Terrestrial protected area, % land area               0     Units   \n",
      "Terrestrial protected area, % land area               0     Units   \n",
      "Terrestrial protected area, % land area               0     Units   \n",
      "Terrestrial protected area, % land area               0     Units   \n",
      "Terrestrial protected area, % land area               0     Units   \n",
      "...                                                 ...       ...   \n",
      "Population density, inhabitants per km2               0     Units   \n",
      "Population density, inhabitants per km2               0     Units   \n",
      "Population density, inhabitants per km2               0     Units   \n",
      "Population density, inhabitants per km2               0     Units   \n",
      "Population density, inhabitants per km2               0     Units   \n",
      "\n",
      "                                        Reference Period Code  \\\n",
      "Variable                                                        \n",
      "Terrestrial protected area, % land area                   NaN   \n",
      "Terrestrial protected area, % land area                   NaN   \n",
      "Terrestrial protected area, % land area                   NaN   \n",
      "Terrestrial protected area, % land area                   NaN   \n",
      "Terrestrial protected area, % land area                   NaN   \n",
      "...                                                       ...   \n",
      "Population density, inhabitants per km2                   NaN   \n",
      "Population density, inhabitants per km2                   NaN   \n",
      "Population density, inhabitants per km2                   NaN   \n",
      "Population density, inhabitants per km2                   NaN   \n",
      "Population density, inhabitants per km2                   NaN   \n",
      "\n",
      "                                        Reference Period       Value  \\\n",
      "Variable                                                               \n",
      "Terrestrial protected area, % land area              NaN    2.343140   \n",
      "Terrestrial protected area, % land area              NaN    4.654114   \n",
      "Terrestrial protected area, % land area              NaN    4.866177   \n",
      "Terrestrial protected area, % land area              NaN   40.671747   \n",
      "Terrestrial protected area, % land area              NaN   40.870565   \n",
      "...                                                  ...         ...   \n",
      "Population density, inhabitants per km2              NaN  512.439900   \n",
      "Population density, inhabitants per km2              NaN  516.310700   \n",
      "Population density, inhabitants per km2              NaN  520.114700   \n",
      "Population density, inhabitants per km2              NaN  523.812100   \n",
      "Population density, inhabitants per km2              NaN  527.496000   \n",
      "\n",
      "                                        Flag Codes            Flags  \n",
      "Variable                                                             \n",
      "Terrestrial protected area, % land area        NaN              NaN  \n",
      "Terrestrial protected area, % land area        NaN              NaN  \n",
      "Terrestrial protected area, % land area        NaN              NaN  \n",
      "Terrestrial protected area, % land area        NaN              NaN  \n",
      "Terrestrial protected area, % land area        NaN              NaN  \n",
      "...                                            ...              ...  \n",
      "Population density, inhabitants per km2          E  Estimated value  \n",
      "Population density, inhabitants per km2          E  Estimated value  \n",
      "Population density, inhabitants per km2          E  Estimated value  \n",
      "Population density, inhabitants per km2          E  Estimated value  \n",
      "Population density, inhabitants per km2          E  Estimated value  \n",
      "\n",
      "[4279 rows x 13 columns]\n"
     ]
    }
   ],
   "source": [
    "green = green_growth_significant_ind.loc[[\"Terrestrial protected area, % land area\",\"Marine protected area, % total exclusive economic zone\",\"Population density, inhabitants per km2\"]]\n",
    "print(green)"
   ]
  },
  {
   "cell_type": "code",
   "execution_count": 19,
   "id": "3c1d6335",
   "metadata": {
    "scrolled": true
   },
   "outputs": [
    {
     "data": {
      "text/html": [
       "<div>\n",
       "<style scoped>\n",
       "    .dataframe tbody tr th:only-of-type {\n",
       "        vertical-align: middle;\n",
       "    }\n",
       "\n",
       "    .dataframe tbody tr th {\n",
       "        vertical-align: top;\n",
       "    }\n",
       "\n",
       "    .dataframe thead th {\n",
       "        text-align: right;\n",
       "    }\n",
       "</style>\n",
       "<table border=\"1\" class=\"dataframe\">\n",
       "  <thead>\n",
       "    <tr style=\"text-align: right;\">\n",
       "      <th></th>\n",
       "      <th>Country</th>\n",
       "      <th>VAR</th>\n",
       "      <th>YEA</th>\n",
       "      <th>Year</th>\n",
       "      <th>Unit Code</th>\n",
       "      <th>Unit</th>\n",
       "      <th>PowerCode Code</th>\n",
       "      <th>PowerCode</th>\n",
       "      <th>Reference Period Code</th>\n",
       "      <th>Reference Period</th>\n",
       "      <th>Value</th>\n",
       "      <th>Flag Codes</th>\n",
       "      <th>Flags</th>\n",
       "    </tr>\n",
       "    <tr>\n",
       "      <th>Variable</th>\n",
       "      <th></th>\n",
       "      <th></th>\n",
       "      <th></th>\n",
       "      <th></th>\n",
       "      <th></th>\n",
       "      <th></th>\n",
       "      <th></th>\n",
       "      <th></th>\n",
       "      <th></th>\n",
       "      <th></th>\n",
       "      <th></th>\n",
       "      <th></th>\n",
       "      <th></th>\n",
       "    </tr>\n",
       "  </thead>\n",
       "  <tbody>\n",
       "    <tr>\n",
       "      <th>Population density, inhabitants per km2</th>\n",
       "      <td>Zimbabwe</td>\n",
       "      <td>POPDEN</td>\n",
       "      <td>2021</td>\n",
       "      <td>2021</td>\n",
       "      <td>HAB</td>\n",
       "      <td>Inhabitants</td>\n",
       "      <td>0</td>\n",
       "      <td>Units</td>\n",
       "      <td>NaN</td>\n",
       "      <td>NaN</td>\n",
       "      <td>38.622610</td>\n",
       "      <td>E</td>\n",
       "      <td>Estimated value</td>\n",
       "    </tr>\n",
       "    <tr>\n",
       "      <th>Population density, inhabitants per km2</th>\n",
       "      <td>Zimbabwe</td>\n",
       "      <td>POPDEN</td>\n",
       "      <td>2020</td>\n",
       "      <td>2020</td>\n",
       "      <td>HAB</td>\n",
       "      <td>Inhabitants</td>\n",
       "      <td>0</td>\n",
       "      <td>Units</td>\n",
       "      <td>NaN</td>\n",
       "      <td>NaN</td>\n",
       "      <td>38.035950</td>\n",
       "      <td>E</td>\n",
       "      <td>Estimated value</td>\n",
       "    </tr>\n",
       "    <tr>\n",
       "      <th>Population density, inhabitants per km2</th>\n",
       "      <td>Zimbabwe</td>\n",
       "      <td>POPDEN</td>\n",
       "      <td>2019</td>\n",
       "      <td>2019</td>\n",
       "      <td>HAB</td>\n",
       "      <td>Inhabitants</td>\n",
       "      <td>0</td>\n",
       "      <td>Units</td>\n",
       "      <td>NaN</td>\n",
       "      <td>NaN</td>\n",
       "      <td>37.479460</td>\n",
       "      <td>E</td>\n",
       "      <td>Estimated value</td>\n",
       "    </tr>\n",
       "    <tr>\n",
       "      <th>Population density, inhabitants per km2</th>\n",
       "      <td>Zimbabwe</td>\n",
       "      <td>POPDEN</td>\n",
       "      <td>2018</td>\n",
       "      <td>2018</td>\n",
       "      <td>HAB</td>\n",
       "      <td>Inhabitants</td>\n",
       "      <td>0</td>\n",
       "      <td>Units</td>\n",
       "      <td>NaN</td>\n",
       "      <td>NaN</td>\n",
       "      <td>36.950590</td>\n",
       "      <td>E</td>\n",
       "      <td>Estimated value</td>\n",
       "    </tr>\n",
       "    <tr>\n",
       "      <th>Population density, inhabitants per km2</th>\n",
       "      <td>Zimbabwe</td>\n",
       "      <td>POPDEN</td>\n",
       "      <td>2017</td>\n",
       "      <td>2017</td>\n",
       "      <td>HAB</td>\n",
       "      <td>Inhabitants</td>\n",
       "      <td>0</td>\n",
       "      <td>Units</td>\n",
       "      <td>NaN</td>\n",
       "      <td>NaN</td>\n",
       "      <td>36.433100</td>\n",
       "      <td>E</td>\n",
       "      <td>Estimated value</td>\n",
       "    </tr>\n",
       "    <tr>\n",
       "      <th>...</th>\n",
       "      <td>...</td>\n",
       "      <td>...</td>\n",
       "      <td>...</td>\n",
       "      <td>...</td>\n",
       "      <td>...</td>\n",
       "      <td>...</td>\n",
       "      <td>...</td>\n",
       "      <td>...</td>\n",
       "      <td>...</td>\n",
       "      <td>...</td>\n",
       "      <td>...</td>\n",
       "      <td>...</td>\n",
       "      <td>...</td>\n",
       "    </tr>\n",
       "    <tr>\n",
       "      <th>Marine protected area, % total exclusive economic zone</th>\n",
       "      <td>ASEAN</td>\n",
       "      <td>PA_MARINE</td>\n",
       "      <td>2015</td>\n",
       "      <td>2015</td>\n",
       "      <td>PC</td>\n",
       "      <td>Percentage</td>\n",
       "      <td>0</td>\n",
       "      <td>Units</td>\n",
       "      <td>NaN</td>\n",
       "      <td>NaN</td>\n",
       "      <td>1.870484</td>\n",
       "      <td>NaN</td>\n",
       "      <td>NaN</td>\n",
       "    </tr>\n",
       "    <tr>\n",
       "      <th>Marine protected area, % total exclusive economic zone</th>\n",
       "      <td>ASEAN</td>\n",
       "      <td>PA_MARINE</td>\n",
       "      <td>2010</td>\n",
       "      <td>2010</td>\n",
       "      <td>PC</td>\n",
       "      <td>Percentage</td>\n",
       "      <td>0</td>\n",
       "      <td>Units</td>\n",
       "      <td>NaN</td>\n",
       "      <td>NaN</td>\n",
       "      <td>1.541960</td>\n",
       "      <td>NaN</td>\n",
       "      <td>NaN</td>\n",
       "    </tr>\n",
       "    <tr>\n",
       "      <th>Marine protected area, % total exclusive economic zone</th>\n",
       "      <td>ASEAN</td>\n",
       "      <td>PA_MARINE</td>\n",
       "      <td>2000</td>\n",
       "      <td>2000</td>\n",
       "      <td>PC</td>\n",
       "      <td>Percentage</td>\n",
       "      <td>0</td>\n",
       "      <td>Units</td>\n",
       "      <td>NaN</td>\n",
       "      <td>NaN</td>\n",
       "      <td>0.670072</td>\n",
       "      <td>NaN</td>\n",
       "      <td>NaN</td>\n",
       "    </tr>\n",
       "    <tr>\n",
       "      <th>Marine protected area, % total exclusive economic zone</th>\n",
       "      <td>ASEAN</td>\n",
       "      <td>PA_MARINE</td>\n",
       "      <td>1995</td>\n",
       "      <td>1995</td>\n",
       "      <td>PC</td>\n",
       "      <td>Percentage</td>\n",
       "      <td>0</td>\n",
       "      <td>Units</td>\n",
       "      <td>NaN</td>\n",
       "      <td>NaN</td>\n",
       "      <td>0.616244</td>\n",
       "      <td>NaN</td>\n",
       "      <td>NaN</td>\n",
       "    </tr>\n",
       "    <tr>\n",
       "      <th>Marine protected area, % total exclusive economic zone</th>\n",
       "      <td>ASEAN</td>\n",
       "      <td>PA_MARINE</td>\n",
       "      <td>1990</td>\n",
       "      <td>1990</td>\n",
       "      <td>PC</td>\n",
       "      <td>Percentage</td>\n",
       "      <td>0</td>\n",
       "      <td>Units</td>\n",
       "      <td>NaN</td>\n",
       "      <td>NaN</td>\n",
       "      <td>0.567411</td>\n",
       "      <td>NaN</td>\n",
       "      <td>NaN</td>\n",
       "    </tr>\n",
       "  </tbody>\n",
       "</table>\n",
       "<p>4279 rows × 13 columns</p>\n",
       "</div>"
      ],
      "text/plain": [
       "                                                     Country        VAR   YEA  \\\n",
       "Variable                                                                        \n",
       "Population density, inhabitants per km2             Zimbabwe     POPDEN  2021   \n",
       "Population density, inhabitants per km2             Zimbabwe     POPDEN  2020   \n",
       "Population density, inhabitants per km2             Zimbabwe     POPDEN  2019   \n",
       "Population density, inhabitants per km2             Zimbabwe     POPDEN  2018   \n",
       "Population density, inhabitants per km2             Zimbabwe     POPDEN  2017   \n",
       "...                                                      ...        ...   ...   \n",
       "Marine protected area, % total exclusive econom...     ASEAN  PA_MARINE  2015   \n",
       "Marine protected area, % total exclusive econom...     ASEAN  PA_MARINE  2010   \n",
       "Marine protected area, % total exclusive econom...     ASEAN  PA_MARINE  2000   \n",
       "Marine protected area, % total exclusive econom...     ASEAN  PA_MARINE  1995   \n",
       "Marine protected area, % total exclusive econom...     ASEAN  PA_MARINE  1990   \n",
       "\n",
       "                                                    Year Unit Code  \\\n",
       "Variable                                                             \n",
       "Population density, inhabitants per km2             2021       HAB   \n",
       "Population density, inhabitants per km2             2020       HAB   \n",
       "Population density, inhabitants per km2             2019       HAB   \n",
       "Population density, inhabitants per km2             2018       HAB   \n",
       "Population density, inhabitants per km2             2017       HAB   \n",
       "...                                                  ...       ...   \n",
       "Marine protected area, % total exclusive econom...  2015        PC   \n",
       "Marine protected area, % total exclusive econom...  2010        PC   \n",
       "Marine protected area, % total exclusive econom...  2000        PC   \n",
       "Marine protected area, % total exclusive econom...  1995        PC   \n",
       "Marine protected area, % total exclusive econom...  1990        PC   \n",
       "\n",
       "                                                           Unit  \\\n",
       "Variable                                                          \n",
       "Population density, inhabitants per km2             Inhabitants   \n",
       "Population density, inhabitants per km2             Inhabitants   \n",
       "Population density, inhabitants per km2             Inhabitants   \n",
       "Population density, inhabitants per km2             Inhabitants   \n",
       "Population density, inhabitants per km2             Inhabitants   \n",
       "...                                                         ...   \n",
       "Marine protected area, % total exclusive econom...   Percentage   \n",
       "Marine protected area, % total exclusive econom...   Percentage   \n",
       "Marine protected area, % total exclusive econom...   Percentage   \n",
       "Marine protected area, % total exclusive econom...   Percentage   \n",
       "Marine protected area, % total exclusive econom...   Percentage   \n",
       "\n",
       "                                                    PowerCode Code PowerCode  \\\n",
       "Variable                                                                       \n",
       "Population density, inhabitants per km2                          0     Units   \n",
       "Population density, inhabitants per km2                          0     Units   \n",
       "Population density, inhabitants per km2                          0     Units   \n",
       "Population density, inhabitants per km2                          0     Units   \n",
       "Population density, inhabitants per km2                          0     Units   \n",
       "...                                                            ...       ...   \n",
       "Marine protected area, % total exclusive econom...               0     Units   \n",
       "Marine protected area, % total exclusive econom...               0     Units   \n",
       "Marine protected area, % total exclusive econom...               0     Units   \n",
       "Marine protected area, % total exclusive econom...               0     Units   \n",
       "Marine protected area, % total exclusive econom...               0     Units   \n",
       "\n",
       "                                                   Reference Period Code  \\\n",
       "Variable                                                                   \n",
       "Population density, inhabitants per km2                              NaN   \n",
       "Population density, inhabitants per km2                              NaN   \n",
       "Population density, inhabitants per km2                              NaN   \n",
       "Population density, inhabitants per km2                              NaN   \n",
       "Population density, inhabitants per km2                              NaN   \n",
       "...                                                                  ...   \n",
       "Marine protected area, % total exclusive econom...                   NaN   \n",
       "Marine protected area, % total exclusive econom...                   NaN   \n",
       "Marine protected area, % total exclusive econom...                   NaN   \n",
       "Marine protected area, % total exclusive econom...                   NaN   \n",
       "Marine protected area, % total exclusive econom...                   NaN   \n",
       "\n",
       "                                                   Reference Period  \\\n",
       "Variable                                                              \n",
       "Population density, inhabitants per km2                         NaN   \n",
       "Population density, inhabitants per km2                         NaN   \n",
       "Population density, inhabitants per km2                         NaN   \n",
       "Population density, inhabitants per km2                         NaN   \n",
       "Population density, inhabitants per km2                         NaN   \n",
       "...                                                             ...   \n",
       "Marine protected area, % total exclusive econom...              NaN   \n",
       "Marine protected area, % total exclusive econom...              NaN   \n",
       "Marine protected area, % total exclusive econom...              NaN   \n",
       "Marine protected area, % total exclusive econom...              NaN   \n",
       "Marine protected area, % total exclusive econom...              NaN   \n",
       "\n",
       "                                                        Value Flag Codes  \\\n",
       "Variable                                                                   \n",
       "Population density, inhabitants per km2             38.622610          E   \n",
       "Population density, inhabitants per km2             38.035950          E   \n",
       "Population density, inhabitants per km2             37.479460          E   \n",
       "Population density, inhabitants per km2             36.950590          E   \n",
       "Population density, inhabitants per km2             36.433100          E   \n",
       "...                                                       ...        ...   \n",
       "Marine protected area, % total exclusive econom...   1.870484        NaN   \n",
       "Marine protected area, % total exclusive econom...   1.541960        NaN   \n",
       "Marine protected area, % total exclusive econom...   0.670072        NaN   \n",
       "Marine protected area, % total exclusive econom...   0.616244        NaN   \n",
       "Marine protected area, % total exclusive econom...   0.567411        NaN   \n",
       "\n",
       "                                                              Flags  \n",
       "Variable                                                             \n",
       "Population density, inhabitants per km2             Estimated value  \n",
       "Population density, inhabitants per km2             Estimated value  \n",
       "Population density, inhabitants per km2             Estimated value  \n",
       "Population density, inhabitants per km2             Estimated value  \n",
       "Population density, inhabitants per km2             Estimated value  \n",
       "...                                                             ...  \n",
       "Marine protected area, % total exclusive econom...              NaN  \n",
       "Marine protected area, % total exclusive econom...              NaN  \n",
       "Marine protected area, % total exclusive econom...              NaN  \n",
       "Marine protected area, % total exclusive econom...              NaN  \n",
       "Marine protected area, % total exclusive econom...              NaN  \n",
       "\n",
       "[4279 rows x 13 columns]"
      ]
     },
     "execution_count": 19,
     "metadata": {},
     "output_type": "execute_result"
    }
   ],
   "source": [
    "green.sort_values([ \"Country\", \"Value\"], ascending =[False, False ])"
   ]
  },
  {
   "cell_type": "code",
   "execution_count": 20,
   "id": "6160a4f1",
   "metadata": {
    "scrolled": true
   },
   "outputs": [
    {
     "name": "stdout",
     "output_type": "stream",
     "text": [
      "<bound method NDFrame.head of                      VAR   YEA  Year Unit Code         Unit  PowerCode Code  \\\n",
      "Country                                                                       \n",
      "Bulgaria  PA_TERRESTRIAL  1990  1990        PC   Percentage               0   \n",
      "Bulgaria  PA_TERRESTRIAL  1995  1995        PC   Percentage               0   \n",
      "Bulgaria  PA_TERRESTRIAL  2000  2000        PC   Percentage               0   \n",
      "Bulgaria  PA_TERRESTRIAL  2010  2010        PC   Percentage               0   \n",
      "Bulgaria  PA_TERRESTRIAL  2015  2015        PC   Percentage               0   \n",
      "...                  ...   ...   ...       ...          ...             ...   \n",
      "Monaco            POPDEN  2017  2017       HAB  Inhabitants               0   \n",
      "Monaco            POPDEN  2018  2018       HAB  Inhabitants               0   \n",
      "Monaco            POPDEN  2019  2019       HAB  Inhabitants               0   \n",
      "Monaco            POPDEN  2020  2020       HAB  Inhabitants               0   \n",
      "Monaco            POPDEN  2021  2021       HAB  Inhabitants               0   \n",
      "\n",
      "         PowerCode Reference Period Code Reference Period       Value  \\\n",
      "Country                                                                 \n",
      "Bulgaria     Units                   NaN              NaN    2.343140   \n",
      "Bulgaria     Units                   NaN              NaN    4.654114   \n",
      "Bulgaria     Units                   NaN              NaN    4.866177   \n",
      "Bulgaria     Units                   NaN              NaN   40.671747   \n",
      "Bulgaria     Units                   NaN              NaN   40.870565   \n",
      "...            ...                   ...              ...         ...   \n",
      "Monaco       Units                   NaN              NaN  512.439900   \n",
      "Monaco       Units                   NaN              NaN  516.310700   \n",
      "Monaco       Units                   NaN              NaN  520.114700   \n",
      "Monaco       Units                   NaN              NaN  523.812100   \n",
      "Monaco       Units                   NaN              NaN  527.496000   \n",
      "\n",
      "         Flag Codes            Flags  \n",
      "Country                               \n",
      "Bulgaria        NaN              NaN  \n",
      "Bulgaria        NaN              NaN  \n",
      "Bulgaria        NaN              NaN  \n",
      "Bulgaria        NaN              NaN  \n",
      "Bulgaria        NaN              NaN  \n",
      "...             ...              ...  \n",
      "Monaco            E  Estimated value  \n",
      "Monaco            E  Estimated value  \n",
      "Monaco            E  Estimated value  \n",
      "Monaco            E  Estimated value  \n",
      "Monaco            E  Estimated value  \n",
      "\n",
      "[4279 rows x 12 columns]>\n"
     ]
    }
   ],
   "source": [
    "green_country = green.set_index(\"Country\")\n",
    "print(green_country.head)"
   ]
  },
  {
   "cell_type": "code",
   "execution_count": 21,
   "id": "28c673f7",
   "metadata": {
    "scrolled": true
   },
   "outputs": [
    {
     "name": "stdout",
     "output_type": "stream",
     "text": [
      "                    VAR   YEA  Year Unit Code        Unit  PowerCode Code  \\\n",
      "Country                                                                     \n",
      "Ireland  PA_TERRESTRIAL  1990  1990        PC  Percentage               0   \n",
      "Ireland  PA_TERRESTRIAL  1995  1995        PC  Percentage               0   \n",
      "Ireland  PA_TERRESTRIAL  2000  2000        PC  Percentage               0   \n",
      "Ireland  PA_TERRESTRIAL  2010  2010        PC  Percentage               0   \n",
      "Ireland  PA_TERRESTRIAL  2015  2015        PC  Percentage               0   \n",
      "\n",
      "        PowerCode Reference Period Code Reference Period      Value  \\\n",
      "Country                                                               \n",
      "Ireland     Units                   NaN              NaN   9.830447   \n",
      "Ireland     Units                   NaN              NaN  10.327606   \n",
      "Ireland     Units                   NaN              NaN  10.534716   \n",
      "Ireland     Units                   NaN              NaN  13.660140   \n",
      "Ireland     Units                   NaN              NaN  13.677706   \n",
      "\n",
      "        Flag Codes Flags  \n",
      "Country                   \n",
      "Ireland        NaN   NaN  \n",
      "Ireland        NaN   NaN  \n",
      "Ireland        NaN   NaN  \n",
      "Ireland        NaN   NaN  \n",
      "Ireland        NaN   NaN  \n"
     ]
    }
   ],
   "source": [
    "green_country_ireland = green_country.loc[[\"Ireland\"]]\n",
    "print(green_country_ireland.head())"
   ]
  },
  {
   "cell_type": "code",
   "execution_count": 22,
   "id": "089ebc3d",
   "metadata": {
    "scrolled": false
   },
   "outputs": [
    {
     "data": {
      "text/plain": [
       "Text(0.5, 1.0, 'Green Growth in Ireland')"
      ]
     },
     "execution_count": 22,
     "metadata": {},
     "output_type": "execute_result"
    },
    {
     "data": {
      "image/png": "[encoded data removed]",
      "text/plain": [
       "<Figure size 720x504 with 1 Axes>"
      ]
     },
     "metadata": {
      "needs_background": "light"
     },
     "output_type": "display_data"
    }
   ],
   "source": [
    "fig, ax = plt.subplots(figsize=(10,7))\n",
    "sns.barplot(data=green_country_ireland, y='Value', x='Year', hue='VAR')\n",
    "plt.title('Green Growth in Ireland')"
   ]
  },
  {
   "cell_type": "code",
   "execution_count": 23,
   "id": "719d08a9",
   "metadata": {
    "scrolled": false
   },
   "outputs": [
    {
     "data": {
      "text/plain": [
       "Text(0.5, 1.0, 'Global Green Growth')"
      ]
     },
     "execution_count": 23,
     "metadata": {},
     "output_type": "execute_result"
    },
    {
     "data": {
      "image/png": "[encoded data removed]",
      "text/plain": [
       "<Figure size 720x504 with 1 Axes>"
      ]
     },
     "metadata": {
      "needs_background": "light"
     },
     "output_type": "display_data"
    }
   ],
   "source": [
    "fig, ax = plt.subplots(figsize=(10,7))\n",
    "sns.barplot(data=green, y='Value', x='Year', hue='VAR')\n",
    "plt.title('Global Green Growth')"
   ]
  },
  {
   "cell_type": "markdown",
   "id": "40d8e1ce",
   "metadata": {},
   "source": [
    "It is interesting that globally there was a decline in population density in 2010, however, in Ireland there was a jump in 2010. Also, in terms of terrestrial and marine protection, the protected areas have not grown much in size."
   ]
  },
  {
   "cell_type": "markdown",
   "id": "9536bc4f",
   "metadata": {},
   "source": [
    "Economic Outlook:\n",
    "1. Getting the dataset via API\n",
    "2. Converting it to a DataFrame\n",
    "3. Reviewing the data"
   ]
  },
  {
   "cell_type": "code",
   "execution_count": 24,
   "id": "033e025e",
   "metadata": {
    "scrolled": true
   },
   "outputs": [
    {
     "name": "stdout",
     "output_type": "stream",
     "text": [
      "  LOCATION    Country     VARIABLE                                Variable  \\\n",
      "0      AUS  Australia  GDPV_ANNPCT  Gross domestic product, volume, growth   \n",
      "1      AUS  Australia  GDPV_ANNPCT  Gross domestic product, volume, growth   \n",
      "2      AUS  Australia  GDPV_ANNPCT  Gross domestic product, volume, growth   \n",
      "3      AUS  Australia  GDPV_ANNPCT  Gross domestic product, volume, growth   \n",
      "4      AUS  Australia  GDPV_ANNPCT  Gross domestic product, volume, growth   \n",
      "\n",
      "  FREQUENCY Frequency  TIME  Time Unit Code        Unit  PowerCode Code  \\\n",
      "0         A    Annual  2003  2003        PC  Percentage               0   \n",
      "1         A    Annual  2004  2004        PC  Percentage               0   \n",
      "2         A    Annual  2005  2005        PC  Percentage               0   \n",
      "3         A    Annual  2006  2006        PC  Percentage               0   \n",
      "4         A    Annual  2007  2007        PC  Percentage               0   \n",
      "\n",
      "  PowerCode Reference Period Code Reference Period     Value  Flag Codes  \\\n",
      "0     Units               2018_19          2018-19  2.921406         NaN   \n",
      "1     Units               2018_19          2018-19  3.970002         NaN   \n",
      "2     Units               2018_19          2018-19  3.060089         NaN   \n",
      "3     Units               2018_19          2018-19  2.756867         NaN   \n",
      "4     Units               2018_19          2018-19  4.429282         NaN   \n",
      "\n",
      "   Flags  \n",
      "0    NaN  \n",
      "1    NaN  \n",
      "2    NaN  \n",
      "3    NaN  \n",
      "4    NaN  \n"
     ]
    }
   ],
   "source": [
    "def get_from_oecd(sdmx_query):\n",
    "    return pd.read_csv(\n",
    "        f\"https://stats.oecd.org/SDMX-JSON/data/{sdmx_query}?contentType=csv&startTime=2003&endTime=2023&pid=9b237e1c-7f76-41b7-b7bc-5fa6fbe125df\"\n",
    "    )\n",
    "economic_outlook =get_from_oecd('EO110_INTERNET/AUS+AUT+BEL+CAN+CHL+COL+CRI+CZE+DNK+EST+FIN+FRA+DEU+GRC+HUN+ISL+IRL+ISR+ITA+JPN+KOR+LVA+LTU+LUX+MEX+NLD+NZL+NOR+POL+PRT+SVK+SVN+ESP+SWE+CHE+TUR+GBR+USA+EA17+NAT+OTO+WLD+NMEC+ARG+BRA+BGR+CHN+IND+IDN+ROU+RUS+ZAF+GRPS+OPEC+PAC+EUR+SOV+DAE+ROW+RWD+OOP+OIL.GDPV_ANNPCT.A/all')\n",
    "\n",
    "print(economic_outlook.head())"
   ]
  },
  {
   "cell_type": "code",
   "execution_count": 25,
   "id": "86c008ba",
   "metadata": {
    "scrolled": true
   },
   "outputs": [
    {
     "data": {
      "text/plain": [
       "Index(['LOCATION', 'Country', 'VARIABLE', 'Variable', 'FREQUENCY', 'Frequency',\n",
       "       'TIME', 'Time', 'Unit Code', 'Unit', 'PowerCode Code', 'PowerCode',\n",
       "       'Reference Period Code', 'Reference Period', 'Value', 'Flag Codes',\n",
       "       'Flags'],\n",
       "      dtype='object')"
      ]
     },
     "execution_count": 25,
     "metadata": {},
     "output_type": "execute_result"
    }
   ],
   "source": [
    "economic_outlook.columns"
   ]
  },
  {
   "cell_type": "code",
   "execution_count": 26,
   "id": "52b90db2",
   "metadata": {},
   "outputs": [
    {
     "data": {
      "text/html": [
       "<div>\n",
       "<style scoped>\n",
       "    .dataframe tbody tr th:only-of-type {\n",
       "        vertical-align: middle;\n",
       "    }\n",
       "\n",
       "    .dataframe tbody tr th {\n",
       "        vertical-align: top;\n",
       "    }\n",
       "\n",
       "    .dataframe thead th {\n",
       "        text-align: right;\n",
       "    }\n",
       "</style>\n",
       "<table border=\"1\" class=\"dataframe\">\n",
       "  <thead>\n",
       "    <tr style=\"text-align: right;\">\n",
       "      <th></th>\n",
       "      <th>TIME</th>\n",
       "      <th>Time</th>\n",
       "      <th>PowerCode Code</th>\n",
       "      <th>Value</th>\n",
       "      <th>Flag Codes</th>\n",
       "      <th>Flags</th>\n",
       "    </tr>\n",
       "  </thead>\n",
       "  <tbody>\n",
       "    <tr>\n",
       "      <th>count</th>\n",
       "      <td>1134.000000</td>\n",
       "      <td>1134.000000</td>\n",
       "      <td>1134.0</td>\n",
       "      <td>1134.000000</td>\n",
       "      <td>0.0</td>\n",
       "      <td>0.0</td>\n",
       "    </tr>\n",
       "    <tr>\n",
       "      <th>mean</th>\n",
       "      <td>2013.000000</td>\n",
       "      <td>2013.000000</td>\n",
       "      <td>0.0</td>\n",
       "      <td>2.782269</td>\n",
       "      <td>NaN</td>\n",
       "      <td>NaN</td>\n",
       "    </tr>\n",
       "    <tr>\n",
       "      <th>std</th>\n",
       "      <td>6.057972</td>\n",
       "      <td>6.057972</td>\n",
       "      <td>0.0</td>\n",
       "      <td>3.525247</td>\n",
       "      <td>NaN</td>\n",
       "      <td>NaN</td>\n",
       "    </tr>\n",
       "    <tr>\n",
       "      <th>min</th>\n",
       "      <td>2003.000000</td>\n",
       "      <td>2003.000000</td>\n",
       "      <td>0.0</td>\n",
       "      <td>-14.838611</td>\n",
       "      <td>NaN</td>\n",
       "      <td>NaN</td>\n",
       "    </tr>\n",
       "    <tr>\n",
       "      <th>25%</th>\n",
       "      <td>2008.000000</td>\n",
       "      <td>2008.000000</td>\n",
       "      <td>0.0</td>\n",
       "      <td>1.460152</td>\n",
       "      <td>NaN</td>\n",
       "      <td>NaN</td>\n",
       "    </tr>\n",
       "    <tr>\n",
       "      <th>50%</th>\n",
       "      <td>2013.000000</td>\n",
       "      <td>2013.000000</td>\n",
       "      <td>0.0</td>\n",
       "      <td>2.903394</td>\n",
       "      <td>NaN</td>\n",
       "      <td>NaN</td>\n",
       "    </tr>\n",
       "    <tr>\n",
       "      <th>75%</th>\n",
       "      <td>2018.000000</td>\n",
       "      <td>2018.000000</td>\n",
       "      <td>0.0</td>\n",
       "      <td>4.668135</td>\n",
       "      <td>NaN</td>\n",
       "      <td>NaN</td>\n",
       "    </tr>\n",
       "    <tr>\n",
       "      <th>max</th>\n",
       "      <td>2023.000000</td>\n",
       "      <td>2023.000000</td>\n",
       "      <td>0.0</td>\n",
       "      <td>25.358044</td>\n",
       "      <td>NaN</td>\n",
       "      <td>NaN</td>\n",
       "    </tr>\n",
       "  </tbody>\n",
       "</table>\n",
       "</div>"
      ],
      "text/plain": [
       "              TIME         Time  PowerCode Code        Value  Flag Codes  \\\n",
       "count  1134.000000  1134.000000          1134.0  1134.000000         0.0   \n",
       "mean   2013.000000  2013.000000             0.0     2.782269         NaN   \n",
       "std       6.057972     6.057972             0.0     3.525247         NaN   \n",
       "min    2003.000000  2003.000000             0.0   -14.838611         NaN   \n",
       "25%    2008.000000  2008.000000             0.0     1.460152         NaN   \n",
       "50%    2013.000000  2013.000000             0.0     2.903394         NaN   \n",
       "75%    2018.000000  2018.000000             0.0     4.668135         NaN   \n",
       "max    2023.000000  2023.000000             0.0    25.358044         NaN   \n",
       "\n",
       "       Flags  \n",
       "count    0.0  \n",
       "mean     NaN  \n",
       "std      NaN  \n",
       "min      NaN  \n",
       "25%      NaN  \n",
       "50%      NaN  \n",
       "75%      NaN  \n",
       "max      NaN  "
      ]
     },
     "execution_count": 26,
     "metadata": {},
     "output_type": "execute_result"
    }
   ],
   "source": [
    "economic_outlook.describe()"
   ]
  },
  {
   "cell_type": "code",
   "execution_count": 27,
   "id": "85e0909e",
   "metadata": {},
   "outputs": [
    {
     "name": "stdout",
     "output_type": "stream",
     "text": [
      "<class 'pandas.core.frame.DataFrame'>\n",
      "RangeIndex: 1134 entries, 0 to 1133\n",
      "Data columns (total 17 columns):\n",
      " #   Column                 Non-Null Count  Dtype  \n",
      "---  ------                 --------------  -----  \n",
      " 0   LOCATION               1134 non-null   object \n",
      " 1   Country                1134 non-null   object \n",
      " 2   VARIABLE               1134 non-null   object \n",
      " 3   Variable               1134 non-null   object \n",
      " 4   FREQUENCY              1134 non-null   object \n",
      " 5   Frequency              1134 non-null   object \n",
      " 6   TIME                   1134 non-null   int64  \n",
      " 7   Time                   1134 non-null   int64  \n",
      " 8   Unit Code              1134 non-null   object \n",
      " 9   Unit                   1134 non-null   object \n",
      " 10  PowerCode Code         1134 non-null   int64  \n",
      " 11  PowerCode              1134 non-null   object \n",
      " 12  Reference Period Code  1134 non-null   object \n",
      " 13  Reference Period       1134 non-null   object \n",
      " 14  Value                  1134 non-null   float64\n",
      " 15  Flag Codes             0 non-null      float64\n",
      " 16  Flags                  0 non-null      float64\n",
      "dtypes: float64(3), int64(3), object(11)\n",
      "memory usage: 150.7+ KB\n"
     ]
    }
   ],
   "source": [
    "economic_outlook.info()"
   ]
  },
  {
   "cell_type": "code",
   "execution_count": 28,
   "id": "90c3e067",
   "metadata": {},
   "outputs": [
    {
     "name": "stdout",
     "output_type": "stream",
     "text": [
      "['Gross domestic product, volume, growth']\n"
     ]
    }
   ],
   "source": [
    "economic_outlook_variable = economic_outlook[\"Variable\"].unique()\n",
    "print(economic_outlook_variable)"
   ]
  },
  {
   "cell_type": "code",
   "execution_count": 29,
   "id": "109d1ddd",
   "metadata": {
    "scrolled": true
   },
   "outputs": [
    {
     "name": "stdout",
     "output_type": "stream",
     "text": [
      "Country\n",
      "Argentina                       21\n",
      "Portugal                        21\n",
      "Latvia                          21\n",
      "Lithuania                       21\n",
      "Luxembourg                      21\n",
      "Mexico                          21\n",
      "Netherlands                     21\n",
      "New Zealand                     21\n",
      "Non-OECD Economies              21\n",
      "Norway                          21\n",
      "OECD - Total                    21\n",
      "Other oil producers             21\n",
      "Poland                          21\n",
      "Rest of the World               21\n",
      "Australia                       21\n",
      "Romania                         21\n",
      "Russia                          21\n",
      "Slovak Republic                 21\n",
      "Slovenia                        21\n",
      "South Africa                    21\n",
      "Spain                           21\n",
      "Sweden                          21\n",
      "Switzerland                     21\n",
      "Turkey                          21\n",
      "United Kingdom                  21\n",
      "United States                   21\n",
      "Korea                           21\n",
      "Japan                           21\n",
      "Italy                           21\n",
      "Israel                          21\n",
      "Austria                         21\n",
      "Belgium                         21\n",
      "Brazil                          21\n",
      "Bulgaria                        21\n",
      "Canada                          21\n",
      "Chile                           21\n",
      "China (People's Republic of)    21\n",
      "Colombia                        21\n",
      "Costa Rica                      21\n",
      "Czech Republic                  21\n",
      "Denmark                         21\n",
      "Dynamic Asian Economies         21\n",
      "Estonia                         21\n",
      "Euro area (17 countries)        21\n",
      "Finland                         21\n",
      "France                          21\n",
      "Germany                         21\n",
      "Greece                          21\n",
      "Hungary                         21\n",
      "Iceland                         21\n",
      "India                           21\n",
      "Indonesia                       21\n",
      "Ireland                         21\n",
      "World                           21\n",
      "Name: Variable, dtype: int64\n"
     ]
    }
   ],
   "source": [
    "e_variables= economic_outlook.groupby(['Country']).count()['Variable'].sort_values(ascending=False)\n",
    "print(e_variables)"
   ]
  },
  {
   "cell_type": "code",
   "execution_count": 30,
   "id": "4750966f",
   "metadata": {
    "scrolled": true
   },
   "outputs": [
    {
     "name": "stdout",
     "output_type": "stream",
     "text": [
      "          LOCATION     VARIABLE                                Variable  \\\n",
      "Country                                                                   \n",
      "Australia      AUS  GDPV_ANNPCT  Gross domestic product, volume, growth   \n",
      "Australia      AUS  GDPV_ANNPCT  Gross domestic product, volume, growth   \n",
      "Australia      AUS  GDPV_ANNPCT  Gross domestic product, volume, growth   \n",
      "Australia      AUS  GDPV_ANNPCT  Gross domestic product, volume, growth   \n",
      "Australia      AUS  GDPV_ANNPCT  Gross domestic product, volume, growth   \n",
      "\n",
      "          FREQUENCY Frequency  TIME  Time Unit Code        Unit  \\\n",
      "Country                                                           \n",
      "Australia         A    Annual  2003  2003        PC  Percentage   \n",
      "Australia         A    Annual  2004  2004        PC  Percentage   \n",
      "Australia         A    Annual  2005  2005        PC  Percentage   \n",
      "Australia         A    Annual  2006  2006        PC  Percentage   \n",
      "Australia         A    Annual  2007  2007        PC  Percentage   \n",
      "\n",
      "           PowerCode Code PowerCode Reference Period Code Reference Period  \\\n",
      "Country                                                                      \n",
      "Australia               0     Units               2018_19          2018-19   \n",
      "Australia               0     Units               2018_19          2018-19   \n",
      "Australia               0     Units               2018_19          2018-19   \n",
      "Australia               0     Units               2018_19          2018-19   \n",
      "Australia               0     Units               2018_19          2018-19   \n",
      "\n",
      "              Value  Flag Codes  Flags  \n",
      "Country                                 \n",
      "Australia  2.921406         NaN    NaN  \n",
      "Australia  3.970002         NaN    NaN  \n",
      "Australia  3.060089         NaN    NaN  \n",
      "Australia  2.756867         NaN    NaN  \n",
      "Australia  4.429282         NaN    NaN  \n"
     ]
    }
   ],
   "source": [
    "economic_countries = economic_outlook.set_index(\"Country\")\n",
    "print(economic_countries.head())"
   ]
  },
  {
   "cell_type": "code",
   "execution_count": 31,
   "id": "1be86eaa",
   "metadata": {
    "scrolled": true
   },
   "outputs": [
    {
     "name": "stdout",
     "output_type": "stream",
     "text": [
      "['Percentage']\n"
     ]
    }
   ],
   "source": [
    "economic_countries_variable= economic_countries[\"Unit\"].unique()\n",
    "print(economic_countries_variable)"
   ]
  },
  {
   "cell_type": "code",
   "execution_count": 32,
   "id": "038e7801",
   "metadata": {
    "scrolled": true
   },
   "outputs": [
    {
     "name": "stdout",
     "output_type": "stream",
     "text": [
      "        LOCATION     VARIABLE                                Variable  \\\n",
      "Country                                                                 \n",
      "Ireland      IRL  GDPV_ANNPCT  Gross domestic product, volume, growth   \n",
      "Ireland      IRL  GDPV_ANNPCT  Gross domestic product, volume, growth   \n",
      "Ireland      IRL  GDPV_ANNPCT  Gross domestic product, volume, growth   \n",
      "Ireland      IRL  GDPV_ANNPCT  Gross domestic product, volume, growth   \n",
      "Ireland      IRL  GDPV_ANNPCT  Gross domestic product, volume, growth   \n",
      "\n",
      "        FREQUENCY Frequency  TIME  Time Unit Code        Unit  PowerCode Code  \\\n",
      "Country                                                                         \n",
      "Ireland         A    Annual  2003  2003        PC  Percentage               0   \n",
      "Ireland         A    Annual  2004  2004        PC  Percentage               0   \n",
      "Ireland         A    Annual  2005  2005        PC  Percentage               0   \n",
      "Ireland         A    Annual  2006  2006        PC  Percentage               0   \n",
      "Ireland         A    Annual  2007  2007        PC  Percentage               0   \n",
      "\n",
      "        PowerCode Reference Period Code Reference Period     Value  \\\n",
      "Country                                                              \n",
      "Ireland     Units                  2019             2019  3.555808   \n",
      "Ireland     Units                  2019             2019  6.404289   \n",
      "Ireland     Units                  2019             2019  5.877199   \n",
      "Ireland     Units                  2019             2019  5.061423   \n",
      "Ireland     Units                  2019             2019  5.309162   \n",
      "\n",
      "         Flag Codes  Flags  \n",
      "Country                     \n",
      "Ireland         NaN    NaN  \n",
      "Ireland         NaN    NaN  \n",
      "Ireland         NaN    NaN  \n",
      "Ireland         NaN    NaN  \n",
      "Ireland         NaN    NaN  \n"
     ]
    }
   ],
   "source": [
    "economic_ireland = economic_outlook.set_index(\"Country\").loc[\"Ireland\"]\n",
    "print(economic_ireland.head())"
   ]
  },
  {
   "cell_type": "code",
   "execution_count": 33,
   "id": "a954e03d",
   "metadata": {
    "scrolled": false
   },
   "outputs": [
    {
     "data": {
      "text/plain": [
       "Text(0.5, 1.0, 'GDP in Ireland')"
      ]
     },
     "execution_count": 33,
     "metadata": {},
     "output_type": "execute_result"
    },
    {
     "data": {
      "image/png": "[encoded data removed]",
      "text/plain": [
       "<Figure size 720x360 with 1 Axes>"
      ]
     },
     "metadata": {
      "needs_background": "light"
     },
     "output_type": "display_data"
    }
   ],
   "source": [
    "fig, ax = plt.subplots(figsize=(10,5))\n",
    "sns.barplot(data=economic_ireland, y='Value', x='Time', hue='Variable')\n",
    "plt.title('GDP in Ireland')"
   ]
  },
  {
   "cell_type": "code",
   "execution_count": 34,
   "id": "964f00f7",
   "metadata": {
    "scrolled": false
   },
   "outputs": [
    {
     "data": {
      "text/plain": [
       "Text(0.5, 1.0, 'Global GDP')"
      ]
     },
     "execution_count": 34,
     "metadata": {},
     "output_type": "execute_result"
    },
    {
     "data": {
      "image/png": "[encoded data removed]",
      "text/plain": [
       "<Figure size 720x360 with 1 Axes>"
      ]
     },
     "metadata": {
      "needs_background": "light"
     },
     "output_type": "display_data"
    }
   ],
   "source": [
    "fig, ax = plt.subplots(figsize=(10,5))\n",
    "sns.barplot(data=economic_countries, y='Value', x='Time', hue='Variable')\n",
    "plt.title('Global GDP')"
   ]
  },
  {
   "cell_type": "markdown",
   "id": "98bf1e72",
   "metadata": {},
   "source": [
    "The declines in GDP point to the 2008 economic crisis and the beginning of the COVID pandemic in 2020. Interesting to note that the 2020 pandemic didn't seem to impact the Irish GDP that much."
   ]
  },
  {
   "cell_type": "code",
   "execution_count": 35,
   "id": "8d34573f",
   "metadata": {
    "scrolled": false
   },
   "outputs": [
    {
     "data": {
      "text/plain": [
       "<AxesSubplot:xlabel='Time', ylabel='Value'>"
      ]
     },
     "execution_count": 35,
     "metadata": {},
     "output_type": "execute_result"
    },
    {
     "data": {
      "image/png": "[encoded data removed]",
      "text/plain": [
       "<Figure size 432x288 with 1 Axes>"
      ]
     },
     "metadata": {
      "needs_background": "light"
     },
     "output_type": "display_data"
    }
   ],
   "source": [
    "economic_countries.plot.scatter('Time','Value', s=4)"
   ]
  },
  {
   "cell_type": "markdown",
   "id": "2aa77171",
   "metadata": {},
   "source": [
    "Historical population:\n",
    "1. Importing data\n",
    "2. Converting it to a DataFrame\n",
    "3. Reviewing data"
   ]
  },
  {
   "cell_type": "code",
   "execution_count": 36,
   "id": "2df2138a",
   "metadata": {
    "scrolled": true
   },
   "outputs": [
    {
     "data": {
      "text/html": [
       "<div>\n",
       "<style scoped>\n",
       "    .dataframe tbody tr th:only-of-type {\n",
       "        vertical-align: middle;\n",
       "    }\n",
       "\n",
       "    .dataframe tbody tr th {\n",
       "        vertical-align: top;\n",
       "    }\n",
       "\n",
       "    .dataframe thead th {\n",
       "        text-align: right;\n",
       "    }\n",
       "</style>\n",
       "<table border=\"1\" class=\"dataframe\">\n",
       "  <thead>\n",
       "    <tr style=\"text-align: right;\">\n",
       "      <th></th>\n",
       "      <th>Country</th>\n",
       "      <th>SEX</th>\n",
       "      <th>Sex</th>\n",
       "      <th>AGE</th>\n",
       "      <th>Age</th>\n",
       "      <th>TIME</th>\n",
       "      <th>Time</th>\n",
       "      <th>Value</th>\n",
       "      <th>Flag Codes</th>\n",
       "      <th>Flags</th>\n",
       "    </tr>\n",
       "    <tr>\n",
       "      <th>LOCATION</th>\n",
       "      <th></th>\n",
       "      <th></th>\n",
       "      <th></th>\n",
       "      <th></th>\n",
       "      <th></th>\n",
       "      <th></th>\n",
       "      <th></th>\n",
       "      <th></th>\n",
       "      <th></th>\n",
       "      <th></th>\n",
       "    </tr>\n",
       "  </thead>\n",
       "  <tbody>\n",
       "    <tr>\n",
       "      <th>AUS</th>\n",
       "      <td>Australia</td>\n",
       "      <td>W</td>\n",
       "      <td>Women</td>\n",
       "      <td>TOTAL</td>\n",
       "      <td>Total</td>\n",
       "      <td>2005</td>\n",
       "      <td>2005</td>\n",
       "      <td>10157211.0</td>\n",
       "      <td>NaN</td>\n",
       "      <td>NaN</td>\n",
       "    </tr>\n",
       "    <tr>\n",
       "      <th>AUS</th>\n",
       "      <td>Australia</td>\n",
       "      <td>W</td>\n",
       "      <td>Women</td>\n",
       "      <td>TOTAL</td>\n",
       "      <td>Total</td>\n",
       "      <td>2006</td>\n",
       "      <td>2006</td>\n",
       "      <td>10291542.0</td>\n",
       "      <td>NaN</td>\n",
       "      <td>NaN</td>\n",
       "    </tr>\n",
       "    <tr>\n",
       "      <th>AUS</th>\n",
       "      <td>Australia</td>\n",
       "      <td>W</td>\n",
       "      <td>Women</td>\n",
       "      <td>TOTAL</td>\n",
       "      <td>Total</td>\n",
       "      <td>2007</td>\n",
       "      <td>2007</td>\n",
       "      <td>10473986.0</td>\n",
       "      <td>NaN</td>\n",
       "      <td>NaN</td>\n",
       "    </tr>\n",
       "    <tr>\n",
       "      <th>AUS</th>\n",
       "      <td>Australia</td>\n",
       "      <td>W</td>\n",
       "      <td>Women</td>\n",
       "      <td>TOTAL</td>\n",
       "      <td>Total</td>\n",
       "      <td>2008</td>\n",
       "      <td>2008</td>\n",
       "      <td>10677154.0</td>\n",
       "      <td>NaN</td>\n",
       "      <td>NaN</td>\n",
       "    </tr>\n",
       "    <tr>\n",
       "      <th>AUS</th>\n",
       "      <td>Australia</td>\n",
       "      <td>W</td>\n",
       "      <td>Women</td>\n",
       "      <td>TOTAL</td>\n",
       "      <td>Total</td>\n",
       "      <td>2009</td>\n",
       "      <td>2009</td>\n",
       "      <td>10890856.0</td>\n",
       "      <td>NaN</td>\n",
       "      <td>NaN</td>\n",
       "    </tr>\n",
       "  </tbody>\n",
       "</table>\n",
       "</div>"
      ],
      "text/plain": [
       "            Country SEX    Sex    AGE    Age  TIME  Time       Value  \\\n",
       "LOCATION                                                               \n",
       "AUS       Australia   W  Women  TOTAL  Total  2005  2005  10157211.0   \n",
       "AUS       Australia   W  Women  TOTAL  Total  2006  2006  10291542.0   \n",
       "AUS       Australia   W  Women  TOTAL  Total  2007  2007  10473986.0   \n",
       "AUS       Australia   W  Women  TOTAL  Total  2008  2008  10677154.0   \n",
       "AUS       Australia   W  Women  TOTAL  Total  2009  2009  10890856.0   \n",
       "\n",
       "          Flag Codes  Flags  \n",
       "LOCATION                     \n",
       "AUS              NaN    NaN  \n",
       "AUS              NaN    NaN  \n",
       "AUS              NaN    NaN  \n",
       "AUS              NaN    NaN  \n",
       "AUS              NaN    NaN  "
      ]
     },
     "execution_count": 36,
     "metadata": {},
     "output_type": "execute_result"
    }
   ],
   "source": [
    "historical_pop = pd.read_csv(\"HISTPOP_OECD.csv\", index_col = 0)\n",
    "historical_pop.head()"
   ]
  },
  {
   "cell_type": "code",
   "execution_count": 37,
   "id": "1ffac00f",
   "metadata": {},
   "outputs": [
    {
     "data": {
      "text/html": [
       "<div>\n",
       "<style scoped>\n",
       "    .dataframe tbody tr th:only-of-type {\n",
       "        vertical-align: middle;\n",
       "    }\n",
       "\n",
       "    .dataframe tbody tr th {\n",
       "        vertical-align: top;\n",
       "    }\n",
       "\n",
       "    .dataframe thead th {\n",
       "        text-align: right;\n",
       "    }\n",
       "</style>\n",
       "<table border=\"1\" class=\"dataframe\">\n",
       "  <thead>\n",
       "    <tr style=\"text-align: right;\">\n",
       "      <th></th>\n",
       "      <th>TIME</th>\n",
       "      <th>Time</th>\n",
       "      <th>Value</th>\n",
       "      <th>Flag Codes</th>\n",
       "      <th>Flags</th>\n",
       "    </tr>\n",
       "  </thead>\n",
       "  <tbody>\n",
       "    <tr>\n",
       "      <th>count</th>\n",
       "      <td>81840.0000</td>\n",
       "      <td>81840.0000</td>\n",
       "      <td>8.184000e+04</td>\n",
       "      <td>0.0</td>\n",
       "      <td>0.0</td>\n",
       "    </tr>\n",
       "    <tr>\n",
       "      <th>mean</th>\n",
       "      <td>2012.5000</td>\n",
       "      <td>2012.5000</td>\n",
       "      <td>2.725835e+07</td>\n",
       "      <td>NaN</td>\n",
       "      <td>NaN</td>\n",
       "    </tr>\n",
       "    <tr>\n",
       "      <th>std</th>\n",
       "      <td>4.6098</td>\n",
       "      <td>4.6098</td>\n",
       "      <td>2.138482e+08</td>\n",
       "      <td>NaN</td>\n",
       "      <td>NaN</td>\n",
       "    </tr>\n",
       "    <tr>\n",
       "      <th>min</th>\n",
       "      <td>2005.0000</td>\n",
       "      <td>2005.0000</td>\n",
       "      <td>-2.334194e+00</td>\n",
       "      <td>NaN</td>\n",
       "      <td>NaN</td>\n",
       "    </tr>\n",
       "    <tr>\n",
       "      <th>25%</th>\n",
       "      <td>2008.7500</td>\n",
       "      <td>2008.7500</td>\n",
       "      <td>1.657375e+04</td>\n",
       "      <td>NaN</td>\n",
       "      <td>NaN</td>\n",
       "    </tr>\n",
       "    <tr>\n",
       "      <th>50%</th>\n",
       "      <td>2012.5000</td>\n",
       "      <td>2012.5000</td>\n",
       "      <td>3.523030e+05</td>\n",
       "      <td>NaN</td>\n",
       "      <td>NaN</td>\n",
       "    </tr>\n",
       "    <tr>\n",
       "      <th>75%</th>\n",
       "      <td>2016.2500</td>\n",
       "      <td>2016.2500</td>\n",
       "      <td>2.665769e+06</td>\n",
       "      <td>NaN</td>\n",
       "      <td>NaN</td>\n",
       "    </tr>\n",
       "    <tr>\n",
       "      <th>max</th>\n",
       "      <td>2020.0000</td>\n",
       "      <td>2020.0000</td>\n",
       "      <td>7.794799e+09</td>\n",
       "      <td>NaN</td>\n",
       "      <td>NaN</td>\n",
       "    </tr>\n",
       "  </tbody>\n",
       "</table>\n",
       "</div>"
      ],
      "text/plain": [
       "             TIME        Time         Value  Flag Codes  Flags\n",
       "count  81840.0000  81840.0000  8.184000e+04         0.0    0.0\n",
       "mean    2012.5000   2012.5000  2.725835e+07         NaN    NaN\n",
       "std        4.6098      4.6098  2.138482e+08         NaN    NaN\n",
       "min     2005.0000   2005.0000 -2.334194e+00         NaN    NaN\n",
       "25%     2008.7500   2008.7500  1.657375e+04         NaN    NaN\n",
       "50%     2012.5000   2012.5000  3.523030e+05         NaN    NaN\n",
       "75%     2016.2500   2016.2500  2.665769e+06         NaN    NaN\n",
       "max     2020.0000   2020.0000  7.794799e+09         NaN    NaN"
      ]
     },
     "execution_count": 37,
     "metadata": {},
     "output_type": "execute_result"
    }
   ],
   "source": [
    "historical_pop.describe()"
   ]
  },
  {
   "cell_type": "code",
   "execution_count": 38,
   "id": "10bf3c39",
   "metadata": {},
   "outputs": [
    {
     "data": {
      "text/plain": [
       "Index(['Country', 'SEX', 'Sex', 'AGE', 'Age', 'TIME', 'Time', 'Value',\n",
       "       'Flag Codes', 'Flags'],\n",
       "      dtype='object')"
      ]
     },
     "execution_count": 38,
     "metadata": {},
     "output_type": "execute_result"
    }
   ],
   "source": [
    "historical_pop.columns"
   ]
  },
  {
   "cell_type": "code",
   "execution_count": 39,
   "id": "517c1811",
   "metadata": {},
   "outputs": [
    {
     "name": "stdout",
     "output_type": "stream",
     "text": [
      "<class 'pandas.core.frame.DataFrame'>\n",
      "Index: 81840 entries, AUS to SVN\n",
      "Data columns (total 10 columns):\n",
      " #   Column      Non-Null Count  Dtype  \n",
      "---  ------      --------------  -----  \n",
      " 0   Country     81840 non-null  object \n",
      " 1   SEX         81840 non-null  object \n",
      " 2   Sex         81840 non-null  object \n",
      " 3   AGE         81840 non-null  object \n",
      " 4   Age         81840 non-null  object \n",
      " 5   TIME        81840 non-null  int64  \n",
      " 6   Time        81840 non-null  int64  \n",
      " 7   Value       81840 non-null  float64\n",
      " 8   Flag Codes  0 non-null      float64\n",
      " 9   Flags       0 non-null      float64\n",
      "dtypes: float64(3), int64(2), object(5)\n",
      "memory usage: 6.9+ MB\n"
     ]
    }
   ],
   "source": [
    "historical_pop.info()"
   ]
  },
  {
   "cell_type": "code",
   "execution_count": 40,
   "id": "7dad2d06",
   "metadata": {
    "scrolled": true
   },
   "outputs": [
    {
     "name": "stdout",
     "output_type": "stream",
     "text": [
      "['Australia' 'Austria' 'Belgium' 'Canada' 'Czech Republic' 'Denmark'\n",
      " 'Finland' 'France' 'Germany' 'Greece' 'Hungary' 'Iceland' 'Ireland'\n",
      " 'Italy' 'Japan' 'Korea' 'Luxembourg' 'Mexico' 'Netherlands' 'New Zealand'\n",
      " 'Norway' 'Poland' 'Portugal' 'Slovak Republic' 'Spain' 'Sweden'\n",
      " 'Switzerland' 'Turkey' 'United Kingdom' 'United States' 'Argentina'\n",
      " 'Brazil' 'Bulgaria' 'Chile' \"China (People's Republic of)\" 'Colombia'\n",
      " 'Costa Rica' 'Croatia' 'Cyprus' 'Estonia' 'India' 'Indonesia' 'Israel'\n",
      " 'Latvia' 'Lithuania' 'Malta' 'Romania' 'Russia' 'Saudi Arabia'\n",
      " 'Singapore' 'Slovenia' 'South Africa' 'World' 'G20' 'OECD - Total']\n"
     ]
    }
   ],
   "source": [
    "historical_pop_countries = historical_pop[\"Country\"].unique()\n",
    "print(historical_pop_countries)"
   ]
  },
  {
   "cell_type": "code",
   "execution_count": 41,
   "id": "d2f0dc5e",
   "metadata": {},
   "outputs": [
    {
     "name": "stdout",
     "output_type": "stream",
     "text": [
      "          SEX    Sex    AGE    Age  TIME  Time       Value  Flag Codes  Flags\n",
      "Country                                                                      \n",
      "Australia   W  Women  TOTAL  Total  2005  2005  10157211.0         NaN    NaN\n",
      "Australia   W  Women  TOTAL  Total  2006  2006  10291542.0         NaN    NaN\n",
      "Australia   W  Women  TOTAL  Total  2007  2007  10473986.0         NaN    NaN\n",
      "Australia   W  Women  TOTAL  Total  2008  2008  10677154.0         NaN    NaN\n",
      "Australia   W  Women  TOTAL  Total  2009  2009  10890856.0         NaN    NaN\n"
     ]
    }
   ],
   "source": [
    "historical_pop_countries_ind = historical_pop.set_index(\"Country\")\n",
    "print(historical_pop_countries_ind.head())"
   ]
  },
  {
   "cell_type": "code",
   "execution_count": 42,
   "id": "f2e05c0c",
   "metadata": {},
   "outputs": [
    {
     "name": "stdout",
     "output_type": "stream",
     "text": [
      "        SEX    Sex    AGE    Age  TIME  Time      Value  Flag Codes  Flags\n",
      "Country                                                                   \n",
      "Ireland   W  Women  TOTAL  Total  2005  2005  2072008.0         NaN    NaN\n",
      "Ireland   W  Women  TOTAL  Total  2006  2006  2115607.0         NaN    NaN\n",
      "Ireland   W  Women  TOTAL  Total  2007  2007  2184567.0         NaN    NaN\n",
      "Ireland   W  Women  TOTAL  Total  2008  2008  2246489.0         NaN    NaN\n",
      "Ireland   W  Women  TOTAL  Total  2009  2009  2276053.0         NaN    NaN\n"
     ]
    }
   ],
   "source": [
    "historical_pop_ireland = historical_pop.set_index(\"Country\").loc[\"Ireland\"]\n",
    "print(historical_pop_ireland.head())"
   ]
  },
  {
   "cell_type": "code",
   "execution_count": 43,
   "id": "e7d9d13f",
   "metadata": {
    "scrolled": false
   },
   "outputs": [
    {
     "data": {
      "text/plain": [
       "Text(0.5, 1.0, 'Global Population')"
      ]
     },
     "execution_count": 43,
     "metadata": {},
     "output_type": "execute_result"
    },
    {
     "data": {
      "image/png": "[encoded data removed]",
      "text/plain": [
       "<Figure size 720x360 with 1 Axes>"
      ]
     },
     "metadata": {
      "needs_background": "light"
     },
     "output_type": "display_data"
    }
   ],
   "source": [
    "fig, ax = plt.subplots(figsize=(10,5))\n",
    "sns.barplot(data=historical_pop_countries_ind, y='Value', x='Time', hue='Sex')\n",
    "plt.title('Global Population')"
   ]
  },
  {
   "cell_type": "markdown",
   "id": "b57f0e53",
   "metadata": {},
   "source": [
    "Checking missing values in the datasets."
   ]
  },
  {
   "cell_type": "code",
   "execution_count": 44,
   "id": "74e82ff1",
   "metadata": {
    "scrolled": true
   },
   "outputs": [
    {
     "name": "stdout",
     "output_type": "stream",
     "text": [
      "SEX               0\n",
      "Sex               0\n",
      "AGE               0\n",
      "Age               0\n",
      "TIME              0\n",
      "Time              0\n",
      "Value             0\n",
      "Flag Codes    81840\n",
      "Flags         81840\n",
      "dtype: int64\n"
     ]
    }
   ],
   "source": [
    "missing_values_historical_pop = historical_pop_countries_ind.isnull().sum()\n",
    "print(missing_values_historical_pop[:])"
   ]
  },
  {
   "cell_type": "code",
   "execution_count": 89,
   "id": "ae032949",
   "metadata": {},
   "outputs": [
    {
     "name": "stdout",
     "output_type": "stream",
     "text": [
      "(81840, 2) (81840, 9)\n"
     ]
    }
   ],
   "source": [
    "dropcolumns_historical_pop= historical_pop_countries_ind.drop(['Flag Codes','Flags', 'SEX','Sex','AGE','Time','Age'],axis=1)\n",
    "print(dropcolumns_historical_pop.shape,historical_pop_countries_ind.shape)"
   ]
  },
  {
   "cell_type": "code",
   "execution_count": 90,
   "id": "3234e973",
   "metadata": {
    "scrolled": false
   },
   "outputs": [
    {
     "data": {
      "text/html": [
       "<div>\n",
       "<style scoped>\n",
       "    .dataframe tbody tr th:only-of-type {\n",
       "        vertical-align: middle;\n",
       "    }\n",
       "\n",
       "    .dataframe tbody tr th {\n",
       "        vertical-align: top;\n",
       "    }\n",
       "\n",
       "    .dataframe thead th {\n",
       "        text-align: right;\n",
       "    }\n",
       "</style>\n",
       "<table border=\"1\" class=\"dataframe\">\n",
       "  <thead>\n",
       "    <tr style=\"text-align: right;\">\n",
       "      <th></th>\n",
       "      <th>TIME</th>\n",
       "      <th>Value</th>\n",
       "    </tr>\n",
       "    <tr>\n",
       "      <th>Country</th>\n",
       "      <th></th>\n",
       "      <th></th>\n",
       "    </tr>\n",
       "  </thead>\n",
       "  <tbody>\n",
       "    <tr>\n",
       "      <th>Australia</th>\n",
       "      <td>2005</td>\n",
       "      <td>10157211.0</td>\n",
       "    </tr>\n",
       "    <tr>\n",
       "      <th>Australia</th>\n",
       "      <td>2006</td>\n",
       "      <td>10291542.0</td>\n",
       "    </tr>\n",
       "    <tr>\n",
       "      <th>Australia</th>\n",
       "      <td>2007</td>\n",
       "      <td>10473986.0</td>\n",
       "    </tr>\n",
       "    <tr>\n",
       "      <th>Australia</th>\n",
       "      <td>2008</td>\n",
       "      <td>10677154.0</td>\n",
       "    </tr>\n",
       "    <tr>\n",
       "      <th>Australia</th>\n",
       "      <td>2009</td>\n",
       "      <td>10890856.0</td>\n",
       "    </tr>\n",
       "  </tbody>\n",
       "</table>\n",
       "</div>"
      ],
      "text/plain": [
       "           TIME       Value\n",
       "Country                    \n",
       "Australia  2005  10157211.0\n",
       "Australia  2006  10291542.0\n",
       "Australia  2007  10473986.0\n",
       "Australia  2008  10677154.0\n",
       "Australia  2009  10890856.0"
      ]
     },
     "execution_count": 90,
     "metadata": {},
     "output_type": "execute_result"
    }
   ],
   "source": [
    "dropcolumns_historical_pop.head()"
   ]
  },
  {
   "cell_type": "code",
   "execution_count": 91,
   "id": "cf40c672",
   "metadata": {},
   "outputs": [
    {
     "name": "stdout",
     "output_type": "stream",
     "text": [
      "           Year       Value\n",
      "Country                    \n",
      "Australia  2005  10157211.0\n",
      "Australia  2006  10291542.0\n",
      "Australia  2007  10473986.0\n",
      "Australia  2008  10677154.0\n",
      "Australia  2009  10890856.0\n"
     ]
    }
   ],
   "source": [
    "historical=dropcolumns_historical_pop.rename(columns = {'TIME' : 'Year', 'Value' : 'Value'})\n",
    "print(historical.head())"
   ]
  },
  {
   "cell_type": "code",
   "execution_count": 48,
   "id": "675c2acd",
   "metadata": {},
   "outputs": [
    {
     "name": "stdout",
     "output_type": "stream",
     "text": [
      "           Sex  TIME      Value\n",
      "Country                        \n",
      "Ireland  Women  2005  2072008.0\n",
      "Ireland  Women  2006  2115607.0\n",
      "Ireland  Women  2007  2184567.0\n",
      "Ireland  Women  2008  2246489.0\n",
      "Ireland  Women  2009  2276053.0\n"
     ]
    }
   ],
   "source": [
    "historical_Ireland = dropcolumns_historical_pop.filter(like='Ireland', axis=0)\n",
    "print(historical_Ireland.head())"
   ]
  },
  {
   "cell_type": "code",
   "execution_count": 49,
   "id": "6395f5bd",
   "metadata": {
    "scrolled": false
   },
   "outputs": [
    {
     "name": "stdout",
     "output_type": "stream",
     "text": [
      "LOCATION                    0\n",
      "VARIABLE                    0\n",
      "Variable                    0\n",
      "FREQUENCY                   0\n",
      "Frequency                   0\n",
      "TIME                        0\n",
      "Time                        0\n",
      "Unit Code                   0\n",
      "Unit                        0\n",
      "PowerCode Code              0\n",
      "PowerCode                   0\n",
      "Reference Period Code       0\n",
      "Reference Period            0\n",
      "Value                       0\n",
      "Flag Codes               1134\n",
      "Flags                    1134\n",
      "dtype: int64\n"
     ]
    }
   ],
   "source": [
    "missing_values_economic_countries = economic_countries.isnull().sum()\n",
    "print(missing_values_economic_countries[:])"
   ]
  },
  {
   "cell_type": "code",
   "execution_count": 50,
   "id": "cbe7bb02",
   "metadata": {},
   "outputs": [
    {
     "name": "stdout",
     "output_type": "stream",
     "text": [
      "(1134, 3) (1134, 16)\n"
     ]
    }
   ],
   "source": [
    "dropcolumns_economic= economic_countries.drop(['Flag Codes','Flags','FREQUENCY','Frequency','VARIABLE','Time', 'Unit Code', 'Unit','PowerCode Code','PowerCode','Reference Period Code','LOCATION','Reference Period'],axis=1)\n",
    "print(dropcolumns_economic.shape,economic_countries.shape)"
   ]
  },
  {
   "cell_type": "code",
   "execution_count": 51,
   "id": "44a4d3fd",
   "metadata": {
    "scrolled": true
   },
   "outputs": [
    {
     "data": {
      "text/html": [
       "<div>\n",
       "<style scoped>\n",
       "    .dataframe tbody tr th:only-of-type {\n",
       "        vertical-align: middle;\n",
       "    }\n",
       "\n",
       "    .dataframe tbody tr th {\n",
       "        vertical-align: top;\n",
       "    }\n",
       "\n",
       "    .dataframe thead th {\n",
       "        text-align: right;\n",
       "    }\n",
       "</style>\n",
       "<table border=\"1\" class=\"dataframe\">\n",
       "  <thead>\n",
       "    <tr style=\"text-align: right;\">\n",
       "      <th></th>\n",
       "      <th>Variable</th>\n",
       "      <th>TIME</th>\n",
       "      <th>Value</th>\n",
       "    </tr>\n",
       "    <tr>\n",
       "      <th>Country</th>\n",
       "      <th></th>\n",
       "      <th></th>\n",
       "      <th></th>\n",
       "    </tr>\n",
       "  </thead>\n",
       "  <tbody>\n",
       "    <tr>\n",
       "      <th>Australia</th>\n",
       "      <td>Gross domestic product, volume, growth</td>\n",
       "      <td>2003</td>\n",
       "      <td>2.921406</td>\n",
       "    </tr>\n",
       "    <tr>\n",
       "      <th>Australia</th>\n",
       "      <td>Gross domestic product, volume, growth</td>\n",
       "      <td>2004</td>\n",
       "      <td>3.970002</td>\n",
       "    </tr>\n",
       "    <tr>\n",
       "      <th>Australia</th>\n",
       "      <td>Gross domestic product, volume, growth</td>\n",
       "      <td>2005</td>\n",
       "      <td>3.060089</td>\n",
       "    </tr>\n",
       "    <tr>\n",
       "      <th>Australia</th>\n",
       "      <td>Gross domestic product, volume, growth</td>\n",
       "      <td>2006</td>\n",
       "      <td>2.756867</td>\n",
       "    </tr>\n",
       "    <tr>\n",
       "      <th>Australia</th>\n",
       "      <td>Gross domestic product, volume, growth</td>\n",
       "      <td>2007</td>\n",
       "      <td>4.429282</td>\n",
       "    </tr>\n",
       "  </tbody>\n",
       "</table>\n",
       "</div>"
      ],
      "text/plain": [
       "                                         Variable  TIME     Value\n",
       "Country                                                          \n",
       "Australia  Gross domestic product, volume, growth  2003  2.921406\n",
       "Australia  Gross domestic product, volume, growth  2004  3.970002\n",
       "Australia  Gross domestic product, volume, growth  2005  3.060089\n",
       "Australia  Gross domestic product, volume, growth  2006  2.756867\n",
       "Australia  Gross domestic product, volume, growth  2007  4.429282"
      ]
     },
     "execution_count": 51,
     "metadata": {},
     "output_type": "execute_result"
    }
   ],
   "source": [
    "dropcolumns_economic.head()"
   ]
  },
  {
   "cell_type": "code",
   "execution_count": 82,
   "id": "97a35fd5",
   "metadata": {},
   "outputs": [
    {
     "name": "stdout",
     "output_type": "stream",
     "text": [
      "                                         Variable  Year     Value\n",
      "Country                                                          \n",
      "Australia  Gross domestic product, volume, growth  2003  2.921406\n",
      "Australia  Gross domestic product, volume, growth  2004  3.970002\n",
      "Australia  Gross domestic product, volume, growth  2005  3.060089\n",
      "Australia  Gross domestic product, volume, growth  2006  2.756867\n",
      "Australia  Gross domestic product, volume, growth  2007  4.429282\n"
     ]
    }
   ],
   "source": [
    "economic=dropcolumns_economic.rename(columns = {'TIME' : 'Year', 'Variable' : 'Variable', 'Value' : 'Value'})\n",
    "print(economic.head())"
   ]
  },
  {
   "cell_type": "code",
   "execution_count": 53,
   "id": "7c952f31",
   "metadata": {
    "scrolled": true
   },
   "outputs": [
    {
     "name": "stdout",
     "output_type": "stream",
     "text": [
      "Country                     0\n",
      "VAR                         0\n",
      "YEA                         0\n",
      "Year                        0\n",
      "Unit Code                   0\n",
      "Unit                        0\n",
      "PowerCode Code              0\n",
      "PowerCode                   0\n",
      "Reference Period Code    4279\n",
      "Reference Period         4279\n",
      "Value                       0\n",
      "Flag Codes               2708\n",
      "Flags                    2708\n",
      "dtype: int64\n"
     ]
    }
   ],
   "source": [
    "missing_values_green_country = green.isnull().sum()\n",
    "print(missing_values_green_country[:])"
   ]
  },
  {
   "cell_type": "code",
   "execution_count": 54,
   "id": "a69e40e5",
   "metadata": {
    "scrolled": true
   },
   "outputs": [
    {
     "name": "stdout",
     "output_type": "stream",
     "text": [
      "                                       Variable  TIME      Value\n",
      "Country                                                         \n",
      "Ireland  Gross domestic product, volume, growth  2003   3.555808\n",
      "Ireland  Gross domestic product, volume, growth  2004   6.404289\n",
      "Ireland  Gross domestic product, volume, growth  2005   5.877199\n",
      "Ireland  Gross domestic product, volume, growth  2006   5.061423\n",
      "Ireland  Gross domestic product, volume, growth  2007   5.309162\n",
      "Ireland  Gross domestic product, volume, growth  2008  -4.574706\n",
      "Ireland  Gross domestic product, volume, growth  2009  -5.081486\n",
      "Ireland  Gross domestic product, volume, growth  2010   1.294209\n",
      "Ireland  Gross domestic product, volume, growth  2011   0.907993\n",
      "Ireland  Gross domestic product, volume, growth  2012  -0.145821\n",
      "Ireland  Gross domestic product, volume, growth  2013   1.585249\n",
      "Ireland  Gross domestic product, volume, growth  2014   8.477340\n",
      "Ireland  Gross domestic product, volume, growth  2015  25.358044\n",
      "Ireland  Gross domestic product, volume, growth  2016   2.360140\n",
      "Ireland  Gross domestic product, volume, growth  2017   9.146120\n",
      "Ireland  Gross domestic product, volume, growth  2018   9.172147\n",
      "Ireland  Gross domestic product, volume, growth  2019   5.104440\n",
      "Ireland  Gross domestic product, volume, growth  2020   5.841357\n",
      "Ireland  Gross domestic product, volume, growth  2021  15.169422\n",
      "Ireland  Gross domestic product, volume, growth  2022   5.679496\n",
      "Ireland  Gross domestic product, volume, growth  2023   3.850726\n"
     ]
    }
   ],
   "source": [
    "economic_Ireland = dropcolumns_economic.filter(like='Ireland', axis=0)\n",
    "print(economic_Ireland)"
   ]
  },
  {
   "cell_type": "code",
   "execution_count": 55,
   "id": "435c08dc",
   "metadata": {
    "scrolled": false
   },
   "outputs": [
    {
     "name": "stdout",
     "output_type": "stream",
     "text": [
      "(4279, 3) (4279, 13)\n"
     ]
    }
   ],
   "source": [
    "dropcolumns_green= green_country.drop(['Flag Codes','Flags','Reference Period Code','Reference Period','PowerCode Code','PowerCode','Unit Code','YEA', 'Unit'],axis=1)\n",
    "print(dropcolumns_green.shape,green.shape)"
   ]
  },
  {
   "cell_type": "code",
   "execution_count": 56,
   "id": "bd5e0585",
   "metadata": {
    "scrolled": true
   },
   "outputs": [
    {
     "data": {
      "text/html": [
       "<div>\n",
       "<style scoped>\n",
       "    .dataframe tbody tr th:only-of-type {\n",
       "        vertical-align: middle;\n",
       "    }\n",
       "\n",
       "    .dataframe tbody tr th {\n",
       "        vertical-align: top;\n",
       "    }\n",
       "\n",
       "    .dataframe thead th {\n",
       "        text-align: right;\n",
       "    }\n",
       "</style>\n",
       "<table border=\"1\" class=\"dataframe\">\n",
       "  <thead>\n",
       "    <tr style=\"text-align: right;\">\n",
       "      <th></th>\n",
       "      <th>VAR</th>\n",
       "      <th>Year</th>\n",
       "      <th>Value</th>\n",
       "    </tr>\n",
       "    <tr>\n",
       "      <th>Country</th>\n",
       "      <th></th>\n",
       "      <th></th>\n",
       "      <th></th>\n",
       "    </tr>\n",
       "  </thead>\n",
       "  <tbody>\n",
       "    <tr>\n",
       "      <th>Bulgaria</th>\n",
       "      <td>PA_TERRESTRIAL</td>\n",
       "      <td>1990</td>\n",
       "      <td>2.343140</td>\n",
       "    </tr>\n",
       "    <tr>\n",
       "      <th>Bulgaria</th>\n",
       "      <td>PA_TERRESTRIAL</td>\n",
       "      <td>1995</td>\n",
       "      <td>4.654114</td>\n",
       "    </tr>\n",
       "    <tr>\n",
       "      <th>Bulgaria</th>\n",
       "      <td>PA_TERRESTRIAL</td>\n",
       "      <td>2000</td>\n",
       "      <td>4.866177</td>\n",
       "    </tr>\n",
       "    <tr>\n",
       "      <th>Bulgaria</th>\n",
       "      <td>PA_TERRESTRIAL</td>\n",
       "      <td>2010</td>\n",
       "      <td>40.671747</td>\n",
       "    </tr>\n",
       "    <tr>\n",
       "      <th>Bulgaria</th>\n",
       "      <td>PA_TERRESTRIAL</td>\n",
       "      <td>2015</td>\n",
       "      <td>40.870565</td>\n",
       "    </tr>\n",
       "  </tbody>\n",
       "</table>\n",
       "</div>"
      ],
      "text/plain": [
       "                     VAR  Year      Value\n",
       "Country                                  \n",
       "Bulgaria  PA_TERRESTRIAL  1990   2.343140\n",
       "Bulgaria  PA_TERRESTRIAL  1995   4.654114\n",
       "Bulgaria  PA_TERRESTRIAL  2000   4.866177\n",
       "Bulgaria  PA_TERRESTRIAL  2010  40.671747\n",
       "Bulgaria  PA_TERRESTRIAL  2015  40.870565"
      ]
     },
     "execution_count": 56,
     "metadata": {},
     "output_type": "execute_result"
    }
   ],
   "source": [
    "dropcolumns_green.head()"
   ]
  },
  {
   "cell_type": "code",
   "execution_count": 80,
   "id": "02f7364a",
   "metadata": {},
   "outputs": [
    {
     "name": "stdout",
     "output_type": "stream",
     "text": [
      "                Variable  Year      Value\n",
      "Country                                  \n",
      "Bulgaria  PA_TERRESTRIAL  1990   2.343140\n",
      "Bulgaria  PA_TERRESTRIAL  1995   4.654114\n",
      "Bulgaria  PA_TERRESTRIAL  2000   4.866177\n",
      "Bulgaria  PA_TERRESTRIAL  2010  40.671747\n",
      "Bulgaria  PA_TERRESTRIAL  2015  40.870565\n"
     ]
    }
   ],
   "source": [
    "dropcolumns_green_final=dropcolumns_green.rename(columns = {'VAR' : 'Variable', 'Value' : 'Value'})\n",
    "print(dropcolumns_green_final.head())"
   ]
  },
  {
   "cell_type": "code",
   "execution_count": 58,
   "id": "fee808f8",
   "metadata": {},
   "outputs": [
    {
     "name": "stdout",
     "output_type": "stream",
     "text": [
      "['PA_TERRESTRIAL' 'PA_MARINE' 'POPDEN']\n"
     ]
    }
   ],
   "source": [
    "dropcolumns_green_final_variable = dropcolumns_green[\"VAR\"].unique()\n",
    "print(dropcolumns_green_final_variable)"
   ]
  },
  {
   "cell_type": "code",
   "execution_count": 59,
   "id": "8b47aad7",
   "metadata": {},
   "outputs": [
    {
     "data": {
      "text/plain": [
       "(4279, 3)"
      ]
     },
     "execution_count": 59,
     "metadata": {},
     "output_type": "execute_result"
    }
   ],
   "source": [
    "dropcolumns_green_final.shape"
   ]
  },
  {
   "cell_type": "code",
   "execution_count": 60,
   "id": "611bf14a",
   "metadata": {},
   "outputs": [
    {
     "name": "stdout",
     "output_type": "stream",
     "text": [
      "(1032, 5)\n"
     ]
    }
   ],
   "source": [
    "new_df = pd.merge(economic,dropcolumns_green_final, left_on=['Country','Year'], right_on=['Country', 'Year'], how='inner')\n",
    "print(new_df.shape)"
   ]
  },
  {
   "cell_type": "code",
   "execution_count": 61,
   "id": "125e66e9",
   "metadata": {
    "scrolled": true
   },
   "outputs": [
    {
     "data": {
      "text/html": [
       "<div>\n",
       "<style scoped>\n",
       "    .dataframe tbody tr th:only-of-type {\n",
       "        vertical-align: middle;\n",
       "    }\n",
       "\n",
       "    .dataframe tbody tr th {\n",
       "        vertical-align: top;\n",
       "    }\n",
       "\n",
       "    .dataframe thead th {\n",
       "        text-align: right;\n",
       "    }\n",
       "</style>\n",
       "<table border=\"1\" class=\"dataframe\">\n",
       "  <thead>\n",
       "    <tr style=\"text-align: right;\">\n",
       "      <th></th>\n",
       "      <th>Economic Variable</th>\n",
       "      <th>Year</th>\n",
       "      <th>GDP Value</th>\n",
       "      <th>Green Variable</th>\n",
       "      <th>Green Value</th>\n",
       "    </tr>\n",
       "    <tr>\n",
       "      <th>Country</th>\n",
       "      <th></th>\n",
       "      <th></th>\n",
       "      <th></th>\n",
       "      <th></th>\n",
       "      <th></th>\n",
       "    </tr>\n",
       "  </thead>\n",
       "  <tbody>\n",
       "    <tr>\n",
       "      <th>Australia</th>\n",
       "      <td>Gross domestic product, volume, growth</td>\n",
       "      <td>2010</td>\n",
       "      <td>2.448044</td>\n",
       "      <td>PA_TERRESTRIAL</td>\n",
       "      <td>11.461127</td>\n",
       "    </tr>\n",
       "    <tr>\n",
       "      <th>Australia</th>\n",
       "      <td>Gross domestic product, volume, growth</td>\n",
       "      <td>2010</td>\n",
       "      <td>2.448044</td>\n",
       "      <td>PA_MARINE</td>\n",
       "      <td>6.002622</td>\n",
       "    </tr>\n",
       "    <tr>\n",
       "      <th>Australia</th>\n",
       "      <td>Gross domestic product, volume, growth</td>\n",
       "      <td>2010</td>\n",
       "      <td>2.448044</td>\n",
       "      <td>POPDEN</td>\n",
       "      <td>2.846031</td>\n",
       "    </tr>\n",
       "    <tr>\n",
       "      <th>Australia</th>\n",
       "      <td>Gross domestic product, volume, growth</td>\n",
       "      <td>2015</td>\n",
       "      <td>2.297318</td>\n",
       "      <td>PA_TERRESTRIAL</td>\n",
       "      <td>18.277165</td>\n",
       "    </tr>\n",
       "    <tr>\n",
       "      <th>Australia</th>\n",
       "      <td>Gross domestic product, volume, growth</td>\n",
       "      <td>2015</td>\n",
       "      <td>2.297318</td>\n",
       "      <td>PA_MARINE</td>\n",
       "      <td>11.252445</td>\n",
       "    </tr>\n",
       "  </tbody>\n",
       "</table>\n",
       "</div>"
      ],
      "text/plain": [
       "                                Economic Variable  Year  GDP Value  \\\n",
       "Country                                                              \n",
       "Australia  Gross domestic product, volume, growth  2010   2.448044   \n",
       "Australia  Gross domestic product, volume, growth  2010   2.448044   \n",
       "Australia  Gross domestic product, volume, growth  2010   2.448044   \n",
       "Australia  Gross domestic product, volume, growth  2015   2.297318   \n",
       "Australia  Gross domestic product, volume, growth  2015   2.297318   \n",
       "\n",
       "           Green Variable  Green Value  \n",
       "Country                                 \n",
       "Australia  PA_TERRESTRIAL    11.461127  \n",
       "Australia       PA_MARINE     6.002622  \n",
       "Australia          POPDEN     2.846031  \n",
       "Australia  PA_TERRESTRIAL    18.277165  \n",
       "Australia       PA_MARINE    11.252445  "
      ]
     },
     "execution_count": 61,
     "metadata": {},
     "output_type": "execute_result"
    }
   ],
   "source": [
    "new_df.head()"
   ]
  },
  {
   "cell_type": "code",
   "execution_count": 62,
   "id": "8505ebfc",
   "metadata": {},
   "outputs": [
    {
     "name": "stdout",
     "output_type": "stream",
     "text": [
      "(83979, 7)\n"
     ]
    }
   ],
   "source": [
    "final_df = pd.merge(new_df, historical, left_on=['Country','Year'], right_on=['Country', 'Year'], how='inner')\n",
    "print(final_df.shape)"
   ]
  },
  {
   "cell_type": "code",
   "execution_count": 63,
   "id": "61fe8a05",
   "metadata": {
    "scrolled": false
   },
   "outputs": [
    {
     "name": "stdout",
     "output_type": "stream",
     "text": [
      "<class 'pandas.core.frame.DataFrame'>\n",
      "Index: 83979 entries, Australia to Lithuania\n",
      "Data columns (total 7 columns):\n",
      " #   Column             Non-Null Count  Dtype  \n",
      "---  ------             --------------  -----  \n",
      " 0   Economic Variable  83979 non-null  object \n",
      " 1   Year               83979 non-null  int64  \n",
      " 2   GDP Value          83979 non-null  float64\n",
      " 3   Green Variable     83979 non-null  object \n",
      " 4   Green Value        83979 non-null  float64\n",
      " 5   Sex                83979 non-null  object \n",
      " 6   Population Value   83979 non-null  float64\n",
      "dtypes: float64(3), int64(1), object(3)\n",
      "memory usage: 5.1+ MB\n"
     ]
    }
   ],
   "source": [
    "final_df.info()"
   ]
  },
  {
   "cell_type": "code",
   "execution_count": 64,
   "id": "f93fff9f",
   "metadata": {
    "scrolled": true
   },
   "outputs": [
    {
     "data": {
      "text/html": [
       "<div>\n",
       "<style scoped>\n",
       "    .dataframe tbody tr th:only-of-type {\n",
       "        vertical-align: middle;\n",
       "    }\n",
       "\n",
       "    .dataframe tbody tr th {\n",
       "        vertical-align: top;\n",
       "    }\n",
       "\n",
       "    .dataframe thead th {\n",
       "        text-align: right;\n",
       "    }\n",
       "</style>\n",
       "<table border=\"1\" class=\"dataframe\">\n",
       "  <thead>\n",
       "    <tr style=\"text-align: right;\">\n",
       "      <th></th>\n",
       "      <th>Economic Variable</th>\n",
       "      <th>Year</th>\n",
       "      <th>GDP Value</th>\n",
       "      <th>Green Variable</th>\n",
       "      <th>Green Value</th>\n",
       "      <th>Sex</th>\n",
       "      <th>Population Value</th>\n",
       "    </tr>\n",
       "    <tr>\n",
       "      <th>Country</th>\n",
       "      <th></th>\n",
       "      <th></th>\n",
       "      <th></th>\n",
       "      <th></th>\n",
       "      <th></th>\n",
       "      <th></th>\n",
       "      <th></th>\n",
       "    </tr>\n",
       "  </thead>\n",
       "  <tbody>\n",
       "    <tr>\n",
       "      <th>Australia</th>\n",
       "      <td>Gross domestic product, volume, growth</td>\n",
       "      <td>2010</td>\n",
       "      <td>2.448044</td>\n",
       "      <td>PA_TERRESTRIAL</td>\n",
       "      <td>11.461127</td>\n",
       "      <td>Women</td>\n",
       "      <td>11063919.0</td>\n",
       "    </tr>\n",
       "    <tr>\n",
       "      <th>Australia</th>\n",
       "      <td>Gross domestic product, volume, growth</td>\n",
       "      <td>2010</td>\n",
       "      <td>2.448044</td>\n",
       "      <td>PA_TERRESTRIAL</td>\n",
       "      <td>11.461127</td>\n",
       "      <td>Men</td>\n",
       "      <td>10967831.0</td>\n",
       "    </tr>\n",
       "    <tr>\n",
       "      <th>Australia</th>\n",
       "      <td>Gross domestic product, volume, growth</td>\n",
       "      <td>2010</td>\n",
       "      <td>2.448044</td>\n",
       "      <td>PA_TERRESTRIAL</td>\n",
       "      <td>11.461127</td>\n",
       "      <td>Total</td>\n",
       "      <td>22031750.0</td>\n",
       "    </tr>\n",
       "    <tr>\n",
       "      <th>Australia</th>\n",
       "      <td>Gross domestic product, volume, growth</td>\n",
       "      <td>2010</td>\n",
       "      <td>2.448044</td>\n",
       "      <td>PA_TERRESTRIAL</td>\n",
       "      <td>11.461127</td>\n",
       "      <td>Women</td>\n",
       "      <td>707690.0</td>\n",
       "    </tr>\n",
       "    <tr>\n",
       "      <th>Australia</th>\n",
       "      <td>Gross domestic product, volume, growth</td>\n",
       "      <td>2010</td>\n",
       "      <td>2.448044</td>\n",
       "      <td>PA_TERRESTRIAL</td>\n",
       "      <td>11.461127</td>\n",
       "      <td>Men</td>\n",
       "      <td>746322.0</td>\n",
       "    </tr>\n",
       "  </tbody>\n",
       "</table>\n",
       "</div>"
      ],
      "text/plain": [
       "                                Economic Variable  Year  GDP Value  \\\n",
       "Country                                                              \n",
       "Australia  Gross domestic product, volume, growth  2010   2.448044   \n",
       "Australia  Gross domestic product, volume, growth  2010   2.448044   \n",
       "Australia  Gross domestic product, volume, growth  2010   2.448044   \n",
       "Australia  Gross domestic product, volume, growth  2010   2.448044   \n",
       "Australia  Gross domestic product, volume, growth  2010   2.448044   \n",
       "\n",
       "           Green Variable  Green Value    Sex  Population Value  \n",
       "Country                                                          \n",
       "Australia  PA_TERRESTRIAL    11.461127  Women        11063919.0  \n",
       "Australia  PA_TERRESTRIAL    11.461127    Men        10967831.0  \n",
       "Australia  PA_TERRESTRIAL    11.461127  Total        22031750.0  \n",
       "Australia  PA_TERRESTRIAL    11.461127  Women          707690.0  \n",
       "Australia  PA_TERRESTRIAL    11.461127    Men          746322.0  "
      ]
     },
     "execution_count": 64,
     "metadata": {},
     "output_type": "execute_result"
    }
   ],
   "source": [
    "final_df.head()"
   ]
  },
  {
   "cell_type": "code",
   "execution_count": 65,
   "id": "2910f621",
   "metadata": {
    "scrolled": true
   },
   "outputs": [
    {
     "data": {
      "text/html": [
       "<div>\n",
       "<style scoped>\n",
       "    .dataframe tbody tr th:only-of-type {\n",
       "        vertical-align: middle;\n",
       "    }\n",
       "\n",
       "    .dataframe tbody tr th {\n",
       "        vertical-align: top;\n",
       "    }\n",
       "\n",
       "    .dataframe thead th {\n",
       "        text-align: right;\n",
       "    }\n",
       "</style>\n",
       "<table border=\"1\" class=\"dataframe\">\n",
       "  <thead>\n",
       "    <tr style=\"text-align: right;\">\n",
       "      <th></th>\n",
       "      <th>Year</th>\n",
       "      <th>GDP Value</th>\n",
       "      <th>Green Value</th>\n",
       "      <th>Population Value</th>\n",
       "    </tr>\n",
       "  </thead>\n",
       "  <tbody>\n",
       "    <tr>\n",
       "      <th>count</th>\n",
       "      <td>83979.000000</td>\n",
       "      <td>83979.000000</td>\n",
       "      <td>83979.000000</td>\n",
       "      <td>8.397900e+04</td>\n",
       "    </tr>\n",
       "    <tr>\n",
       "      <th>mean</th>\n",
       "      <td>2016.428571</td>\n",
       "      <td>1.848470</td>\n",
       "      <td>49.657461</td>\n",
       "      <td>2.650796e+07</td>\n",
       "    </tr>\n",
       "    <tr>\n",
       "      <th>std</th>\n",
       "      <td>3.063963</td>\n",
       "      <td>3.731591</td>\n",
       "      <td>86.414662</td>\n",
       "      <td>2.148217e+08</td>\n",
       "    </tr>\n",
       "    <tr>\n",
       "      <th>min</th>\n",
       "      <td>2010.000000</td>\n",
       "      <td>-10.822961</td>\n",
       "      <td>0.060095</td>\n",
       "      <td>-2.276966e+00</td>\n",
       "    </tr>\n",
       "    <tr>\n",
       "      <th>25%</th>\n",
       "      <td>2015.000000</td>\n",
       "      <td>1.092191</td>\n",
       "      <td>11.461127</td>\n",
       "      <td>3.496800e+04</td>\n",
       "    </tr>\n",
       "    <tr>\n",
       "      <th>50%</th>\n",
       "      <td>2017.000000</td>\n",
       "      <td>2.284608</td>\n",
       "      <td>20.043359</td>\n",
       "      <td>5.392650e+05</td>\n",
       "    </tr>\n",
       "    <tr>\n",
       "      <th>75%</th>\n",
       "      <td>2019.000000</td>\n",
       "      <td>3.652081</td>\n",
       "      <td>40.703388</td>\n",
       "      <td>3.446653e+06</td>\n",
       "    </tr>\n",
       "    <tr>\n",
       "      <th>max</th>\n",
       "      <td>2020.000000</td>\n",
       "      <td>25.358044</td>\n",
       "      <td>515.742800</td>\n",
       "      <td>7.794799e+09</td>\n",
       "    </tr>\n",
       "  </tbody>\n",
       "</table>\n",
       "</div>"
      ],
      "text/plain": [
       "               Year     GDP Value   Green Value  Population Value\n",
       "count  83979.000000  83979.000000  83979.000000      8.397900e+04\n",
       "mean    2016.428571      1.848470     49.657461      2.650796e+07\n",
       "std        3.063963      3.731591     86.414662      2.148217e+08\n",
       "min     2010.000000    -10.822961      0.060095     -2.276966e+00\n",
       "25%     2015.000000      1.092191     11.461127      3.496800e+04\n",
       "50%     2017.000000      2.284608     20.043359      5.392650e+05\n",
       "75%     2019.000000      3.652081     40.703388      3.446653e+06\n",
       "max     2020.000000     25.358044    515.742800      7.794799e+09"
      ]
     },
     "execution_count": 65,
     "metadata": {},
     "output_type": "execute_result"
    }
   ],
   "source": [
    "final_df.describe()"
   ]
  },
  {
   "cell_type": "code",
   "execution_count": 66,
   "id": "612987b7",
   "metadata": {
    "scrolled": true
   },
   "outputs": [
    {
     "data": {
      "text/plain": [
       "Text(0.5, 1.0, 'Test')"
      ]
     },
     "execution_count": 66,
     "metadata": {},
     "output_type": "execute_result"
    },
    {
     "data": {
      "image/png": "[encoded data removed]",
      "text/plain": [
       "<Figure size 720x504 with 1 Axes>"
      ]
     },
     "metadata": {
      "needs_background": "light"
     },
     "output_type": "display_data"
    }
   ],
   "source": [
    "fig, ax = plt.subplots(figsize=(10,7))\n",
    "sns.barplot(data=final_df, y='Green Value', x='Year', hue='Green Variable')\n",
    "plt.title('Test')"
   ]
  },
  {
   "cell_type": "code",
   "execution_count": 92,
   "id": "b636e4fc",
   "metadata": {
    "scrolled": false
   },
   "outputs": [
    {
     "name": "stdout",
     "output_type": "stream",
     "text": [
      "                                         Variable  Year     Value\n",
      "Country                                                          \n",
      "Australia  Gross domestic product, volume, growth  2003  2.921406\n",
      "Australia  Gross domestic product, volume, growth  2004  3.970002\n",
      "Australia  Gross domestic product, volume, growth  2005  3.060089\n",
      "Australia  Gross domestic product, volume, growth  2006  2.756867\n",
      "Australia  Gross domestic product, volume, growth  2007  4.429282\n"
     ]
    }
   ],
   "source": [
    "concat_df = pd.concat([economic,dropcolumns_green_final, historical])\n",
    "print(concat_df.head())"
   ]
  },
  {
   "cell_type": "code",
   "execution_count": 93,
   "id": "1603a8f5",
   "metadata": {
    "scrolled": true
   },
   "outputs": [
    {
     "name": "stdout",
     "output_type": "stream",
     "text": [
      "<class 'pandas.core.frame.DataFrame'>\n",
      "Index: 87253 entries, Australia to Slovenia\n",
      "Data columns (total 3 columns):\n",
      " #   Column    Non-Null Count  Dtype  \n",
      "---  ------    --------------  -----  \n",
      " 0   Variable  5413 non-null   object \n",
      " 1   Year      87253 non-null  int64  \n",
      " 2   Value     87253 non-null  float64\n",
      "dtypes: float64(1), int64(1), object(1)\n",
      "memory usage: 2.7+ MB\n"
     ]
    }
   ],
   "source": [
    "concat_df.info()"
   ]
  },
  {
   "cell_type": "code",
   "execution_count": 94,
   "id": "e5b9cf3b",
   "metadata": {
    "scrolled": true
   },
   "outputs": [
    {
     "name": "stdout",
     "output_type": "stream",
     "text": [
      "Variable    81840\n",
      "Year            0\n",
      "Value           0\n",
      "dtype: int64\n"
     ]
    }
   ],
   "source": [
    "missing_values_concat_df = concat_df.isnull().sum()\n",
    "print(missing_values_concat_df[:])"
   ]
  },
  {
   "cell_type": "code",
   "execution_count": 95,
   "id": "75b0df55",
   "metadata": {
    "scrolled": true
   },
   "outputs": [
    {
     "name": "stdout",
     "output_type": "stream",
     "text": [
      "['Gross domestic product, volume, growth' 'PA_TERRESTRIAL' 'PA_MARINE'\n",
      " 'POPDEN' nan]\n"
     ]
    }
   ],
   "source": [
    "concat_df_unique = concat_df[\"Variable\"].unique()\n",
    "print(concat_df_unique)"
   ]
  },
  {
   "cell_type": "code",
   "execution_count": 96,
   "id": "359f421e",
   "metadata": {},
   "outputs": [
    {
     "data": {
      "text/plain": [
       "Text(0.5, 1.0, 'Test')"
      ]
     },
     "execution_count": 96,
     "metadata": {},
     "output_type": "execute_result"
    },
    {
     "data": {
      "image/png": "[encoded data removed]",
      "text/plain": [
       "<Figure size 720x504 with 1 Axes>"
      ]
     },
     "metadata": {
      "needs_background": "light"
     },
     "output_type": "display_data"
    }
   ],
   "source": [
    "fig, ax = plt.subplots(figsize=(10,7))\n",
    "sns.barplot(data=concat_df, y='Value', x='Year', hue='Variable')\n",
    "plt.title('Test')"
   ]
  }
 ],
 "metadata": {
  "kernelspec": {
   "display_name": "Python 3",
   "language": "python",
   "name": "python3"
  },
  "language_info": {
   "codemirror_mode": {
    "name": "ipython",
    "version": 3
   },
   "file_extension": ".py",
   "mimetype": "text/x-python",
   "name": "python",
   "nbconvert_exporter": "python",
   "pygments_lexer": "ipython3",
   "version": "3.8.8"
  }
 },
 "nbformat": 4,
 "nbformat_minor": 5
}
